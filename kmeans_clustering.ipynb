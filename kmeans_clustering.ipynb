{
 "cells": [
  {
   "cell_type": "markdown",
   "metadata": {},
   "source": [
    "# Customer Personality Analysis with KMeans\n",
    "Data source: https://www.kaggle.com/imakash3011/customer-personality-analysis\n",
    "\n",
    "The analysis will assist the company to classify each customers into segment based on their similarities in purchasing the product and also know the products that are mostly purchased by each customers segment so as to channel the product to them explicitly inorder to increase the avaliabity of the major demanding product by each segment and reduce the excess of less demanding product.\n",
    "\n",
    "For the customer personality analysis KMeans clustering algorithm was used to segment the customers into groups based on their purchased activity."
   ]
  },
  {
   "cell_type": "markdown",
   "metadata": {},
   "source": [
    "## Importing libraries and data"
   ]
  },
  {
   "cell_type": "code",
   "execution_count": 1,
   "metadata": {},
   "outputs": [],
   "source": [
    "import numpy as np\n",
    "import pandas as pd\n",
    "import matplotlib.pyplot as plt\n",
    "import seaborn as sns\n",
    "sns.set()\n",
    "import datetime as dt\n",
    "import plotly.express as px\n",
    "\n",
    "import sklearn\n",
    "from sklearn.preprocessing import StandardScaler\n",
    "\n",
    "import warnings\n",
    "warnings.filterwarnings('ignore')\n",
    "\n",
    "pd.set_option('display.max_columns', None)\n",
    "pd.set_option('display.max_rows', None)"
   ]
  },
  {
   "cell_type": "code",
   "execution_count": 2,
   "metadata": {},
   "outputs": [
    {
     "data": {
      "text/html": [
       "<div>\n",
       "<style scoped>\n",
       "    .dataframe tbody tr th:only-of-type {\n",
       "        vertical-align: middle;\n",
       "    }\n",
       "\n",
       "    .dataframe tbody tr th {\n",
       "        vertical-align: top;\n",
       "    }\n",
       "\n",
       "    .dataframe thead th {\n",
       "        text-align: right;\n",
       "    }\n",
       "</style>\n",
       "<table border=\"1\" class=\"dataframe\">\n",
       "  <thead>\n",
       "    <tr style=\"text-align: right;\">\n",
       "      <th></th>\n",
       "      <th>ID</th>\n",
       "      <th>Year_Birth</th>\n",
       "      <th>Education</th>\n",
       "      <th>Marital_Status</th>\n",
       "      <th>Income</th>\n",
       "      <th>Kidhome</th>\n",
       "      <th>Teenhome</th>\n",
       "      <th>Dt_Customer</th>\n",
       "      <th>Recency</th>\n",
       "      <th>MntWines</th>\n",
       "      <th>MntFruits</th>\n",
       "      <th>MntMeatProducts</th>\n",
       "      <th>MntFishProducts</th>\n",
       "      <th>MntSweetProducts</th>\n",
       "      <th>MntGoldProds</th>\n",
       "      <th>NumDealsPurchases</th>\n",
       "      <th>NumWebPurchases</th>\n",
       "      <th>NumCatalogPurchases</th>\n",
       "      <th>NumStorePurchases</th>\n",
       "      <th>NumWebVisitsMonth</th>\n",
       "      <th>AcceptedCmp3</th>\n",
       "      <th>AcceptedCmp4</th>\n",
       "      <th>AcceptedCmp5</th>\n",
       "      <th>AcceptedCmp1</th>\n",
       "      <th>AcceptedCmp2</th>\n",
       "      <th>Complain</th>\n",
       "      <th>Z_CostContact</th>\n",
       "      <th>Z_Revenue</th>\n",
       "      <th>Response</th>\n",
       "    </tr>\n",
       "  </thead>\n",
       "  <tbody>\n",
       "    <tr>\n",
       "      <th>0</th>\n",
       "      <td>5524</td>\n",
       "      <td>1957</td>\n",
       "      <td>Graduation</td>\n",
       "      <td>Single</td>\n",
       "      <td>58138.0</td>\n",
       "      <td>0</td>\n",
       "      <td>0</td>\n",
       "      <td>04-09-2012</td>\n",
       "      <td>58</td>\n",
       "      <td>635</td>\n",
       "      <td>88</td>\n",
       "      <td>546</td>\n",
       "      <td>172</td>\n",
       "      <td>88</td>\n",
       "      <td>88</td>\n",
       "      <td>3</td>\n",
       "      <td>8</td>\n",
       "      <td>10</td>\n",
       "      <td>4</td>\n",
       "      <td>7</td>\n",
       "      <td>0</td>\n",
       "      <td>0</td>\n",
       "      <td>0</td>\n",
       "      <td>0</td>\n",
       "      <td>0</td>\n",
       "      <td>0</td>\n",
       "      <td>3</td>\n",
       "      <td>11</td>\n",
       "      <td>1</td>\n",
       "    </tr>\n",
       "    <tr>\n",
       "      <th>1</th>\n",
       "      <td>2174</td>\n",
       "      <td>1954</td>\n",
       "      <td>Graduation</td>\n",
       "      <td>Single</td>\n",
       "      <td>46344.0</td>\n",
       "      <td>1</td>\n",
       "      <td>1</td>\n",
       "      <td>08-03-2014</td>\n",
       "      <td>38</td>\n",
       "      <td>11</td>\n",
       "      <td>1</td>\n",
       "      <td>6</td>\n",
       "      <td>2</td>\n",
       "      <td>1</td>\n",
       "      <td>6</td>\n",
       "      <td>2</td>\n",
       "      <td>1</td>\n",
       "      <td>1</td>\n",
       "      <td>2</td>\n",
       "      <td>5</td>\n",
       "      <td>0</td>\n",
       "      <td>0</td>\n",
       "      <td>0</td>\n",
       "      <td>0</td>\n",
       "      <td>0</td>\n",
       "      <td>0</td>\n",
       "      <td>3</td>\n",
       "      <td>11</td>\n",
       "      <td>0</td>\n",
       "    </tr>\n",
       "    <tr>\n",
       "      <th>2</th>\n",
       "      <td>4141</td>\n",
       "      <td>1965</td>\n",
       "      <td>Graduation</td>\n",
       "      <td>Together</td>\n",
       "      <td>71613.0</td>\n",
       "      <td>0</td>\n",
       "      <td>0</td>\n",
       "      <td>21-08-2013</td>\n",
       "      <td>26</td>\n",
       "      <td>426</td>\n",
       "      <td>49</td>\n",
       "      <td>127</td>\n",
       "      <td>111</td>\n",
       "      <td>21</td>\n",
       "      <td>42</td>\n",
       "      <td>1</td>\n",
       "      <td>8</td>\n",
       "      <td>2</td>\n",
       "      <td>10</td>\n",
       "      <td>4</td>\n",
       "      <td>0</td>\n",
       "      <td>0</td>\n",
       "      <td>0</td>\n",
       "      <td>0</td>\n",
       "      <td>0</td>\n",
       "      <td>0</td>\n",
       "      <td>3</td>\n",
       "      <td>11</td>\n",
       "      <td>0</td>\n",
       "    </tr>\n",
       "    <tr>\n",
       "      <th>3</th>\n",
       "      <td>6182</td>\n",
       "      <td>1984</td>\n",
       "      <td>Graduation</td>\n",
       "      <td>Together</td>\n",
       "      <td>26646.0</td>\n",
       "      <td>1</td>\n",
       "      <td>0</td>\n",
       "      <td>10-02-2014</td>\n",
       "      <td>26</td>\n",
       "      <td>11</td>\n",
       "      <td>4</td>\n",
       "      <td>20</td>\n",
       "      <td>10</td>\n",
       "      <td>3</td>\n",
       "      <td>5</td>\n",
       "      <td>2</td>\n",
       "      <td>2</td>\n",
       "      <td>0</td>\n",
       "      <td>4</td>\n",
       "      <td>6</td>\n",
       "      <td>0</td>\n",
       "      <td>0</td>\n",
       "      <td>0</td>\n",
       "      <td>0</td>\n",
       "      <td>0</td>\n",
       "      <td>0</td>\n",
       "      <td>3</td>\n",
       "      <td>11</td>\n",
       "      <td>0</td>\n",
       "    </tr>\n",
       "    <tr>\n",
       "      <th>4</th>\n",
       "      <td>5324</td>\n",
       "      <td>1981</td>\n",
       "      <td>PhD</td>\n",
       "      <td>Married</td>\n",
       "      <td>58293.0</td>\n",
       "      <td>1</td>\n",
       "      <td>0</td>\n",
       "      <td>19-01-2014</td>\n",
       "      <td>94</td>\n",
       "      <td>173</td>\n",
       "      <td>43</td>\n",
       "      <td>118</td>\n",
       "      <td>46</td>\n",
       "      <td>27</td>\n",
       "      <td>15</td>\n",
       "      <td>5</td>\n",
       "      <td>5</td>\n",
       "      <td>3</td>\n",
       "      <td>6</td>\n",
       "      <td>5</td>\n",
       "      <td>0</td>\n",
       "      <td>0</td>\n",
       "      <td>0</td>\n",
       "      <td>0</td>\n",
       "      <td>0</td>\n",
       "      <td>0</td>\n",
       "      <td>3</td>\n",
       "      <td>11</td>\n",
       "      <td>0</td>\n",
       "    </tr>\n",
       "  </tbody>\n",
       "</table>\n",
       "</div>"
      ],
      "text/plain": [
       "     ID  Year_Birth   Education Marital_Status   Income  Kidhome  Teenhome  \\\n",
       "0  5524        1957  Graduation         Single  58138.0        0         0   \n",
       "1  2174        1954  Graduation         Single  46344.0        1         1   \n",
       "2  4141        1965  Graduation       Together  71613.0        0         0   \n",
       "3  6182        1984  Graduation       Together  26646.0        1         0   \n",
       "4  5324        1981         PhD        Married  58293.0        1         0   \n",
       "\n",
       "  Dt_Customer  Recency  MntWines  MntFruits  MntMeatProducts  MntFishProducts  \\\n",
       "0  04-09-2012       58       635         88              546              172   \n",
       "1  08-03-2014       38        11          1                6                2   \n",
       "2  21-08-2013       26       426         49              127              111   \n",
       "3  10-02-2014       26        11          4               20               10   \n",
       "4  19-01-2014       94       173         43              118               46   \n",
       "\n",
       "   MntSweetProducts  MntGoldProds  NumDealsPurchases  NumWebPurchases  \\\n",
       "0                88            88                  3                8   \n",
       "1                 1             6                  2                1   \n",
       "2                21            42                  1                8   \n",
       "3                 3             5                  2                2   \n",
       "4                27            15                  5                5   \n",
       "\n",
       "   NumCatalogPurchases  NumStorePurchases  NumWebVisitsMonth  AcceptedCmp3  \\\n",
       "0                   10                  4                  7             0   \n",
       "1                    1                  2                  5             0   \n",
       "2                    2                 10                  4             0   \n",
       "3                    0                  4                  6             0   \n",
       "4                    3                  6                  5             0   \n",
       "\n",
       "   AcceptedCmp4  AcceptedCmp5  AcceptedCmp1  AcceptedCmp2  Complain  \\\n",
       "0             0             0             0             0         0   \n",
       "1             0             0             0             0         0   \n",
       "2             0             0             0             0         0   \n",
       "3             0             0             0             0         0   \n",
       "4             0             0             0             0         0   \n",
       "\n",
       "   Z_CostContact  Z_Revenue  Response  \n",
       "0              3         11         1  \n",
       "1              3         11         0  \n",
       "2              3         11         0  \n",
       "3              3         11         0  \n",
       "4              3         11         0  "
      ]
     },
     "execution_count": 2,
     "metadata": {},
     "output_type": "execute_result"
    }
   ],
   "source": [
    "df = pd.read_csv('marketing_campaign.csv', sep = '\\t')  \n",
    "df.head()"
   ]
  },
  {
   "cell_type": "markdown",
   "metadata": {},
   "source": [
    "## Data preprocessing:\n",
    "###  Data cleaning\n",
    "To remove errors and modify incorrect input"
   ]
  },
  {
   "cell_type": "code",
   "execution_count": 3,
   "metadata": {
    "scrolled": false
   },
   "outputs": [
    {
     "name": "stdout",
     "output_type": "stream",
     "text": [
      "Examing 'MARKETING DATA'\n",
      "Rows and column shape: (2240, 29)\n",
      "\n",
      "<class 'pandas.core.frame.DataFrame'>\n",
      "RangeIndex: 2240 entries, 0 to 2239\n",
      "Data columns (total 29 columns):\n",
      " #   Column               Non-Null Count  Dtype  \n",
      "---  ------               --------------  -----  \n",
      " 0   ID                   2240 non-null   int64  \n",
      " 1   Year_Birth           2240 non-null   int64  \n",
      " 2   Education            2240 non-null   object \n",
      " 3   Marital_Status       2240 non-null   object \n",
      " 4   Income               2216 non-null   float64\n",
      " 5   Kidhome              2240 non-null   int64  \n",
      " 6   Teenhome             2240 non-null   int64  \n",
      " 7   Dt_Customer          2240 non-null   object \n",
      " 8   Recency              2240 non-null   int64  \n",
      " 9   MntWines             2240 non-null   int64  \n",
      " 10  MntFruits            2240 non-null   int64  \n",
      " 11  MntMeatProducts      2240 non-null   int64  \n",
      " 12  MntFishProducts      2240 non-null   int64  \n",
      " 13  MntSweetProducts     2240 non-null   int64  \n",
      " 14  MntGoldProds         2240 non-null   int64  \n",
      " 15  NumDealsPurchases    2240 non-null   int64  \n",
      " 16  NumWebPurchases      2240 non-null   int64  \n",
      " 17  NumCatalogPurchases  2240 non-null   int64  \n",
      " 18  NumStorePurchases    2240 non-null   int64  \n",
      " 19  NumWebVisitsMonth    2240 non-null   int64  \n",
      " 20  AcceptedCmp3         2240 non-null   int64  \n",
      " 21  AcceptedCmp4         2240 non-null   int64  \n",
      " 22  AcceptedCmp5         2240 non-null   int64  \n",
      " 23  AcceptedCmp1         2240 non-null   int64  \n",
      " 24  AcceptedCmp2         2240 non-null   int64  \n",
      " 25  Complain             2240 non-null   int64  \n",
      " 26  Z_CostContact        2240 non-null   int64  \n",
      " 27  Z_Revenue            2240 non-null   int64  \n",
      " 28  Response             2240 non-null   int64  \n",
      "dtypes: float64(1), int64(25), object(3)\n",
      "memory usage: 507.6+ KB\n",
      "None\n",
      "\n",
      "Duplicate values:\n",
      " No duplicate in the MARKETING DATA.\n",
      "\n",
      "Missing values:\n"
     ]
    },
    {
     "data": {
      "image/png": "[encoded data removed]",
      "text/plain": [
       "<Figure size 432x288 with 1 Axes>"
      ]
     },
     "metadata": {},
     "output_type": "display_data"
    }
   ],
   "source": [
    "def examine_data(data, data_name = 'data'):\n",
    "    print(f\"Examing '{data_name}'\")\n",
    "    print(f'Rows and column shape: {df.shape}\\n')\n",
    "    print(f'{df.info()}\\n')\n",
    "\n",
    "\n",
    "    # duplicate values\n",
    "    duplicate = df.duplicated().sum()\n",
    "    if duplicate == 0:\n",
    "        print(f'Duplicate values:\\n No duplicate in the {data_name}.\\n')\n",
    "    else:\n",
    "        print(f'There are {duplicate} duplicate in the {data_name}.\\n')\n",
    "        \n",
    "    # missing values\n",
    "    print('Missing values:')\n",
    "    missing = pd.DataFrame(df.isna().sum().to_frame().reset_index().\\\n",
    "    rename({'index': 'variables', 0: 'missing_values'}, axis = 1))\n",
    "    nan_rows = missing[missing['missing_values'] > 0]\n",
    "    if nan_rows['missing_values'].sum() > 0:\n",
    "        nan_rows.plot(x = 'variables', y = 'missing_values', kind = 'barh') \n",
    "        plt.title('Missing values')\n",
    "        plt.grid()\n",
    "    else:\n",
    "        print(f'There are no missing values in {data_name}.') \n",
    "    \n",
    "examine_data(df, data_name = 'MARKETING DATA')"
   ]
  },
  {
   "cell_type": "markdown",
   "metadata": {},
   "source": [
    "Check income distribution to handle missing rows"
   ]
  },
  {
   "cell_type": "code",
   "execution_count": 4,
   "metadata": {},
   "outputs": [
    {
     "data": {
      "application/vnd.plotly.v1+json": {
       "config": {
        "plotlyServerURL": "https://plot.ly"
       },
       "data": [
        {
         "alignmentgroup": "True",
         "bingroup": "x",
         "hovertemplate": "Income=%{x}<br>count=%{y}<extra></extra>",
         "legendgroup": "",
         "marker": {
          "color": "darkblue",
          "pattern": {
           "shape": ""
          }
         },
         "name": "",
         "offsetgroup": "",
         "orientation": "v",
         "showlegend": false,
         "type": "histogram",
         "x": [
          58138,
          46344,
          71613,
          26646,
          58293,
          62513,
          55635,
          33454,
          30351,
          5648,
          null,
          7500,
          63033,
          59354,
          17323,
          82800,
          41850,
          37760,
          76995,
          33812,
          37040,
          2447,
          58607,
          65324,
          40689,
          18589,
          53359,
          null,
          38360,
          84618,
          10979,
          38620,
          40548,
          46610,
          68657,
          49389,
          67353,
          23718,
          42429,
          48948,
          80011,
          20559,
          21994,
          null,
          7500,
          79941,
          7500,
          41728,
          null,
          72550,
          65486,
          79143,
          35790,
          82582,
          66373,
          82384,
          70287,
          27938,
          null,
          55954,
          75777,
          66653,
          61823,
          67680,
          70666,
          25721,
          32474,
          88194,
          69096,
          74854,
          66991,
          null,
          65031,
          60631,
          28332,
          40246,
          75251,
          75825,
          26326,
          56046,
          29760,
          26304,
          23559,
          38620,
          81361,
          29440,
          36138,
          50388,
          79593,
          54178,
          null,
          null,
          null,
          42394,
          23626,
          30096,
          47916,
          51813,
          78497,
          50150,
          47823,
          34554,
          85693,
          65846,
          87195,
          24594,
          49096,
          52413,
          38557,
          89058,
          77298,
          68126,
          57288,
          86037,
          43974,
          50785,
          90765,
          36550,
          30753,
          21918,
          56129,
          32557,
          19510,
          30992,
          101970,
          71488,
          79607,
          54348,
          null,
          77376,
          62998,
          61331,
          73448,
          null,
          41551,
          62981,
          9548,
          33762,
          35860,
          36921,
          92859,
          65104,
          86111,
          68352,
          41883,
          59809,
          23957,
          38547,
          35688,
          49605,
          59354,
          65747,
          46344,
          34176,
          61010,
          69372,
          49967,
          60199,
          55375,
          80317,
          30523,
          70356,
          23228,
          74165,
          157243,
          43482,
          62551,
          52332,
          66951,
          26091,
          33456,
          28718,
          50447,
          53537,
          52074,
          80427,
          83837,
          38853,
          38285,
          78497,
          51650,
          16248,
          66835,
          30477,
          28249,
          25271,
          32303,
          61286,
          74068,
          45759,
          24882,
          66973,
          36640,
          38872,
          51148,
          31353,
          69661,
          80067,
          86718,
          46854,
          69142,
          75922,
          63693,
          102160,
          40637,
          18890,
          29604,
          48721,
          44794,
          64497,
          46097,
          77972,
          44377,
          46014,
          70951,
          41443,
          52195,
          83790,
          44551,
          69508,
          45204,
          72460,
          77622,
          30732,
          63887,
          42011,
          51369,
          51537,
          79930,
          34320,
          37070,
          81975,
          38590,
          15033,
          62745,
          22212,
          23661,
          79761,
          7500,
          60182,
          73455,
          64961,
          22804,
          73687,
          61074,
          31686,
          80134,
          75027,
          67546,
          65176,
          31160,
          29938,
          102692,
          26490,
          75702,
          30899,
          63342,
          45989,
          18701,
          40737,
          15287,
          69674,
          44159,
          37717,
          43776,
          38179,
          80124,
          38097,
          72940,
          22070,
          69267,
          31788,
          61905,
          29315,
          33378,
          66313,
          60714,
          77882,
          69867,
          63841,
          24480,
          51369,
          37760,
          65640,
          44319,
          30631,
          75278,
          50898,
          79946,
          35416,
          32414,
          38361,
          82497,
          16626,
          29672,
          55951,
          35388,
          42386,
          68627,
          57912,
          35246,
          58821,
          46377,
          39747,
          23976,
          80950,
          27038,
          77457,
          64100,
          42670,
          12571,
          22574,
          null,
          70893,
          54198,
          28839,
          40321,
          66503,
          30833,
          null,
          64795,
          34421,
          47025,
          64325,
          40464,
          62187,
          14849,
          27255,
          54432,
          29999,
          24072,
          33996,
          66334,
          35178,
          22010,
          62204,
          75693,
          30675,
          83003,
          83532,
          68655,
          41411,
          55212,
          59292,
          27190,
          82623,
          44300,
          84835,
          30372,
          33181,
          71113,
          71952,
          69759,
          72099,
          60000,
          38643,
          50737,
          68462,
          65073,
          46681,
          78618,
          62187,
          28442,
          37717,
          51479,
          54803,
          79530,
          31615,
          72025,
          52614,
          35684,
          48178,
          29548,
          63810,
          38578,
          46098,
          22585,
          30279,
          66426,
          30822,
          33581,
          19986,
          27421,
          35688,
          36143,
          10245,
          43795,
          63381,
          38823,
          83664,
          90300,
          62499,
          74293,
          51012,
          70777,
          68682,
          43824,
          15345,
          23442,
          14515,
          31395,
          75276,
          42373,
          30507,
          55521,
          48006,
          27213,
          65808,
          30351,
          50437,
          23616,
          53858,
          66465,
          46923,
          75072,
          75865,
          19789,
          80134,
          91065,
          49505,
          37401,
          30096,
          18492,
          82584,
          93027,
          48686,
          92910,
          75433,
          10404,
          61314,
          84865,
          42387,
          67309,
          75236,
          30015,
          50943,
          67272,
          51529,
          32011,
          7500,
          28691,
          56223,
          18100,
          30279,
          20130,
          23295,
          42618,
          81246,
          24027,
          55707,
          57959,
          56796,
          36230,
          70829,
          65991,
          38988,
          89572,
          42207,
          50300,
          66664,
          60597,
          70165,
          50520,
          80124,
          33183,
          66582,
          75261,
          31880,
          53790,
          49269,
          61456,
          37406,
          56937,
          38415,
          20518,
          62503,
          41644,
          55842,
          62010,
          41124,
          38961,
          37760,
          32233,
          43057,
          83151,
          78825,
          65104,
          60093,
          14045,
          28457,
          78952,
          46310,
          76005,
          58308,
          55614,
          59432,
          55563,
          78642,
          67911,
          65275,
          27203,
          48330,
          24279,
          64355,
          50943,
          53653,
          65665,
          81217,
          34935,
          61250,
          39665,
          60152,
          48920,
          89120,
          44124,
          81169,
          36443,
          26095,
          71367,
          80184,
          30630,
          73454,
          42691,
          70503,
          25545,
          32880,
          77863,
          50353,
          61839,
          49154,
          47682,
          72679,
          57954,
          65316,
          28567,
          47352,
          44931,
          76982,
          57247,
          22944,
          25315,
          43638,
          42710,
          84169,
          54058,
          24683,
          85620,
          47850,
          19514,
          27159,
          39548,
          21474,
          60504,
          22419,
          81698,
          43462,
          54880,
          79908,
          15315,
          87771,
          33039,
          81741,
          71499,
          62466,
          48799,
          52157,
          66565,
          29298,
          47691,
          38200,
          44989,
          38443,
          38593,
          64413,
          36959,
          61996,
          51287,
          13260,
          47472,
          54603,
          45207,
          40689,
          47821,
          27450,
          39453,
          26850,
          79800,
          61794,
          53863,
          24221,
          39684,
          92163,
          69882,
          33178,
          59973,
          17459,
          23910,
          42169,
          26224,
          31089,
          30081,
          62807,
          72906,
          61467,
          49618,
          21888,
          42429,
          26150,
          30801,
          81168,
          26877,
          45006,
          18978,
          22574,
          48240,
          45837,
          35791,
          162397,
          54162,
          30522,
          54456,
          31632,
          72298,
          36975,
          72635,
          13624,
          84196,
          70971,
          34487,
          28769,
          69084,
          65488,
          62466,
          32218,
          83917,
          46102,
          84574,
          56181,
          63120,
          73691,
          63381,
          76140,
          62859,
          45906,
          77632,
          46463,
          105471,
          55282,
          78710,
          66886,
          98777,
          29103,
          67445,
          50616,
          49431,
          153924,
          61278,
          26490,
          73059,
          46734,
          56253,
          19986,
          58330,
          25965,
          14661,
          18690,
          45068,
          21063,
          29187,
          54690,
          59304,
          59247,
          66731,
          77353,
          52614,
          26751,
          81300,
          70337,
          36145,
          65295,
          68118,
          68743,
          41039,
          38946,
          65777,
          66476,
          86857,
          160803,
          77845,
          69476,
          50611,
          61209,
          42315,
          13084,
          47570,
          61923,
          34824,
          26518,
          45938,
          78468,
          78901,
          71427,
          71022,
          90247,
          41335,
          71952,
          35682,
          43185,
          66375,
          35178,
          25252,
          55250,
          33249,
          58398,
          50272,
          76618,
          87305,
          25851,
          58710,
          45160,
          74806,
          59111,
          18988,
          72190,
          7500,
          44794,
          80395,
          75012,
          56962,
          89891,
          35946,
          53593,
          66373,
          45072,
          89694,
          72025,
          67432,
          70545,
          17487,
          62882,
          64108,
          34941,
          48767,
          38702,
          82224,
          83844,
          17003,
          71163,
          33697,
          63564,
          83443,
          51518,
          58330,
          80952,
          75507,
          63855,
          62220,
          58512,
          40662,
          38829,
          35523,
          79146,
          78285,
          31626,
          75127,
          48726,
          74985,
          67430,
          46891,
          62058,
          72063,
          78939,
          42720,
          33622,
          6835,
          41452,
          40760,
          74250,
          51124,
          72258,
          71466,
          36283,
          20587,
          30467,
          31590,
          20425,
          17144,
          42564,
          43783,
          40780,
          62847,
          82017,
          16813,
          51267,
          46524,
          45183,
          70421,
          60161,
          73926,
          19329,
          61872,
          46984,
          34838,
          82716,
          48192,
          49681,
          56850,
          55267,
          59666,
          72504,
          26872,
          21359,
          73170,
          52750,
          91820,
          65968,
          30772,
          22507,
          65685,
          25804,
          76412,
          22063,
          57091,
          22419,
          87771,
          78353,
          93404,
          37859,
          80995,
          16529,
          55412,
          48789,
          56575,
          25130,
          35441,
          71391,
          49494,
          81702,
          45889,
          56628,
          34026,
          40049,
          34176,
          19419,
          82504,
          81205,
          61618,
          55284,
          49980,
          15072,
          49166,
          65324,
          82347,
          30843,
          46374,
          60474,
          38576,
          55357,
          37758,
          85710,
          23228,
          44602,
          7500,
          38683,
          49514,
          57906,
          43456,
          19485,
          53172,
          30545,
          70123,
          62450,
          21675,
          42395,
          61346,
          80812,
          42835,
          39922,
          86424,
          17117,
          24762,
          35797,
          36627,
          51111,
          86857,
          82072,
          46231,
          42243,
          51195,
          68092,
          31814,
          51390,
          76630,
          26868,
          48948,
          55260,
          64090,
          78331,
          37087,
          21846,
          81320,
          54137,
          66825,
          57100,
          58917,
          85072,
          86429,
          45684,
          47889,
          45921,
          78420,
          75114,
          52278,
          35641,
          95529,
          62820,
          73113,
          84169,
          42607,
          74637,
          46015,
          72354,
          39858,
          34469,
          83033,
          24401,
          77583,
          74116,
          74293,
          68397,
          79632,
          46107,
          64950,
          25443,
          75127,
          32892,
          71796,
          67536,
          55239,
          60554,
          64831,
          56067,
          82025,
          94384,
          14906,
          51563,
          57937,
          68274,
          39771,
          67893,
          27922,
          52190,
          44051,
          42767,
          46106,
          16927,
          59754,
          53700,
          59041,
          54237,
          70647,
          52597,
          41021,
          40233,
          50183,
          54753,
          92955,
          33471,
          34596,
          44010,
          84219,
          40706,
          15716,
          59052,
          80573,
          83715,
          82576,
          56962,
          35704,
          53103,
          46779,
          4861,
          33462,
          63693,
          80763,
          65352,
          82170,
          75759,
          79689,
          35340,
          85683,
          24884,
          42021,
          64449,
          64587,
          34824,
          75437,
          26091,
          52845,
          46086,
          78028,
          95169,
          56337,
          22434,
          36930,
          36130,
          65569,
          83844,
          19514,
          36736,
          77568,
          49187,
          30168,
          34053,
          38196,
          59412,
          70924,
          54165,
          32300,
          20180,
          34961,
          28440,
          64504,
          33564,
          17345,
          56320,
          28647,
          15038,
          32173,
          68316,
          74538,
          91700,
          68695,
          31056,
          79593,
          28071,
          37334,
          46423,
          37126,
          47703,
          61180,
          38998,
          8028,
          76081,
          34728,
          33168,
          33585,
          77037,
          35196,
          44529,
          70924,
          28764,
          69098,
          25959,
          27100,
          70596,
          42557,
          53312,
          72228,
          67605,
          62845,
          65196,
          42000,
          35860,
          65526,
          16860,
          83528,
          64176,
          22304,
          67023,
          32892,
          70713,
          59925,
          39722,
          46610,
          88347,
          87171,
          26907,
          50014,
          41014,
          66294,
          36715,
          79456,
          40479,
          75345,
          54233,
          24163,
          84460,
          43776,
          71691,
          85844,
          39190,
          71367,
          38578,
          57236,
          61825,
          79803,
          80910,
          27590,
          56775,
          83829,
          54210,
          38508,
          53187,
          30023,
          76045,
          50870,
          15315,
          65463,
          66480,
          76773,
          81698,
          54466,
          98777,
          16269,
          71819,
          33569,
          36262,
          22634,
          47025,
          70566,
          31605,
          52034,
          48526,
          46734,
          39552,
          86358,
          46931,
          16581,
          63998,
          67381,
          25930,
          42693,
          85606,
          72903,
          49669,
          36778,
          85696,
          10979,
          49678,
          56129,
          37155,
          21282,
          33419,
          63285,
          21255,
          42162,
          54450,
          57744,
          26576,
          57513,
          68142,
          7500,
          83145,
          54197,
          23091,
          46049,
          56715,
          79410,
          57304,
          44375,
          54450,
          59594,
          80685,
          40344,
          62710,
          48985,
          35322,
          77142,
          81657,
          14421,
          20130,
          74214,
          66726,
          23724,
          47353,
          33444,
          54386,
          28510,
          90638,
          48070,
          43140,
          54959,
          15056,
          26954,
          22327,
          44393,
          62000,
          31497,
          45894,
          78579,
          67369,
          58401,
          62307,
          43641,
          63841,
          46891,
          70091,
          78075,
          59184,
          54809,
          58113,
          51412,
          15287,
          66636,
          50965,
          84618,
          18351,
          40451,
          36317,
          42213,
          65748,
          77044,
          74918,
          56721,
          42160,
          61559,
          33629,
          68682,
          34377,
          8940,
          26228,
          77297,
          40211,
          33438,
          75032,
          61284,
          22518,
          54730,
          38452,
          44421,
          38197,
          41986,
          28427,
          37395,
          64722,
          55249,
          84906,
          28691,
          44213,
          25707,
          59062,
          76624,
          66000,
          27683,
          1730,
          7500,
          40521,
          20427,
          65106,
          69969,
          67433,
          77766,
          74716,
          68118,
          55158,
          62972,
          74190,
          39356,
          76653,
          35860,
          90687,
          73450,
          31454,
          47139,
          83829,
          53378,
          19656,
          45579,
          85485,
          55956,
          64191,
          38808,
          57183,
          23748,
          66303,
          37368,
          40800,
          71847,
          46149,
          78687,
          49118,
          37633,
          39767,
          26997,
          33986,
          57091,
          46831,
          83151,
          52531,
          15759,
          22804,
          43050,
          42997,
          48918,
          60033,
          34043,
          57811,
          78569,
          7500,
          157733,
          94384,
          23148,
          44267,
          71626,
          60894,
          50200,
          81051,
          65169,
          59868,
          65695,
          64857,
          45143,
          74805,
          59060,
          27238,
          47009,
          46094,
          40321,
          37235,
          81843,
          46692,
          77382,
          37774,
          18393,
          72828,
          24711,
          45503,
          6560,
          71604,
          27244,
          48752,
          71434,
          90842,
          88097,
          51948,
          71853,
          35876,
          40049,
          39660,
          50127,
          43263,
          62845,
          18929,
          24367,
          33249,
          26887,
          50150,
          62061,
          85696,
          76542,
          70515,
          18227,
          69139,
          69109,
          69627,
          38136,
          62159,
          80695,
          33316,
          58554,
          17256,
          53034,
          52203,
          59601,
          75154,
          47025,
          37971,
          41335,
          67267,
          57338,
          50523,
          35791,
          50611,
          56242,
          48904,
          56243,
          21355,
          57420,
          null,
          46390,
          54342,
          null,
          null,
          20895,
          92344,
          null,
          26907,
          44964,
          75507,
          53761,
          22682,
          38887,
          41658,
          29791,
          63915,
          39996,
          26759,
          63841,
          51039,
          60544,
          65685,
          37716,
          36864,
          44511,
          36947,
          47352,
          67087,
          57045,
          36957,
          69389,
          80134,
          43142,
          80589,
          34412,
          57537,
          22634,
          51315,
          36026,
          24639,
          34578,
          65704,
          63810,
          54132,
          18690,
          28164,
          34596,
          43269,
          38741,
          31907,
          27100,
          31163,
          92533,
          34853,
          70844,
          31086,
          60544,
          20491,
          42523,
          39922,
          33402,
          36408,
          21645,
          78427,
          82657,
          51876,
          78041,
          52852,
          70038,
          69401,
          46053,
          77343,
          73892,
          40304,
          32727,
          68695,
          43300,
          26290,
          93790,
          38410,
          64866,
          57957,
          46015,
          16531,
          28072,
          49476,
          50725,
          83844,
          41145,
          67419,
          23162,
          34380,
          34704,
          94871,
          65148,
          39898,
          64857,
          59892,
          41020,
          57072,
          60474,
          62807,
          19414,
          19107,
          75484,
          70379,
          79419,
          64014,
          76998,
          49854,
          60585,
          42873,
          87679,
          57867,
          35765,
          65492,
          32952,
          53374,
          71706,
          68487,
          53253,
          31163,
          42014,
          54108,
          49667,
          63206,
          57136,
          46772,
          78931,
          53977,
          84219,
          46098,
          73538,
          79529,
          20981,
          51766,
          55759,
          33039,
          37787,
          27242,
          87188,
          69930,
          37697,
          37401,
          3502,
          58597,
          82032,
          28087,
          74004,
          19740,
          57036,
          53083,
          69283,
          46098,
          23331,
          23331,
          9255,
          67786,
          71969,
          59235,
          31928,
          74881,
          65819,
          51411,
          51983,
          42386,
          30390,
          30983,
          66033,
          37284,
          57530,
          76800,
          63943,
          76081,
          67445,
          37054,
          47175,
          31859,
          27215,
          70179,
          39922,
          49681,
          24645,
          79865,
          44322,
          47958,
          63972,
          75315,
          55517,
          75283,
          82800,
          38998,
          90638,
          27161,
          42014,
          38201,
          45203,
          81574,
          34935,
          60482,
          34633,
          78093,
          82460,
          45903,
          81361,
          35860,
          40442,
          61482,
          34968,
          75794,
          31497,
          74268,
          13724,
          45143,
          52569,
          48432,
          17144,
          36108,
          76445,
          36663,
          53843,
          90226,
          70638,
          44512,
          27116,
          54072,
          71855,
          51250,
          60432,
          65526,
          68655,
          12393,
          64509,
          33955,
          31353,
          55434,
          28359,
          57100,
          69139,
          52973,
          51717,
          18793,
          66664,
          50664,
          54414,
          54549,
          47111,
          41003,
          19444,
          36301,
          73059,
          42731,
          52854,
          22775,
          46681,
          59821,
          50002,
          69755,
          44078,
          30560,
          35924,
          64140,
          56386,
          24594,
          75774,
          39228,
          58494,
          58684,
          57136,
          56551,
          22448,
          82014,
          34213,
          157146,
          25358,
          35544,
          36634,
          62670,
          50334,
          72066,
          50729,
          34916,
          64892,
          43602,
          33996,
          41473,
          63246,
          36732,
          69084,
          77766,
          37929,
          86610,
          80141,
          72635,
          69016,
          20193,
          27573,
          15862,
          49544,
          33228,
          70440,
          38232,
          22554,
          23536,
          49413,
          42231,
          78789,
          56534,
          58350,
          81217,
          49090,
          61787,
          18169,
          24336,
          18222,
          62335,
          42033,
          86580,
          41437,
          73705,
          61064,
          38452,
          18358,
          55012,
          9722,
          38175,
          58656,
          52117,
          64813,
          54222,
          83512,
          77520,
          41154,
          80398,
          18746,
          35196,
          60230,
          22108,
          44392,
          55424,
          17688,
          92491,
          90273,
          82571,
          38513,
          16653,
          42586,
          23529,
          74881,
          71107,
          46910,
          18690,
          37244,
          82427,
          75342,
          70044,
          79146,
          77437,
          54984,
          42403,
          55761,
          37292,
          45576,
          70321,
          58086,
          81795,
          28389,
          66835,
          69901,
          80360,
          63342,
          44989,
          31859,
          51569,
          30372,
          16014,
          41120,
          39763,
          38725,
          77981,
          62905,
          13533,
          59481,
          72117,
          21955,
          67131,
          36802,
          71853,
          28249,
          47808,
          25509,
          51012,
          70596,
          85431,
          42664,
          42586,
          29760,
          28973,
          39435,
          65370,
          20194,
          42473,
          64590,
          71232,
          34600,
          46904,
          49094,
          36075,
          60839,
          77298,
          34026,
          48918,
          82122,
          37697,
          34074,
          28520,
          62535,
          36273,
          63404,
          75774,
          78416,
          75702,
          59385,
          37070,
          44689,
          53977,
          7144,
          18701,
          90369,
          63159,
          37758,
          46757,
          79734,
          63207,
          72071,
          21840,
          58582,
          72282,
          50387,
          32583,
          62568,
          44635,
          33316,
          63967,
          52513,
          25293,
          54111,
          78394,
          80739,
          22669,
          29236,
          44911,
          54693,
          48186,
          54809,
          41580,
          80336,
          47743,
          62972,
          57333,
          32313,
          84953,
          27071,
          68148,
          65735,
          86836,
          4023,
          30093,
          57705,
          25008,
          83257,
          22280,
          72159,
          64260,
          82733,
          74290,
          58217,
          21024,
          70116,
          54006,
          69063,
          11448,
          61825,
          70886,
          69109,
          60208,
          32889,
          34738,
          30538,
          82326,
          26642,
          69932,
          44503,
          60200,
          49638,
          23830,
          33051,
          72905,
          69702,
          70300,
          70643,
          30396,
          50616,
          62772,
          30298,
          52413,
          44155,
          86979,
          76532,
          42081,
          67546,
          88420,
          31158,
          61671,
          69719,
          49160,
          24882,
          90933,
          113734,
          59292,
          45759,
          22148,
          73395,
          29819,
          45688,
          62820,
          60491,
          33235,
          35701,
          31535,
          92556,
          67384,
          80573,
          77870,
          52278,
          57107,
          18929,
          36038,
          20180,
          34230,
          31878,
          70932,
          91249,
          77598,
          80982,
          22701,
          55212,
          70617,
          64849,
          62694,
          61917,
          67472,
          21059,
          29543,
          75903,
          34984,
          54998,
          54356,
          34242,
          25410,
          73356,
          28320,
          23763,
          72570,
          34529,
          70792,
          63211,
          83891,
          36065,
          39898,
          51141,
          56939,
          80872,
          72335,
          61798,
          76842,
          29478,
          46998,
          96843,
          56551,
          70053,
          71670,
          44359,
          40887,
          48877,
          74485,
          64474,
          77226,
          72643,
          85738,
          55686,
          39062,
          34600,
          40794,
          54690,
          4428,
          32632,
          38236,
          36781,
          31385,
          24570,
          25509,
          94642,
          58646,
          53201,
          21994,
          57113,
          51373,
          23477,
          58116,
          72968,
          39791,
          91712,
          94472,
          13672,
          96547,
          79205,
          56559,
          32644,
          67506,
          24206,
          28420,
          22979,
          33279,
          46423,
          30368,
          63684,
          41638,
          68805,
          65814,
          71964,
          39146,
          96876,
          34445,
          68281,
          37284,
          36790,
          27943,
          22263,
          30261,
          28587,
          43815,
          48195,
          77027,
          71322,
          32765,
          29672,
          23272,
          49912,
          7500,
          68117,
          67225,
          17649,
          55914,
          40059,
          60905,
          75330,
          60689,
          38680,
          61416,
          49767,
          83273,
          29009,
          45057,
          37150,
          43020,
          53154,
          65308,
          76467,
          81044,
          32871,
          55801,
          76320,
          36927,
          48794,
          23478,
          71128,
          70179,
          59462,
          null,
          38361,
          null,
          70038,
          42554,
          67445,
          67046,
          42192,
          77610,
          31761,
          34350,
          54591,
          71866,
          25293,
          42000,
          69520,
          64713,
          27889,
          22123,
          null,
          null,
          27803,
          null,
          51651,
          68487,
          null,
          56796,
          87000,
          79823,
          30828,
          34109,
          53367,
          22390,
          71322,
          79244,
          49912,
          48699,
          80144,
          54252,
          81929,
          76068,
          53204,
          67911,
          14796,
          78128,
          14188,
          20425,
          58646,
          72967,
          48150,
          82332,
          58275,
          44953,
          34587,
          43018,
          45736,
          66476,
          27733,
          69805,
          72217,
          25818,
          37509,
          25176,
          43586,
          53230,
          50116,
          84906,
          61286,
          82333,
          65220,
          33590,
          30992,
          72309,
          156924,
          16005,
          65487,
          58692,
          40590,
          20587,
          62637,
          29435,
          19346,
          35788,
          36997,
          23539,
          65333,
          78499,
          29732,
          41275,
          63516,
          42769,
          49572,
          69209,
          17148,
          40590,
          30560,
          32146,
          41713,
          34176,
          58482,
          59686,
          60896,
          62994,
          47320,
          74859,
          15253,
          31560,
          72071,
          91172,
          90000,
          41967,
          69263,
          65706,
          60934,
          71965,
          65210,
          79174,
          81380,
          48432,
          52914,
          38946,
          26067,
          44325,
          42523,
          26487,
          53233,
          67716,
          76234,
          84117,
          65487,
          25224,
          89616,
          40851,
          27469,
          82347,
          73803,
          8820,
          43322,
          55593,
          50501,
          37085,
          16185,
          57731,
          48432,
          73807,
          18929,
          35893,
          61014,
          32144,
          14918,
          45146,
          41769,
          88325,
          38054,
          80617,
          5305,
          36807,
          28427,
          82032,
          22775,
          40101,
          58025,
          75777,
          7500,
          33562,
          57642,
          58554,
          63777,
          57967,
          null,
          24434,
          11012,
          44802,
          26816,
          666666,
          34421,
          61223,
          64014,
          56981,
          69245,
          52869
         ],
         "xaxis": "x",
         "yaxis": "y"
        }
       ],
       "layout": {
        "barmode": "relative",
        "height": 300,
        "legend": {
         "tracegroupgap": 0
        },
        "margin": {
         "t": 60
        },
        "template": {
         "data": {
          "bar": [
           {
            "error_x": {
             "color": "#2a3f5f"
            },
            "error_y": {
             "color": "#2a3f5f"
            },
            "marker": {
             "line": {
              "color": "#E5ECF6",
              "width": 0.5
             },
             "pattern": {
              "fillmode": "overlay",
              "size": 10,
              "solidity": 0.2
             }
            },
            "type": "bar"
           }
          ],
          "barpolar": [
           {
            "marker": {
             "line": {
              "color": "#E5ECF6",
              "width": 0.5
             },
             "pattern": {
              "fillmode": "overlay",
              "size": 10,
              "solidity": 0.2
             }
            },
            "type": "barpolar"
           }
          ],
          "carpet": [
           {
            "aaxis": {
             "endlinecolor": "#2a3f5f",
             "gridcolor": "white",
             "linecolor": "white",
             "minorgridcolor": "white",
             "startlinecolor": "#2a3f5f"
            },
            "baxis": {
             "endlinecolor": "#2a3f5f",
             "gridcolor": "white",
             "linecolor": "white",
             "minorgridcolor": "white",
             "startlinecolor": "#2a3f5f"
            },
            "type": "carpet"
           }
          ],
          "choropleth": [
           {
            "colorbar": {
             "outlinewidth": 0,
             "ticks": ""
            },
            "type": "choropleth"
           }
          ],
          "contour": [
           {
            "colorbar": {
             "outlinewidth": 0,
             "ticks": ""
            },
            "colorscale": [
             [
              0,
              "#0d0887"
             ],
             [
              0.1111111111111111,
              "#46039f"
             ],
             [
              0.2222222222222222,
              "#7201a8"
             ],
             [
              0.3333333333333333,
              "#9c179e"
             ],
             [
              0.4444444444444444,
              "#bd3786"
             ],
             [
              0.5555555555555556,
              "#d8576b"
             ],
             [
              0.6666666666666666,
              "#ed7953"
             ],
             [
              0.7777777777777778,
              "#fb9f3a"
             ],
             [
              0.8888888888888888,
              "#fdca26"
             ],
             [
              1,
              "#f0f921"
             ]
            ],
            "type": "contour"
           }
          ],
          "contourcarpet": [
           {
            "colorbar": {
             "outlinewidth": 0,
             "ticks": ""
            },
            "type": "contourcarpet"
           }
          ],
          "heatmap": [
           {
            "colorbar": {
             "outlinewidth": 0,
             "ticks": ""
            },
            "colorscale": [
             [
              0,
              "#0d0887"
             ],
             [
              0.1111111111111111,
              "#46039f"
             ],
             [
              0.2222222222222222,
              "#7201a8"
             ],
             [
              0.3333333333333333,
              "#9c179e"
             ],
             [
              0.4444444444444444,
              "#bd3786"
             ],
             [
              0.5555555555555556,
              "#d8576b"
             ],
             [
              0.6666666666666666,
              "#ed7953"
             ],
             [
              0.7777777777777778,
              "#fb9f3a"
             ],
             [
              0.8888888888888888,
              "#fdca26"
             ],
             [
              1,
              "#f0f921"
             ]
            ],
            "type": "heatmap"
           }
          ],
          "heatmapgl": [
           {
            "colorbar": {
             "outlinewidth": 0,
             "ticks": ""
            },
            "colorscale": [
             [
              0,
              "#0d0887"
             ],
             [
              0.1111111111111111,
              "#46039f"
             ],
             [
              0.2222222222222222,
              "#7201a8"
             ],
             [
              0.3333333333333333,
              "#9c179e"
             ],
             [
              0.4444444444444444,
              "#bd3786"
             ],
             [
              0.5555555555555556,
              "#d8576b"
             ],
             [
              0.6666666666666666,
              "#ed7953"
             ],
             [
              0.7777777777777778,
              "#fb9f3a"
             ],
             [
              0.8888888888888888,
              "#fdca26"
             ],
             [
              1,
              "#f0f921"
             ]
            ],
            "type": "heatmapgl"
           }
          ],
          "histogram": [
           {
            "marker": {
             "pattern": {
              "fillmode": "overlay",
              "size": 10,
              "solidity": 0.2
             }
            },
            "type": "histogram"
           }
          ],
          "histogram2d": [
           {
            "colorbar": {
             "outlinewidth": 0,
             "ticks": ""
            },
            "colorscale": [
             [
              0,
              "#0d0887"
             ],
             [
              0.1111111111111111,
              "#46039f"
             ],
             [
              0.2222222222222222,
              "#7201a8"
             ],
             [
              0.3333333333333333,
              "#9c179e"
             ],
             [
              0.4444444444444444,
              "#bd3786"
             ],
             [
              0.5555555555555556,
              "#d8576b"
             ],
             [
              0.6666666666666666,
              "#ed7953"
             ],
             [
              0.7777777777777778,
              "#fb9f3a"
             ],
             [
              0.8888888888888888,
              "#fdca26"
             ],
             [
              1,
              "#f0f921"
             ]
            ],
            "type": "histogram2d"
           }
          ],
          "histogram2dcontour": [
           {
            "colorbar": {
             "outlinewidth": 0,
             "ticks": ""
            },
            "colorscale": [
             [
              0,
              "#0d0887"
             ],
             [
              0.1111111111111111,
              "#46039f"
             ],
             [
              0.2222222222222222,
              "#7201a8"
             ],
             [
              0.3333333333333333,
              "#9c179e"
             ],
             [
              0.4444444444444444,
              "#bd3786"
             ],
             [
              0.5555555555555556,
              "#d8576b"
             ],
             [
              0.6666666666666666,
              "#ed7953"
             ],
             [
              0.7777777777777778,
              "#fb9f3a"
             ],
             [
              0.8888888888888888,
              "#fdca26"
             ],
             [
              1,
              "#f0f921"
             ]
            ],
            "type": "histogram2dcontour"
           }
          ],
          "mesh3d": [
           {
            "colorbar": {
             "outlinewidth": 0,
             "ticks": ""
            },
            "type": "mesh3d"
           }
          ],
          "parcoords": [
           {
            "line": {
             "colorbar": {
              "outlinewidth": 0,
              "ticks": ""
             }
            },
            "type": "parcoords"
           }
          ],
          "pie": [
           {
            "automargin": true,
            "type": "pie"
           }
          ],
          "scatter": [
           {
            "fillpattern": {
             "fillmode": "overlay",
             "size": 10,
             "solidity": 0.2
            },
            "type": "scatter"
           }
          ],
          "scatter3d": [
           {
            "line": {
             "colorbar": {
              "outlinewidth": 0,
              "ticks": ""
             }
            },
            "marker": {
             "colorbar": {
              "outlinewidth": 0,
              "ticks": ""
             }
            },
            "type": "scatter3d"
           }
          ],
          "scattercarpet": [
           {
            "marker": {
             "colorbar": {
              "outlinewidth": 0,
              "ticks": ""
             }
            },
            "type": "scattercarpet"
           }
          ],
          "scattergeo": [
           {
            "marker": {
             "colorbar": {
              "outlinewidth": 0,
              "ticks": ""
             }
            },
            "type": "scattergeo"
           }
          ],
          "scattergl": [
           {
            "marker": {
             "colorbar": {
              "outlinewidth": 0,
              "ticks": ""
             }
            },
            "type": "scattergl"
           }
          ],
          "scattermapbox": [
           {
            "marker": {
             "colorbar": {
              "outlinewidth": 0,
              "ticks": ""
             }
            },
            "type": "scattermapbox"
           }
          ],
          "scatterpolar": [
           {
            "marker": {
             "colorbar": {
              "outlinewidth": 0,
              "ticks": ""
             }
            },
            "type": "scatterpolar"
           }
          ],
          "scatterpolargl": [
           {
            "marker": {
             "colorbar": {
              "outlinewidth": 0,
              "ticks": ""
             }
            },
            "type": "scatterpolargl"
           }
          ],
          "scatterternary": [
           {
            "marker": {
             "colorbar": {
              "outlinewidth": 0,
              "ticks": ""
             }
            },
            "type": "scatterternary"
           }
          ],
          "surface": [
           {
            "colorbar": {
             "outlinewidth": 0,
             "ticks": ""
            },
            "colorscale": [
             [
              0,
              "#0d0887"
             ],
             [
              0.1111111111111111,
              "#46039f"
             ],
             [
              0.2222222222222222,
              "#7201a8"
             ],
             [
              0.3333333333333333,
              "#9c179e"
             ],
             [
              0.4444444444444444,
              "#bd3786"
             ],
             [
              0.5555555555555556,
              "#d8576b"
             ],
             [
              0.6666666666666666,
              "#ed7953"
             ],
             [
              0.7777777777777778,
              "#fb9f3a"
             ],
             [
              0.8888888888888888,
              "#fdca26"
             ],
             [
              1,
              "#f0f921"
             ]
            ],
            "type": "surface"
           }
          ],
          "table": [
           {
            "cells": {
             "fill": {
              "color": "#EBF0F8"
             },
             "line": {
              "color": "white"
             }
            },
            "header": {
             "fill": {
              "color": "#C8D4E3"
             },
             "line": {
              "color": "white"
             }
            },
            "type": "table"
           }
          ]
         },
         "layout": {
          "annotationdefaults": {
           "arrowcolor": "#2a3f5f",
           "arrowhead": 0,
           "arrowwidth": 1
          },
          "autotypenumbers": "strict",
          "coloraxis": {
           "colorbar": {
            "outlinewidth": 0,
            "ticks": ""
           }
          },
          "colorscale": {
           "diverging": [
            [
             0,
             "#8e0152"
            ],
            [
             0.1,
             "#c51b7d"
            ],
            [
             0.2,
             "#de77ae"
            ],
            [
             0.3,
             "#f1b6da"
            ],
            [
             0.4,
             "#fde0ef"
            ],
            [
             0.5,
             "#f7f7f7"
            ],
            [
             0.6,
             "#e6f5d0"
            ],
            [
             0.7,
             "#b8e186"
            ],
            [
             0.8,
             "#7fbc41"
            ],
            [
             0.9,
             "#4d9221"
            ],
            [
             1,
             "#276419"
            ]
           ],
           "sequential": [
            [
             0,
             "#0d0887"
            ],
            [
             0.1111111111111111,
             "#46039f"
            ],
            [
             0.2222222222222222,
             "#7201a8"
            ],
            [
             0.3333333333333333,
             "#9c179e"
            ],
            [
             0.4444444444444444,
             "#bd3786"
            ],
            [
             0.5555555555555556,
             "#d8576b"
            ],
            [
             0.6666666666666666,
             "#ed7953"
            ],
            [
             0.7777777777777778,
             "#fb9f3a"
            ],
            [
             0.8888888888888888,
             "#fdca26"
            ],
            [
             1,
             "#f0f921"
            ]
           ],
           "sequentialminus": [
            [
             0,
             "#0d0887"
            ],
            [
             0.1111111111111111,
             "#46039f"
            ],
            [
             0.2222222222222222,
             "#7201a8"
            ],
            [
             0.3333333333333333,
             "#9c179e"
            ],
            [
             0.4444444444444444,
             "#bd3786"
            ],
            [
             0.5555555555555556,
             "#d8576b"
            ],
            [
             0.6666666666666666,
             "#ed7953"
            ],
            [
             0.7777777777777778,
             "#fb9f3a"
            ],
            [
             0.8888888888888888,
             "#fdca26"
            ],
            [
             1,
             "#f0f921"
            ]
           ]
          },
          "colorway": [
           "#636efa",
           "#EF553B",
           "#00cc96",
           "#ab63fa",
           "#FFA15A",
           "#19d3f3",
           "#FF6692",
           "#B6E880",
           "#FF97FF",
           "#FECB52"
          ],
          "font": {
           "color": "#2a3f5f"
          },
          "geo": {
           "bgcolor": "white",
           "lakecolor": "white",
           "landcolor": "#E5ECF6",
           "showlakes": true,
           "showland": true,
           "subunitcolor": "white"
          },
          "hoverlabel": {
           "align": "left"
          },
          "hovermode": "closest",
          "mapbox": {
           "style": "light"
          },
          "paper_bgcolor": "white",
          "plot_bgcolor": "#E5ECF6",
          "polar": {
           "angularaxis": {
            "gridcolor": "white",
            "linecolor": "white",
            "ticks": ""
           },
           "bgcolor": "#E5ECF6",
           "radialaxis": {
            "gridcolor": "white",
            "linecolor": "white",
            "ticks": ""
           }
          },
          "scene": {
           "xaxis": {
            "backgroundcolor": "#E5ECF6",
            "gridcolor": "white",
            "gridwidth": 2,
            "linecolor": "white",
            "showbackground": true,
            "ticks": "",
            "zerolinecolor": "white"
           },
           "yaxis": {
            "backgroundcolor": "#E5ECF6",
            "gridcolor": "white",
            "gridwidth": 2,
            "linecolor": "white",
            "showbackground": true,
            "ticks": "",
            "zerolinecolor": "white"
           },
           "zaxis": {
            "backgroundcolor": "#E5ECF6",
            "gridcolor": "white",
            "gridwidth": 2,
            "linecolor": "white",
            "showbackground": true,
            "ticks": "",
            "zerolinecolor": "white"
           }
          },
          "shapedefaults": {
           "line": {
            "color": "#2a3f5f"
           }
          },
          "ternary": {
           "aaxis": {
            "gridcolor": "white",
            "linecolor": "white",
            "ticks": ""
           },
           "baxis": {
            "gridcolor": "white",
            "linecolor": "white",
            "ticks": ""
           },
           "bgcolor": "#E5ECF6",
           "caxis": {
            "gridcolor": "white",
            "linecolor": "white",
            "ticks": ""
           }
          },
          "title": {
           "x": 0.05
          },
          "xaxis": {
           "automargin": true,
           "gridcolor": "white",
           "linecolor": "white",
           "ticks": "",
           "title": {
            "standoff": 15
           },
           "zerolinecolor": "white",
           "zerolinewidth": 2
          },
          "yaxis": {
           "automargin": true,
           "gridcolor": "white",
           "linecolor": "white",
           "ticks": "",
           "title": {
            "standoff": 15
           },
           "zerolinecolor": "white",
           "zerolinewidth": 2
          }
         }
        },
        "width": 600,
        "xaxis": {
         "anchor": "y",
         "domain": [
          0,
          1
         ],
         "title": {
          "text": "Income"
         }
        },
        "yaxis": {
         "anchor": "x",
         "domain": [
          0,
          1
         ],
         "title": {
          "text": "count"
         }
        }
       }
      }
     },
     "metadata": {},
     "output_type": "display_data"
    }
   ],
   "source": [
    "def viz_dist(data, column):\n",
    "    fig = px.histogram(data, column, \n",
    "                       width = 600, \n",
    "                       height = 300, \n",
    "                       color_discrete_sequence = ['darkblue'])\n",
    "    fig.show()\n",
    "    \n",
    "viz_dist(df, 'Income')"
   ]
  },
  {
   "cell_type": "markdown",
   "metadata": {},
   "source": [
    "Handling missing values: Income column is not symmetric, it is skewed, so we cant fill with mean, for the objective of the analysis, customers with missing income value ideally did not input their income or it was not stored, for accuracy we will remove customers with no income value."
   ]
  },
  {
   "cell_type": "code",
   "execution_count": 5,
   "metadata": {},
   "outputs": [],
   "source": [
    "df.dropna(inplace = True)"
   ]
  },
  {
   "cell_type": "markdown",
   "metadata": {},
   "source": [
    "Correlation between variable"
   ]
  },
  {
   "cell_type": "code",
   "execution_count": 6,
   "metadata": {},
   "outputs": [
    {
     "data": {
      "image/png": "[encoded data removed]",
      "text/plain": [
       "<Figure size 2160x1080 with 2 Axes>"
      ]
     },
     "metadata": {},
     "output_type": "display_data"
    }
   ],
   "source": [
    "df.corr()\n",
    "plt.figure(figsize = (30, 15))\n",
    "sns.heatmap(df.corr(), annot= True);"
   ]
  },
  {
   "cell_type": "markdown",
   "metadata": {},
   "source": [
    "Z_CostContact and Z_Revenue as seen in the correlation heatmap have the same values in all its column, these column will be dropped as they do not represent a statistical significant feature to the model."
   ]
  },
  {
   "cell_type": "code",
   "execution_count": 7,
   "metadata": {},
   "outputs": [],
   "source": [
    "df.drop(['Z_CostContact', 'Z_Revenue'], axis = 1, inplace = True)"
   ]
  },
  {
   "cell_type": "markdown",
   "metadata": {},
   "source": [
    "### Data wrangling\n",
    "Feature Engineering: formatting the data into meaningful format for analysis."
   ]
  },
  {
   "cell_type": "code",
   "execution_count": 8,
   "metadata": {},
   "outputs": [
    {
     "data": {
      "text/plain": [
       "Timestamp('2014-12-06 00:00:00')"
      ]
     },
     "execution_count": 8,
     "metadata": {},
     "output_type": "execute_result"
    }
   ],
   "source": [
    "# check the max year of customer erollment \n",
    "df['Dt_Customer'] = pd.to_datetime(df['Dt_Customer'])\n",
    "max(df['Dt_Customer'])"
   ]
  },
  {
   "cell_type": "code",
   "execution_count": 9,
   "metadata": {
    "scrolled": true
   },
   "outputs": [
    {
     "data": {
      "text/html": [
       "<div>\n",
       "<style scoped>\n",
       "    .dataframe tbody tr th:only-of-type {\n",
       "        vertical-align: middle;\n",
       "    }\n",
       "\n",
       "    .dataframe tbody tr th {\n",
       "        vertical-align: top;\n",
       "    }\n",
       "\n",
       "    .dataframe thead th {\n",
       "        text-align: right;\n",
       "    }\n",
       "</style>\n",
       "<table border=\"1\" class=\"dataframe\">\n",
       "  <thead>\n",
       "    <tr style=\"text-align: right;\">\n",
       "      <th></th>\n",
       "      <th>ID</th>\n",
       "      <th>Education</th>\n",
       "      <th>Marital_Status</th>\n",
       "      <th>Income</th>\n",
       "      <th>wines</th>\n",
       "      <th>fruits</th>\n",
       "      <th>meat</th>\n",
       "      <th>fish</th>\n",
       "      <th>sweets</th>\n",
       "      <th>gold</th>\n",
       "      <th>customers_engagement</th>\n",
       "      <th>age</th>\n",
       "      <th>kids</th>\n",
       "      <th>total_amount_spent</th>\n",
       "    </tr>\n",
       "  </thead>\n",
       "  <tbody>\n",
       "    <tr>\n",
       "      <th>0</th>\n",
       "      <td>5524</td>\n",
       "      <td>Graduation</td>\n",
       "      <td>Single</td>\n",
       "      <td>58138.0</td>\n",
       "      <td>635</td>\n",
       "      <td>88</td>\n",
       "      <td>546</td>\n",
       "      <td>172</td>\n",
       "      <td>88</td>\n",
       "      <td>88</td>\n",
       "      <td>2</td>\n",
       "      <td>57</td>\n",
       "      <td>0</td>\n",
       "      <td>1617</td>\n",
       "    </tr>\n",
       "    <tr>\n",
       "      <th>1</th>\n",
       "      <td>2174</td>\n",
       "      <td>Graduation</td>\n",
       "      <td>Single</td>\n",
       "      <td>46344.0</td>\n",
       "      <td>11</td>\n",
       "      <td>1</td>\n",
       "      <td>6</td>\n",
       "      <td>2</td>\n",
       "      <td>1</td>\n",
       "      <td>6</td>\n",
       "      <td>0</td>\n",
       "      <td>60</td>\n",
       "      <td>2</td>\n",
       "      <td>27</td>\n",
       "    </tr>\n",
       "    <tr>\n",
       "      <th>2</th>\n",
       "      <td>4141</td>\n",
       "      <td>Graduation</td>\n",
       "      <td>Together</td>\n",
       "      <td>71613.0</td>\n",
       "      <td>426</td>\n",
       "      <td>49</td>\n",
       "      <td>127</td>\n",
       "      <td>111</td>\n",
       "      <td>21</td>\n",
       "      <td>42</td>\n",
       "      <td>1</td>\n",
       "      <td>49</td>\n",
       "      <td>0</td>\n",
       "      <td>776</td>\n",
       "    </tr>\n",
       "    <tr>\n",
       "      <th>3</th>\n",
       "      <td>6182</td>\n",
       "      <td>Graduation</td>\n",
       "      <td>Together</td>\n",
       "      <td>26646.0</td>\n",
       "      <td>11</td>\n",
       "      <td>4</td>\n",
       "      <td>20</td>\n",
       "      <td>10</td>\n",
       "      <td>3</td>\n",
       "      <td>5</td>\n",
       "      <td>0</td>\n",
       "      <td>30</td>\n",
       "      <td>1</td>\n",
       "      <td>53</td>\n",
       "    </tr>\n",
       "    <tr>\n",
       "      <th>4</th>\n",
       "      <td>5324</td>\n",
       "      <td>PhD</td>\n",
       "      <td>Married</td>\n",
       "      <td>58293.0</td>\n",
       "      <td>173</td>\n",
       "      <td>43</td>\n",
       "      <td>118</td>\n",
       "      <td>46</td>\n",
       "      <td>27</td>\n",
       "      <td>15</td>\n",
       "      <td>0</td>\n",
       "      <td>33</td>\n",
       "      <td>1</td>\n",
       "      <td>422</td>\n",
       "    </tr>\n",
       "  </tbody>\n",
       "</table>\n",
       "</div>"
      ],
      "text/plain": [
       "     ID   Education Marital_Status   Income  wines  fruits  meat  fish  \\\n",
       "0  5524  Graduation         Single  58138.0    635      88   546   172   \n",
       "1  2174  Graduation         Single  46344.0     11       1     6     2   \n",
       "2  4141  Graduation       Together  71613.0    426      49   127   111   \n",
       "3  6182  Graduation       Together  26646.0     11       4    20    10   \n",
       "4  5324         PhD        Married  58293.0    173      43   118    46   \n",
       "\n",
       "   sweets  gold  customers_engagement  age  kids  total_amount_spent  \n",
       "0      88    88                     2   57     0                1617  \n",
       "1       1     6                     0   60     2                  27  \n",
       "2      21    42                     1   49     0                 776  \n",
       "3       3     5                     0   30     1                  53  \n",
       "4      27    15                     0   33     1                 422  "
      ]
     },
     "execution_count": 9,
     "metadata": {},
     "output_type": "execute_result"
    }
   ],
   "source": [
    "# create new column '2014' to get year since erolled\n",
    "df['2014'] ='2014-12-31'\n",
    "df['2014'] = pd.to_datetime(df['2014'])\n",
    "df['customers_engagement'] = (df['2014'].dt.year) - (df['Dt_Customer'].dt.year)  \n",
    "\n",
    "# customers age\n",
    "df['age'] = 2014 - df['Year_Birth']\n",
    "\n",
    "# number of kids\n",
    "df['kids'] = df['Kidhome'] + df['Teenhome']\n",
    "     \n",
    "# total amount spent\n",
    "df['total_amount_spent'] = df['MntWines'] + df['MntFruits']\\\n",
    "    + df['MntMeatProducts'] + df['MntFishProducts']\\\n",
    "    + df['MntSweetProducts'] + df['MntGoldProds']\n",
    "\n",
    "# rename product name\n",
    "df = df.rename(columns ={'MntWines': 'wines', 'MntFruits':'fruits','MntMeatProducts':'meat','MntFishProducts':'fish',\\\n",
    "    'MntSweetProducts':'sweets','MntGoldProds':'gold'})\n",
    "\n",
    "# delete redundant columns to reduce complexity on model\n",
    "df.drop(['Year_Birth', 'Dt_Customer', 'Kidhome', 'Teenhome','AcceptedCmp3',\\\n",
    "         'AcceptedCmp1', 'AcceptedCmp2', 'AcceptedCmp4', 'AcceptedCmp5',\\\n",
    "         'NumWebPurchases', 'NumCatalogPurchases', 'NumStorePurchases',\\\n",
    "         'NumDealsPurchases', 'NumWebVisitsMonth', '2014', 'Complain',\\\n",
    "         'Response', 'Recency'], axis = 1, inplace = True)\n",
    "\n",
    "df.head()"
   ]
  },
  {
   "cell_type": "code",
   "execution_count": 11,
   "metadata": {},
   "outputs": [
    {
     "name": "stdout",
     "output_type": "stream",
     "text": [
      "Categories in marital status:\n",
      " Married     857\n",
      "Together    573\n",
      "Single      471\n",
      "Divorced    232\n",
      "Widow        76\n",
      "Alone         3\n",
      "Absurd        2\n",
      "YOLO          2\n",
      "Name: Marital_Status, dtype: int64,\n",
      "\n",
      "Categories in education:\n",
      " Graduation    1116\n",
      "PhD            481\n",
      "Master         365\n",
      "2n Cycle       200\n",
      "Basic           54\n",
      "Name: Education, dtype: int64\n"
     ]
    }
   ],
   "source": [
    "print(f'Categories in marital status:\\n {df[\"Marital_Status\"].value_counts()},\\n')\n",
    "print(f'Categories in education:\\n {df[\"Education\"].value_counts()}')"
   ]
  },
  {
   "cell_type": "code",
   "execution_count": 42,
   "metadata": {},
   "outputs": [
    {
     "ename": "SyntaxError",
     "evalue": "invalid syntax (3452316862.py, line 5)",
     "output_type": "error",
     "traceback": [
      "\u001b[0;36m  File \u001b[0;32m\"/var/folders/gc/2y9wypd50sq0yj1yyfrrw3l80000gn/T/ipykernel_31503/3452316862.py\"\u001b[0;36m, line \u001b[0;32m5\u001b[0m\n\u001b[0;31m    print('df['Marital_Status']')\u001b[0m\n\u001b[0m               ^\u001b[0m\n\u001b[0;31mSyntaxError\u001b[0m\u001b[0;31m:\u001b[0m invalid syntax\n"
     ]
    }
   ],
   "source": [
    "def replace_values():\n",
    "    for value in df['Marital_Status']:\n",
    "        if value == 'Married' or value == 'Together':\n",
    "            df['Marital_Status'] == 'In relationship'\n",
    "            print(df['Marital_Status'])\n",
    "        else:\n",
    "            df['Marital_Status'] == 'Single'\n",
    "            print(df['Marital_Status'])\n",
    "\n",
    "replace_values()    "
   ]
  },
  {
   "cell_type": "code",
   "execution_count": 26,
   "metadata": {},
   "outputs": [
    {
     "data": {
      "text/html": [
       "<div>\n",
       "<style scoped>\n",
       "    .dataframe tbody tr th:only-of-type {\n",
       "        vertical-align: middle;\n",
       "    }\n",
       "\n",
       "    .dataframe tbody tr th {\n",
       "        vertical-align: top;\n",
       "    }\n",
       "\n",
       "    .dataframe thead th {\n",
       "        text-align: right;\n",
       "    }\n",
       "</style>\n",
       "<table border=\"1\" class=\"dataframe\">\n",
       "  <thead>\n",
       "    <tr style=\"text-align: right;\">\n",
       "      <th></th>\n",
       "      <th>ID</th>\n",
       "      <th>Education</th>\n",
       "      <th>Marital_Status</th>\n",
       "      <th>Income</th>\n",
       "      <th>wines</th>\n",
       "      <th>fruits</th>\n",
       "      <th>meat</th>\n",
       "      <th>fish</th>\n",
       "      <th>sweets</th>\n",
       "      <th>gold</th>\n",
       "      <th>customers_engagement</th>\n",
       "      <th>age</th>\n",
       "      <th>kids</th>\n",
       "      <th>total_amount_spent</th>\n",
       "    </tr>\n",
       "  </thead>\n",
       "  <tbody>\n",
       "    <tr>\n",
       "      <th>0</th>\n",
       "      <td>5524</td>\n",
       "      <td>Graduation</td>\n",
       "      <td>Single</td>\n",
       "      <td>58138.0</td>\n",
       "      <td>635</td>\n",
       "      <td>88</td>\n",
       "      <td>546</td>\n",
       "      <td>172</td>\n",
       "      <td>88</td>\n",
       "      <td>88</td>\n",
       "      <td>2</td>\n",
       "      <td>57</td>\n",
       "      <td>0</td>\n",
       "      <td>1617</td>\n",
       "    </tr>\n",
       "    <tr>\n",
       "      <th>1</th>\n",
       "      <td>2174</td>\n",
       "      <td>Graduation</td>\n",
       "      <td>Single</td>\n",
       "      <td>46344.0</td>\n",
       "      <td>11</td>\n",
       "      <td>1</td>\n",
       "      <td>6</td>\n",
       "      <td>2</td>\n",
       "      <td>1</td>\n",
       "      <td>6</td>\n",
       "      <td>0</td>\n",
       "      <td>60</td>\n",
       "      <td>2</td>\n",
       "      <td>27</td>\n",
       "    </tr>\n",
       "    <tr>\n",
       "      <th>2</th>\n",
       "      <td>4141</td>\n",
       "      <td>Graduation</td>\n",
       "      <td>Together</td>\n",
       "      <td>71613.0</td>\n",
       "      <td>426</td>\n",
       "      <td>49</td>\n",
       "      <td>127</td>\n",
       "      <td>111</td>\n",
       "      <td>21</td>\n",
       "      <td>42</td>\n",
       "      <td>1</td>\n",
       "      <td>49</td>\n",
       "      <td>0</td>\n",
       "      <td>776</td>\n",
       "    </tr>\n",
       "    <tr>\n",
       "      <th>3</th>\n",
       "      <td>6182</td>\n",
       "      <td>Graduation</td>\n",
       "      <td>Together</td>\n",
       "      <td>26646.0</td>\n",
       "      <td>11</td>\n",
       "      <td>4</td>\n",
       "      <td>20</td>\n",
       "      <td>10</td>\n",
       "      <td>3</td>\n",
       "      <td>5</td>\n",
       "      <td>0</td>\n",
       "      <td>30</td>\n",
       "      <td>1</td>\n",
       "      <td>53</td>\n",
       "    </tr>\n",
       "    <tr>\n",
       "      <th>4</th>\n",
       "      <td>5324</td>\n",
       "      <td>PhD</td>\n",
       "      <td>Married</td>\n",
       "      <td>58293.0</td>\n",
       "      <td>173</td>\n",
       "      <td>43</td>\n",
       "      <td>118</td>\n",
       "      <td>46</td>\n",
       "      <td>27</td>\n",
       "      <td>15</td>\n",
       "      <td>0</td>\n",
       "      <td>33</td>\n",
       "      <td>1</td>\n",
       "      <td>422</td>\n",
       "    </tr>\n",
       "  </tbody>\n",
       "</table>\n",
       "</div>"
      ],
      "text/plain": [
       "     ID   Education Marital_Status   Income  wines  fruits  meat  fish  \\\n",
       "0  5524  Graduation         Single  58138.0    635      88   546   172   \n",
       "1  2174  Graduation         Single  46344.0     11       1     6     2   \n",
       "2  4141  Graduation       Together  71613.0    426      49   127   111   \n",
       "3  6182  Graduation       Together  26646.0     11       4    20    10   \n",
       "4  5324         PhD        Married  58293.0    173      43   118    46   \n",
       "\n",
       "   sweets  gold  customers_engagement  age  kids  total_amount_spent  \n",
       "0      88    88                     2   57     0                1617  \n",
       "1       1     6                     0   60     2                  27  \n",
       "2      21    42                     1   49     0                 776  \n",
       "3       3     5                     0   30     1                  53  \n",
       "4      27    15                     0   33     1                 422  "
      ]
     },
     "execution_count": 26,
     "metadata": {},
     "output_type": "execute_result"
    }
   ],
   "source": [
    "df.head()"
   ]
  },
  {
   "cell_type": "code",
   "execution_count": 18,
   "metadata": {},
   "outputs": [
    {
     "data": {
      "text/plain": [
       "'New row and column shape: (2216, 14)'"
      ]
     },
     "metadata": {},
     "output_type": "display_data"
    },
    {
     "data": {
      "text/html": [
       "<div>\n",
       "<style scoped>\n",
       "    .dataframe tbody tr th:only-of-type {\n",
       "        vertical-align: middle;\n",
       "    }\n",
       "\n",
       "    .dataframe tbody tr th {\n",
       "        vertical-align: top;\n",
       "    }\n",
       "\n",
       "    .dataframe thead th {\n",
       "        text-align: right;\n",
       "    }\n",
       "</style>\n",
       "<table border=\"1\" class=\"dataframe\">\n",
       "  <thead>\n",
       "    <tr style=\"text-align: right;\">\n",
       "      <th></th>\n",
       "      <th>ID</th>\n",
       "      <th>Education</th>\n",
       "      <th>Marital_Status</th>\n",
       "      <th>Income</th>\n",
       "      <th>wines</th>\n",
       "      <th>fruits</th>\n",
       "      <th>meat</th>\n",
       "      <th>fish</th>\n",
       "      <th>sweets</th>\n",
       "      <th>gold</th>\n",
       "      <th>customers_engagement</th>\n",
       "      <th>age</th>\n",
       "      <th>kids</th>\n",
       "      <th>total_amount_spent</th>\n",
       "    </tr>\n",
       "  </thead>\n",
       "  <tbody>\n",
       "    <tr>\n",
       "      <th>0</th>\n",
       "      <td>5524</td>\n",
       "      <td>PG</td>\n",
       "      <td>Single</td>\n",
       "      <td>58138.0</td>\n",
       "      <td>635</td>\n",
       "      <td>88</td>\n",
       "      <td>546</td>\n",
       "      <td>172</td>\n",
       "      <td>88</td>\n",
       "      <td>88</td>\n",
       "      <td>2</td>\n",
       "      <td>57</td>\n",
       "      <td>0</td>\n",
       "      <td>1617</td>\n",
       "    </tr>\n",
       "    <tr>\n",
       "      <th>1</th>\n",
       "      <td>2174</td>\n",
       "      <td>PG</td>\n",
       "      <td>Single</td>\n",
       "      <td>46344.0</td>\n",
       "      <td>11</td>\n",
       "      <td>1</td>\n",
       "      <td>6</td>\n",
       "      <td>2</td>\n",
       "      <td>1</td>\n",
       "      <td>6</td>\n",
       "      <td>0</td>\n",
       "      <td>60</td>\n",
       "      <td>2</td>\n",
       "      <td>27</td>\n",
       "    </tr>\n",
       "    <tr>\n",
       "      <th>2</th>\n",
       "      <td>4141</td>\n",
       "      <td>PG</td>\n",
       "      <td>In relationship</td>\n",
       "      <td>71613.0</td>\n",
       "      <td>426</td>\n",
       "      <td>49</td>\n",
       "      <td>127</td>\n",
       "      <td>111</td>\n",
       "      <td>21</td>\n",
       "      <td>42</td>\n",
       "      <td>1</td>\n",
       "      <td>49</td>\n",
       "      <td>0</td>\n",
       "      <td>776</td>\n",
       "    </tr>\n",
       "    <tr>\n",
       "      <th>3</th>\n",
       "      <td>6182</td>\n",
       "      <td>PG</td>\n",
       "      <td>In relationship</td>\n",
       "      <td>26646.0</td>\n",
       "      <td>11</td>\n",
       "      <td>4</td>\n",
       "      <td>20</td>\n",
       "      <td>10</td>\n",
       "      <td>3</td>\n",
       "      <td>5</td>\n",
       "      <td>0</td>\n",
       "      <td>30</td>\n",
       "      <td>1</td>\n",
       "      <td>53</td>\n",
       "    </tr>\n",
       "    <tr>\n",
       "      <th>4</th>\n",
       "      <td>5324</td>\n",
       "      <td>PG</td>\n",
       "      <td>In relationship</td>\n",
       "      <td>58293.0</td>\n",
       "      <td>173</td>\n",
       "      <td>43</td>\n",
       "      <td>118</td>\n",
       "      <td>46</td>\n",
       "      <td>27</td>\n",
       "      <td>15</td>\n",
       "      <td>0</td>\n",
       "      <td>33</td>\n",
       "      <td>1</td>\n",
       "      <td>422</td>\n",
       "    </tr>\n",
       "  </tbody>\n",
       "</table>\n",
       "</div>"
      ],
      "text/plain": [
       "     ID Education   Marital_Status   Income  wines  fruits  meat  fish  \\\n",
       "0  5524        PG           Single  58138.0    635      88   546   172   \n",
       "1  2174        PG           Single  46344.0     11       1     6     2   \n",
       "2  4141        PG  In relationship  71613.0    426      49   127   111   \n",
       "3  6182        PG  In relationship  26646.0     11       4    20    10   \n",
       "4  5324        PG  In relationship  58293.0    173      43   118    46   \n",
       "\n",
       "   sweets  gold  customers_engagement  age  kids  total_amount_spent  \n",
       "0      88    88                     2   57     0                1617  \n",
       "1       1     6                     0   60     2                  27  \n",
       "2      21    42                     1   49     0                 776  \n",
       "3       3     5                     0   30     1                  53  \n",
       "4      27    15                     0   33     1                 422  "
      ]
     },
     "execution_count": 18,
     "metadata": {},
     "output_type": "execute_result"
    }
   ],
   "source": [
    "# replace values in column to a more precised category \n",
    "df['Marital_Status'] = df['Marital_Status'].replace(['Married', 'Together'], 'In relationship')\n",
    "\n",
    "df['Marital_Status'] = df['Marital_Status'].replace(['Single', 'Divorced','Widow', 'Alone', 'YOLO', 'Absurd'], 'Single')\n",
    "\n",
    "\n",
    "# replace values in column to a more precised category for 'education'\n",
    "df.Education = df.Education.replace(['Graduation', 'PhD', 'Master', '2n Cycle'],'PG')\n",
    "df.Education = df.Education.replace(['Basic'], 'UG')\n",
    "\n",
    "display(f'New row and column shape: {df.shape}')\n",
    "df.head()"
   ]
  },
  {
   "cell_type": "markdown",
   "metadata": {},
   "source": [
    "Rename column name into appropriate format"
   ]
  },
  {
   "cell_type": "code",
   "execution_count": 19,
   "metadata": {},
   "outputs": [],
   "source": [
    "df.columns = df.columns.str.lower()"
   ]
  },
  {
   "cell_type": "markdown",
   "metadata": {},
   "source": [
    "### Handling outliers\n",
    "Outlier are completely different data (numerical data type) from the dataset."
   ]
  },
  {
   "cell_type": "code",
   "execution_count": 20,
   "metadata": {},
   "outputs": [
    {
     "data": {
      "application/vnd.plotly.v1+json": {
       "config": {
        "plotlyServerURL": "https://plot.ly"
       },
       "data": [
        {
         "alignmentgroup": "True",
         "bingroup": "x",
         "hovertemplate": "age=%{x}<br>count=%{y}<extra></extra>",
         "legendgroup": "",
         "marker": {
          "color": "darkblue",
          "pattern": {
           "shape": ""
          }
         },
         "name": "",
         "offsetgroup": "",
         "orientation": "v",
         "showlegend": false,
         "type": "histogram",
         "x": [
          57,
          60,
          49,
          30,
          33,
          47,
          43,
          29,
          40,
          64,
          38,
          55,
          62,
          27,
          68,
          34,
          68,
          65,
          29,
          32,
          35,
          65,
          60,
          63,
          45,
          38,
          25,
          49,
          25,
          51,
          44,
          62,
          68,
          63,
          44,
          38,
          41,
          71,
          34,
          29,
          57,
          39,
          38,
          18,
          46,
          60,
          57,
          50,
          37,
          37,
          36,
          59,
          48,
          26,
          46,
          32,
          39,
          62,
          63,
          66,
          43,
          47,
          35,
          56,
          44,
          60,
          55,
          39,
          62,
          37,
          42,
          38,
          38,
          49,
          29,
          45,
          41,
          51,
          27,
          54,
          44,
          57,
          41,
          47,
          42,
          44,
          31,
          54,
          42,
          63,
          31,
          54,
          55,
          35,
          69,
          55,
          35,
          50,
          45,
          36,
          54,
          35,
          23,
          51,
          23,
          34,
          52,
          44,
          36,
          47,
          45,
          61,
          47,
          29,
          38,
          31,
          49,
          30,
          61,
          58,
          62,
          56,
          45,
          50,
          47,
          38,
          55,
          41,
          49,
          22,
          38,
          52,
          40,
          26,
          38,
          39,
          33,
          41,
          48,
          61,
          45,
          42,
          26,
          62,
          65,
          56,
          36,
          37,
          59,
          56,
          69,
          30,
          39,
          41,
          48,
          61,
          55,
          26,
          57,
          49,
          32,
          44,
          55,
          47,
          39,
          66,
          44,
          55,
          63,
          38,
          26,
          68,
          30,
          53,
          31,
          44,
          48,
          38,
          50,
          36,
          25,
          114,
          26,
          41,
          37,
          34,
          60,
          60,
          41,
          62,
          46,
          36,
          37,
          49,
          30,
          26,
          51,
          48,
          60,
          58,
          60,
          46,
          40,
          29,
          37,
          36,
          66,
          60,
          34,
          26,
          45,
          44,
          34,
          52,
          36,
          38,
          62,
          42,
          28,
          48,
          52,
          43,
          63,
          49,
          39,
          32,
          56,
          41,
          121,
          46,
          56,
          43,
          24,
          56,
          50,
          42,
          61,
          26,
          45,
          39,
          29,
          40,
          56,
          47,
          40,
          53,
          50,
          50,
          57,
          35,
          46,
          44,
          36,
          62,
          48,
          51,
          44,
          44,
          44,
          61,
          31,
          39,
          54,
          51,
          51,
          58,
          33,
          28,
          46,
          33,
          38,
          68,
          40,
          39,
          40,
          62,
          58,
          48,
          65,
          30,
          45,
          34,
          43,
          49,
          62,
          26,
          28,
          32,
          49,
          56,
          58,
          36,
          26,
          30,
          53,
          48,
          67,
          50,
          22,
          38,
          47,
          38,
          48,
          58,
          42,
          29,
          63,
          43,
          40,
          49,
          53,
          61,
          57,
          38,
          30,
          64,
          28,
          31,
          25,
          58,
          43,
          31,
          54,
          46,
          42,
          49,
          115,
          26,
          28,
          45,
          64,
          41,
          62,
          49,
          44,
          43,
          38,
          57,
          28,
          48,
          40,
          38,
          36,
          59,
          45,
          71,
          66,
          57,
          45,
          36,
          36,
          47,
          45,
          54,
          38,
          52,
          39,
          30,
          39,
          44,
          48,
          42,
          39,
          44,
          25,
          53,
          45,
          45,
          29,
          60,
          41,
          33,
          43,
          46,
          54,
          65,
          46,
          35,
          35,
          21,
          68,
          46,
          23,
          43,
          30,
          27,
          34,
          58,
          49,
          40,
          54,
          59,
          49,
          42,
          43,
          40,
          51,
          32,
          38,
          59,
          27,
          52,
          71,
          39,
          20,
          33,
          43,
          41,
          31,
          32,
          40,
          73,
          61,
          28,
          25,
          25,
          46,
          53,
          25,
          47,
          50,
          44,
          58,
          48,
          65,
          43,
          28,
          25,
          66,
          68,
          25,
          40,
          55,
          42,
          50,
          38,
          61,
          59,
          45,
          43,
          34,
          38,
          42,
          48,
          30,
          62,
          32,
          50,
          65,
          56,
          51,
          39,
          45,
          59,
          44,
          63,
          43,
          39,
          34,
          33,
          36,
          26,
          58,
          42,
          37,
          42,
          37,
          41,
          42,
          40,
          39,
          54,
          50,
          38,
          40,
          45,
          62,
          56,
          38,
          59,
          50,
          70,
          52,
          36,
          43,
          65,
          70,
          64,
          53,
          24,
          29,
          58,
          61,
          38,
          25,
          22,
          55,
          33,
          35,
          50,
          55,
          68,
          39,
          53,
          24,
          55,
          70,
          49,
          27,
          23,
          61,
          27,
          28,
          56,
          37,
          50,
          54,
          39,
          45,
          37,
          52,
          32,
          63,
          47,
          47,
          62,
          33,
          37,
          45,
          30,
          32,
          38,
          24,
          50,
          34,
          46,
          41,
          51,
          25,
          43,
          51,
          65,
          62,
          36,
          32,
          44,
          55,
          36,
          34,
          43,
          44,
          51,
          64,
          52,
          63,
          35,
          44,
          40,
          46,
          36,
          44,
          33,
          37,
          46,
          44,
          48,
          58,
          40,
          63,
          47,
          63,
          31,
          43,
          59,
          53,
          59,
          55,
          30,
          39,
          49,
          37,
          42,
          39,
          45,
          45,
          36,
          33,
          53,
          54,
          59,
          66,
          48,
          28,
          41,
          58,
          39,
          49,
          45,
          70,
          41,
          47,
          45,
          40,
          49,
          38,
          36,
          54,
          53,
          43,
          65,
          36,
          59,
          38,
          39,
          54,
          37,
          37,
          44,
          56,
          44,
          54,
          41,
          52,
          62,
          52,
          64,
          43,
          54,
          66,
          55,
          50,
          67,
          43,
          44,
          44,
          37,
          56,
          54,
          29,
          40,
          64,
          59,
          39,
          61,
          56,
          67,
          48,
          51,
          29,
          39,
          34,
          58,
          55,
          40,
          27,
          46,
          43,
          50,
          52,
          44,
          34,
          39,
          40,
          51,
          35,
          29,
          34,
          51,
          47,
          32,
          59,
          47,
          38,
          42,
          32,
          25,
          45,
          54,
          44,
          56,
          62,
          65,
          53,
          19,
          65,
          53,
          54,
          41,
          36,
          36,
          26,
          46,
          28,
          44,
          63,
          66,
          43,
          28,
          49,
          39,
          61,
          32,
          39,
          54,
          36,
          44,
          56,
          49,
          60,
          30,
          49,
          38,
          48,
          59,
          38,
          49,
          23,
          65,
          61,
          36,
          66,
          41,
          65,
          41,
          62,
          25,
          45,
          61,
          58,
          64,
          36,
          50,
          62,
          39,
          19,
          44,
          60,
          42,
          56,
          39,
          45,
          35,
          36,
          42,
          50,
          35,
          55,
          33,
          47,
          26,
          36,
          62,
          59,
          37,
          27,
          49,
          58,
          35,
          63,
          49,
          42,
          57,
          61,
          49,
          56,
          59,
          43,
          40,
          38,
          44,
          42,
          42,
          28,
          54,
          46,
          36,
          38,
          69,
          57,
          64,
          36,
          53,
          52,
          60,
          49,
          41,
          46,
          44,
          58,
          63,
          70,
          56,
          38,
          43,
          57,
          42,
          42,
          33,
          42,
          39,
          59,
          28,
          44,
          38,
          60,
          42,
          36,
          34,
          42,
          53,
          51,
          55,
          55,
          60,
          52,
          56,
          30,
          38,
          22,
          47,
          34,
          47,
          58,
          42,
          34,
          34,
          37,
          64,
          40,
          26,
          33,
          54,
          44,
          23,
          58,
          51,
          34,
          40,
          60,
          57,
          48,
          40,
          35,
          41,
          29,
          48,
          25,
          45,
          45,
          27,
          25,
          39,
          41,
          48,
          28,
          36,
          35,
          31,
          55,
          38,
          33,
          36,
          61,
          43,
          31,
          58,
          36,
          42,
          39,
          39,
          33,
          42,
          44,
          61,
          55,
          52,
          36,
          41,
          49,
          31,
          23,
          71,
          42,
          58,
          56,
          40,
          28,
          56,
          44,
          47,
          41,
          45,
          37,
          53,
          43,
          40,
          28,
          48,
          22,
          51,
          42,
          20,
          60,
          54,
          32,
          60,
          60,
          59,
          21,
          45,
          66,
          28,
          35,
          36,
          32,
          21,
          38,
          40,
          25,
          63,
          25,
          62,
          43,
          43,
          44,
          43,
          39,
          62,
          52,
          31,
          61,
          28,
          27,
          32,
          35,
          37,
          39,
          35,
          38,
          41,
          43,
          38,
          38,
          49,
          62,
          41,
          57,
          47,
          52,
          45,
          39,
          34,
          55,
          41,
          41,
          40,
          34,
          26,
          46,
          26,
          55,
          43,
          52,
          55,
          49,
          62,
          60,
          54,
          49,
          35,
          36,
          64,
          40,
          36,
          45,
          38,
          58,
          60,
          42,
          33,
          25,
          60,
          19,
          36,
          57,
          41,
          58,
          58,
          27,
          33,
          27,
          60,
          60,
          61,
          62,
          46,
          51,
          35,
          38,
          36,
          46,
          43,
          63,
          49,
          45,
          41,
          38,
          41,
          40,
          61,
          48,
          36,
          47,
          36,
          27,
          56,
          50,
          43,
          43,
          45,
          37,
          41,
          34,
          56,
          42,
          43,
          61,
          55,
          60,
          23,
          52,
          28,
          49,
          48,
          54,
          30,
          48,
          49,
          48,
          65,
          44,
          31,
          29,
          40,
          63,
          62,
          27,
          65,
          56,
          27,
          41,
          50,
          53,
          22,
          49,
          58,
          36,
          43,
          48,
          59,
          61,
          56,
          53,
          33,
          38,
          46,
          36,
          49,
          43,
          58,
          32,
          44,
          37,
          44,
          56,
          31,
          56,
          41,
          40,
          55,
          42,
          49,
          35,
          56,
          28,
          32,
          35,
          39,
          35,
          28,
          44,
          42,
          54,
          62,
          44,
          40,
          49,
          60,
          31,
          41,
          54,
          30,
          43,
          31,
          31,
          48,
          36,
          46,
          35,
          41,
          35,
          60,
          52,
          48,
          37,
          29,
          62,
          63,
          47,
          36,
          38,
          29,
          40,
          46,
          52,
          25,
          53,
          61,
          25,
          36,
          52,
          69,
          40,
          33,
          58,
          60,
          28,
          71,
          50,
          35,
          40,
          54,
          51,
          38,
          40,
          53,
          63,
          49,
          58,
          49,
          20,
          40,
          42,
          46,
          46,
          66,
          45,
          18,
          40,
          24,
          57,
          35,
          54,
          62,
          33,
          33,
          23,
          64,
          57,
          53,
          56,
          43,
          29,
          49,
          62,
          52,
          40,
          44,
          45,
          54,
          62,
          45,
          46,
          49,
          45,
          42,
          53,
          37,
          55,
          56,
          35,
          57,
          58,
          49,
          24,
          57,
          49,
          57,
          59,
          42,
          45,
          42,
          39,
          49,
          51,
          23,
          51,
          28,
          41,
          57,
          33,
          56,
          55,
          59,
          28,
          39,
          59,
          43,
          28,
          36,
          31,
          38,
          43,
          58,
          42,
          25,
          62,
          30,
          47,
          52,
          67,
          36,
          43,
          22,
          46,
          41,
          39,
          49,
          62,
          47,
          42,
          51,
          44,
          59,
          39,
          38,
          45,
          41,
          31,
          32,
          54,
          62,
          39,
          51,
          44,
          66,
          56,
          70,
          51,
          42,
          48,
          46,
          43,
          39,
          50,
          36,
          39,
          31,
          43,
          57,
          63,
          63,
          44,
          42,
          45,
          42,
          43,
          58,
          43,
          41,
          37,
          51,
          60,
          36,
          48,
          68,
          36,
          43,
          61,
          29,
          44,
          35,
          48,
          38,
          49,
          32,
          42,
          54,
          58,
          49,
          59,
          25,
          52,
          49,
          41,
          42,
          30,
          54,
          56,
          46,
          37,
          40,
          52,
          32,
          39,
          32,
          69,
          35,
          45,
          52,
          66,
          36,
          39,
          32,
          31,
          62,
          32,
          52,
          37,
          65,
          24,
          32,
          39,
          55,
          31,
          38,
          52,
          58,
          21,
          27,
          49,
          32,
          52,
          36,
          68,
          51,
          43,
          46,
          22,
          40,
          64,
          37,
          56,
          38,
          41,
          46,
          56,
          39,
          54,
          49,
          54,
          45,
          54,
          39,
          29,
          43,
          59,
          58,
          41,
          66,
          38,
          34,
          35,
          42,
          41,
          42,
          39,
          42,
          58,
          40,
          42,
          46,
          45,
          53,
          42,
          61,
          57,
          44,
          47,
          63,
          61,
          64,
          61,
          37,
          42,
          45,
          70,
          24,
          35,
          48,
          66,
          42,
          41,
          42,
          42,
          48,
          45,
          55,
          44,
          40,
          42,
          56,
          42,
          31,
          41,
          29,
          41,
          47,
          35,
          53,
          28,
          50,
          31,
          62,
          65,
          35,
          66,
          68,
          56,
          43,
          57,
          32,
          41,
          42,
          49,
          61,
          47,
          49,
          45,
          43,
          42,
          44,
          40,
          64,
          55,
          59,
          36,
          28,
          51,
          61,
          62,
          64,
          44,
          44,
          37,
          48,
          45,
          56,
          60,
          58,
          44,
          27,
          53,
          35,
          54,
          33,
          34,
          38,
          38,
          44,
          68,
          59,
          42,
          43,
          64,
          26,
          36,
          24,
          55,
          37,
          45,
          55,
          26,
          39,
          41,
          37,
          41,
          59,
          40,
          42,
          39,
          43,
          56,
          26,
          39,
          49,
          28,
          37,
          34,
          52,
          36,
          42,
          44,
          31,
          43,
          38,
          41,
          41,
          38,
          66,
          56,
          27,
          54,
          39,
          56,
          39,
          39,
          26,
          26,
          25,
          55,
          43,
          47,
          25,
          53,
          36,
          61,
          50,
          28,
          27,
          51,
          57,
          39,
          63,
          49,
          58,
          52,
          40,
          47,
          52,
          38,
          53,
          38,
          31,
          38,
          26,
          60,
          29,
          62,
          50,
          60,
          64,
          57,
          68,
          60,
          23,
          28,
          37,
          54,
          32,
          67,
          22,
          38,
          58,
          67,
          64,
          48,
          27,
          41,
          62,
          49,
          34,
          27,
          52,
          59,
          26,
          49,
          47,
          41,
          54,
          30,
          43,
          39,
          49,
          58,
          59,
          54,
          53,
          51,
          37,
          24,
          41,
          50,
          26,
          36,
          24,
          39,
          37,
          30,
          31,
          27,
          49,
          58,
          49,
          43,
          32,
          55,
          51,
          62,
          43,
          51,
          32,
          38,
          67,
          45,
          55,
          36,
          66,
          59,
          60,
          69,
          45,
          38,
          45,
          50,
          33,
          35,
          33,
          54,
          40,
          33,
          47,
          64,
          32,
          53,
          51,
          37,
          67,
          36,
          60,
          60,
          42,
          33,
          56,
          46,
          38,
          48,
          25,
          29,
          47,
          55,
          44,
          47,
          29,
          63,
          28,
          59,
          44,
          23,
          39,
          35,
          38,
          34,
          36,
          43,
          59,
          31,
          62,
          45,
          34,
          46,
          43,
          25,
          63,
          27,
          29,
          33,
          24,
          62,
          43,
          31,
          57,
          63,
          38,
          59,
          25,
          41,
          41,
          30,
          58,
          49,
          36,
          41,
          28,
          55,
          36,
          48,
          22,
          30,
          58,
          37,
          40,
          38,
          35,
          31,
          23,
          52,
          32,
          35,
          59,
          49,
          53,
          63,
          50,
          55,
          59,
          48,
          56,
          60,
          47,
          51,
          55,
          43,
          50,
          31,
          69,
          67,
          45,
          62,
          67,
          68,
          45,
          65,
          53,
          40,
          34,
          65,
          43,
          35,
          46,
          43,
          59,
          42,
          50,
          35,
          39,
          37,
          28,
          58,
          34,
          32,
          53,
          39,
          40,
          68,
          29,
          62,
          47,
          59,
          29,
          37,
          41,
          30,
          35,
          38,
          46,
          55,
          43,
          47,
          41,
          31,
          35,
          35,
          64,
          51,
          52,
          38,
          62,
          54,
          59,
          37,
          50,
          33,
          38,
          40,
          63,
          48,
          63,
          56,
          48,
          50,
          58,
          40,
          48,
          51,
          45,
          22,
          60,
          31,
          32,
          63,
          58,
          53,
          52,
          43,
          43,
          46,
          36,
          45,
          49,
          28,
          56,
          39,
          27,
          55,
          52,
          40,
          37,
          36,
          44,
          57,
          59,
          60,
          32,
          61,
          46,
          57,
          49,
          39,
          51,
          24,
          48,
          26,
          19,
          39,
          36,
          53,
          30,
          43,
          63,
          38,
          42,
          29,
          48,
          39,
          35,
          43,
          32,
          41,
          46,
          30,
          43,
          37,
          47,
          50,
          42,
          66,
          62,
          27,
          55,
          56,
          63,
          39,
          30,
          45,
          46,
          45,
          29,
          30,
          57,
          43,
          39,
          32,
          26,
          25,
          29,
          46,
          40,
          65,
          36,
          60,
          69,
          64,
          50,
          31,
          27,
          43,
          46,
          60,
          43,
          28,
          55,
          34,
          54,
          44,
          43,
          47,
          51,
          46,
          24,
          33,
          38,
          49,
          37,
          42,
          58,
          71,
          55,
          37,
          45,
          44,
          57,
          49,
          40,
          67,
          32,
          46,
          63,
          39,
          58,
          65,
          55,
          41,
          30,
          64,
          37,
          30,
          38,
          63,
          32,
          40,
          46,
          60,
          74,
          38,
          63,
          38,
          50,
          64,
          38,
          58,
          24,
          64,
          49,
          52,
          36,
          62,
          48,
          67,
          42,
          51,
          65,
          36,
          48,
          31,
          43,
          39,
          43,
          45,
          51,
          46,
          35,
          30,
          30,
          40,
          63,
          52,
          39,
          57,
          36,
          23,
          28,
          58,
          51,
          43,
          67,
          56,
          54,
          34,
          39,
          39,
          41,
          34,
          44,
          47,
          44,
          48,
          42,
          37,
          44,
          50,
          55,
          48,
          56,
          28,
          37,
          33,
          56,
          39,
          31,
          47,
          63,
          42,
          36,
          32,
          58,
          62,
          49,
          35,
          49,
          61,
          65,
          29,
          67,
          59,
          38,
          39,
          30,
          64,
          37,
          63,
          30,
          32,
          23,
          44,
          33,
          35,
          43,
          44,
          55,
          41,
          44,
          67,
          63,
          39,
          55,
          59,
          61,
          49,
          41,
          38,
          64,
          45,
          32,
          36,
          40,
          63,
          66,
          62,
          30,
          35,
          65,
          58,
          45,
          27,
          31,
          44,
          37,
          54,
          41,
          54,
          26,
          45,
          22,
          55,
          34,
          43,
          40,
          45,
          38,
          21,
          65,
          64,
          39,
          58,
          38,
          39,
          38,
          65,
          30,
          40,
          42,
          28,
          52,
          44,
          65,
          53,
          59,
          33,
          61,
          40,
          60,
          45,
          33,
          62,
          52,
          43,
          38,
          38,
          34,
          58,
          57,
          42,
          48,
          28,
          49,
          40,
          38,
          38,
          65,
          34,
          57,
          49,
          45,
          44,
          60,
          48,
          40,
          43,
          46,
          57,
          41,
          57,
          43,
          54,
          41,
          52,
          56,
          42,
          38,
          45,
          38,
          31,
          50,
          39,
          59,
          49,
          50,
          34,
          57,
          65,
          22,
          40,
          60,
          24,
          30,
          33,
          49,
          44,
          39,
          63,
          59,
          39,
          47,
          41,
          43,
          59,
          40,
          42,
          50,
          36,
          57,
          54,
          42,
          58,
          57,
          42,
          31,
          43,
          67,
          57,
          57,
          62,
          40,
          41,
          60,
          39,
          24,
          45,
          41,
          36,
          24,
          46,
          34,
          60,
          51,
          51,
          59,
          33,
          64,
          19,
          38,
          60,
          31,
          66,
          36,
          29,
          35,
          32,
          35,
          51,
          44,
          46,
          35,
          52,
          42,
          30,
          44,
          28,
          37,
          40,
          47,
          68,
          33,
          58,
          60
         ],
         "xaxis": "x",
         "yaxis": "y"
        }
       ],
       "layout": {
        "barmode": "relative",
        "height": 300,
        "legend": {
         "tracegroupgap": 0
        },
        "margin": {
         "t": 60
        },
        "template": {
         "data": {
          "bar": [
           {
            "error_x": {
             "color": "#2a3f5f"
            },
            "error_y": {
             "color": "#2a3f5f"
            },
            "marker": {
             "line": {
              "color": "#E5ECF6",
              "width": 0.5
             },
             "pattern": {
              "fillmode": "overlay",
              "size": 10,
              "solidity": 0.2
             }
            },
            "type": "bar"
           }
          ],
          "barpolar": [
           {
            "marker": {
             "line": {
              "color": "#E5ECF6",
              "width": 0.5
             },
             "pattern": {
              "fillmode": "overlay",
              "size": 10,
              "solidity": 0.2
             }
            },
            "type": "barpolar"
           }
          ],
          "carpet": [
           {
            "aaxis": {
             "endlinecolor": "#2a3f5f",
             "gridcolor": "white",
             "linecolor": "white",
             "minorgridcolor": "white",
             "startlinecolor": "#2a3f5f"
            },
            "baxis": {
             "endlinecolor": "#2a3f5f",
             "gridcolor": "white",
             "linecolor": "white",
             "minorgridcolor": "white",
             "startlinecolor": "#2a3f5f"
            },
            "type": "carpet"
           }
          ],
          "choropleth": [
           {
            "colorbar": {
             "outlinewidth": 0,
             "ticks": ""
            },
            "type": "choropleth"
           }
          ],
          "contour": [
           {
            "colorbar": {
             "outlinewidth": 0,
             "ticks": ""
            },
            "colorscale": [
             [
              0,
              "#0d0887"
             ],
             [
              0.1111111111111111,
              "#46039f"
             ],
             [
              0.2222222222222222,
              "#7201a8"
             ],
             [
              0.3333333333333333,
              "#9c179e"
             ],
             [
              0.4444444444444444,
              "#bd3786"
             ],
             [
              0.5555555555555556,
              "#d8576b"
             ],
             [
              0.6666666666666666,
              "#ed7953"
             ],
             [
              0.7777777777777778,
              "#fb9f3a"
             ],
             [
              0.8888888888888888,
              "#fdca26"
             ],
             [
              1,
              "#f0f921"
             ]
            ],
            "type": "contour"
           }
          ],
          "contourcarpet": [
           {
            "colorbar": {
             "outlinewidth": 0,
             "ticks": ""
            },
            "type": "contourcarpet"
           }
          ],
          "heatmap": [
           {
            "colorbar": {
             "outlinewidth": 0,
             "ticks": ""
            },
            "colorscale": [
             [
              0,
              "#0d0887"
             ],
             [
              0.1111111111111111,
              "#46039f"
             ],
             [
              0.2222222222222222,
              "#7201a8"
             ],
             [
              0.3333333333333333,
              "#9c179e"
             ],
             [
              0.4444444444444444,
              "#bd3786"
             ],
             [
              0.5555555555555556,
              "#d8576b"
             ],
             [
              0.6666666666666666,
              "#ed7953"
             ],
             [
              0.7777777777777778,
              "#fb9f3a"
             ],
             [
              0.8888888888888888,
              "#fdca26"
             ],
             [
              1,
              "#f0f921"
             ]
            ],
            "type": "heatmap"
           }
          ],
          "heatmapgl": [
           {
            "colorbar": {
             "outlinewidth": 0,
             "ticks": ""
            },
            "colorscale": [
             [
              0,
              "#0d0887"
             ],
             [
              0.1111111111111111,
              "#46039f"
             ],
             [
              0.2222222222222222,
              "#7201a8"
             ],
             [
              0.3333333333333333,
              "#9c179e"
             ],
             [
              0.4444444444444444,
              "#bd3786"
             ],
             [
              0.5555555555555556,
              "#d8576b"
             ],
             [
              0.6666666666666666,
              "#ed7953"
             ],
             [
              0.7777777777777778,
              "#fb9f3a"
             ],
             [
              0.8888888888888888,
              "#fdca26"
             ],
             [
              1,
              "#f0f921"
             ]
            ],
            "type": "heatmapgl"
           }
          ],
          "histogram": [
           {
            "marker": {
             "pattern": {
              "fillmode": "overlay",
              "size": 10,
              "solidity": 0.2
             }
            },
            "type": "histogram"
           }
          ],
          "histogram2d": [
           {
            "colorbar": {
             "outlinewidth": 0,
             "ticks": ""
            },
            "colorscale": [
             [
              0,
              "#0d0887"
             ],
             [
              0.1111111111111111,
              "#46039f"
             ],
             [
              0.2222222222222222,
              "#7201a8"
             ],
             [
              0.3333333333333333,
              "#9c179e"
             ],
             [
              0.4444444444444444,
              "#bd3786"
             ],
             [
              0.5555555555555556,
              "#d8576b"
             ],
             [
              0.6666666666666666,
              "#ed7953"
             ],
             [
              0.7777777777777778,
              "#fb9f3a"
             ],
             [
              0.8888888888888888,
              "#fdca26"
             ],
             [
              1,
              "#f0f921"
             ]
            ],
            "type": "histogram2d"
           }
          ],
          "histogram2dcontour": [
           {
            "colorbar": {
             "outlinewidth": 0,
             "ticks": ""
            },
            "colorscale": [
             [
              0,
              "#0d0887"
             ],
             [
              0.1111111111111111,
              "#46039f"
             ],
             [
              0.2222222222222222,
              "#7201a8"
             ],
             [
              0.3333333333333333,
              "#9c179e"
             ],
             [
              0.4444444444444444,
              "#bd3786"
             ],
             [
              0.5555555555555556,
              "#d8576b"
             ],
             [
              0.6666666666666666,
              "#ed7953"
             ],
             [
              0.7777777777777778,
              "#fb9f3a"
             ],
             [
              0.8888888888888888,
              "#fdca26"
             ],
             [
              1,
              "#f0f921"
             ]
            ],
            "type": "histogram2dcontour"
           }
          ],
          "mesh3d": [
           {
            "colorbar": {
             "outlinewidth": 0,
             "ticks": ""
            },
            "type": "mesh3d"
           }
          ],
          "parcoords": [
           {
            "line": {
             "colorbar": {
              "outlinewidth": 0,
              "ticks": ""
             }
            },
            "type": "parcoords"
           }
          ],
          "pie": [
           {
            "automargin": true,
            "type": "pie"
           }
          ],
          "scatter": [
           {
            "fillpattern": {
             "fillmode": "overlay",
             "size": 10,
             "solidity": 0.2
            },
            "type": "scatter"
           }
          ],
          "scatter3d": [
           {
            "line": {
             "colorbar": {
              "outlinewidth": 0,
              "ticks": ""
             }
            },
            "marker": {
             "colorbar": {
              "outlinewidth": 0,
              "ticks": ""
             }
            },
            "type": "scatter3d"
           }
          ],
          "scattercarpet": [
           {
            "marker": {
             "colorbar": {
              "outlinewidth": 0,
              "ticks": ""
             }
            },
            "type": "scattercarpet"
           }
          ],
          "scattergeo": [
           {
            "marker": {
             "colorbar": {
              "outlinewidth": 0,
              "ticks": ""
             }
            },
            "type": "scattergeo"
           }
          ],
          "scattergl": [
           {
            "marker": {
             "colorbar": {
              "outlinewidth": 0,
              "ticks": ""
             }
            },
            "type": "scattergl"
           }
          ],
          "scattermapbox": [
           {
            "marker": {
             "colorbar": {
              "outlinewidth": 0,
              "ticks": ""
             }
            },
            "type": "scattermapbox"
           }
          ],
          "scatterpolar": [
           {
            "marker": {
             "colorbar": {
              "outlinewidth": 0,
              "ticks": ""
             }
            },
            "type": "scatterpolar"
           }
          ],
          "scatterpolargl": [
           {
            "marker": {
             "colorbar": {
              "outlinewidth": 0,
              "ticks": ""
             }
            },
            "type": "scatterpolargl"
           }
          ],
          "scatterternary": [
           {
            "marker": {
             "colorbar": {
              "outlinewidth": 0,
              "ticks": ""
             }
            },
            "type": "scatterternary"
           }
          ],
          "surface": [
           {
            "colorbar": {
             "outlinewidth": 0,
             "ticks": ""
            },
            "colorscale": [
             [
              0,
              "#0d0887"
             ],
             [
              0.1111111111111111,
              "#46039f"
             ],
             [
              0.2222222222222222,
              "#7201a8"
             ],
             [
              0.3333333333333333,
              "#9c179e"
             ],
             [
              0.4444444444444444,
              "#bd3786"
             ],
             [
              0.5555555555555556,
              "#d8576b"
             ],
             [
              0.6666666666666666,
              "#ed7953"
             ],
             [
              0.7777777777777778,
              "#fb9f3a"
             ],
             [
              0.8888888888888888,
              "#fdca26"
             ],
             [
              1,
              "#f0f921"
             ]
            ],
            "type": "surface"
           }
          ],
          "table": [
           {
            "cells": {
             "fill": {
              "color": "#EBF0F8"
             },
             "line": {
              "color": "white"
             }
            },
            "header": {
             "fill": {
              "color": "#C8D4E3"
             },
             "line": {
              "color": "white"
             }
            },
            "type": "table"
           }
          ]
         },
         "layout": {
          "annotationdefaults": {
           "arrowcolor": "#2a3f5f",
           "arrowhead": 0,
           "arrowwidth": 1
          },
          "autotypenumbers": "strict",
          "coloraxis": {
           "colorbar": {
            "outlinewidth": 0,
            "ticks": ""
           }
          },
          "colorscale": {
           "diverging": [
            [
             0,
             "#8e0152"
            ],
            [
             0.1,
             "#c51b7d"
            ],
            [
             0.2,
             "#de77ae"
            ],
            [
             0.3,
             "#f1b6da"
            ],
            [
             0.4,
             "#fde0ef"
            ],
            [
             0.5,
             "#f7f7f7"
            ],
            [
             0.6,
             "#e6f5d0"
            ],
            [
             0.7,
             "#b8e186"
            ],
            [
             0.8,
             "#7fbc41"
            ],
            [
             0.9,
             "#4d9221"
            ],
            [
             1,
             "#276419"
            ]
           ],
           "sequential": [
            [
             0,
             "#0d0887"
            ],
            [
             0.1111111111111111,
             "#46039f"
            ],
            [
             0.2222222222222222,
             "#7201a8"
            ],
            [
             0.3333333333333333,
             "#9c179e"
            ],
            [
             0.4444444444444444,
             "#bd3786"
            ],
            [
             0.5555555555555556,
             "#d8576b"
            ],
            [
             0.6666666666666666,
             "#ed7953"
            ],
            [
             0.7777777777777778,
             "#fb9f3a"
            ],
            [
             0.8888888888888888,
             "#fdca26"
            ],
            [
             1,
             "#f0f921"
            ]
           ],
           "sequentialminus": [
            [
             0,
             "#0d0887"
            ],
            [
             0.1111111111111111,
             "#46039f"
            ],
            [
             0.2222222222222222,
             "#7201a8"
            ],
            [
             0.3333333333333333,
             "#9c179e"
            ],
            [
             0.4444444444444444,
             "#bd3786"
            ],
            [
             0.5555555555555556,
             "#d8576b"
            ],
            [
             0.6666666666666666,
             "#ed7953"
            ],
            [
             0.7777777777777778,
             "#fb9f3a"
            ],
            [
             0.8888888888888888,
             "#fdca26"
            ],
            [
             1,
             "#f0f921"
            ]
           ]
          },
          "colorway": [
           "#636efa",
           "#EF553B",
           "#00cc96",
           "#ab63fa",
           "#FFA15A",
           "#19d3f3",
           "#FF6692",
           "#B6E880",
           "#FF97FF",
           "#FECB52"
          ],
          "font": {
           "color": "#2a3f5f"
          },
          "geo": {
           "bgcolor": "white",
           "lakecolor": "white",
           "landcolor": "#E5ECF6",
           "showlakes": true,
           "showland": true,
           "subunitcolor": "white"
          },
          "hoverlabel": {
           "align": "left"
          },
          "hovermode": "closest",
          "mapbox": {
           "style": "light"
          },
          "paper_bgcolor": "white",
          "plot_bgcolor": "#E5ECF6",
          "polar": {
           "angularaxis": {
            "gridcolor": "white",
            "linecolor": "white",
            "ticks": ""
           },
           "bgcolor": "#E5ECF6",
           "radialaxis": {
            "gridcolor": "white",
            "linecolor": "white",
            "ticks": ""
           }
          },
          "scene": {
           "xaxis": {
            "backgroundcolor": "#E5ECF6",
            "gridcolor": "white",
            "gridwidth": 2,
            "linecolor": "white",
            "showbackground": true,
            "ticks": "",
            "zerolinecolor": "white"
           },
           "yaxis": {
            "backgroundcolor": "#E5ECF6",
            "gridcolor": "white",
            "gridwidth": 2,
            "linecolor": "white",
            "showbackground": true,
            "ticks": "",
            "zerolinecolor": "white"
           },
           "zaxis": {
            "backgroundcolor": "#E5ECF6",
            "gridcolor": "white",
            "gridwidth": 2,
            "linecolor": "white",
            "showbackground": true,
            "ticks": "",
            "zerolinecolor": "white"
           }
          },
          "shapedefaults": {
           "line": {
            "color": "#2a3f5f"
           }
          },
          "ternary": {
           "aaxis": {
            "gridcolor": "white",
            "linecolor": "white",
            "ticks": ""
           },
           "baxis": {
            "gridcolor": "white",
            "linecolor": "white",
            "ticks": ""
           },
           "bgcolor": "#E5ECF6",
           "caxis": {
            "gridcolor": "white",
            "linecolor": "white",
            "ticks": ""
           }
          },
          "title": {
           "x": 0.05
          },
          "xaxis": {
           "automargin": true,
           "gridcolor": "white",
           "linecolor": "white",
           "ticks": "",
           "title": {
            "standoff": 15
           },
           "zerolinecolor": "white",
           "zerolinewidth": 2
          },
          "yaxis": {
           "automargin": true,
           "gridcolor": "white",
           "linecolor": "white",
           "ticks": "",
           "title": {
            "standoff": 15
           },
           "zerolinecolor": "white",
           "zerolinewidth": 2
          }
         }
        },
        "width": 600,
        "xaxis": {
         "anchor": "y",
         "domain": [
          0,
          1
         ],
         "title": {
          "text": "age"
         }
        },
        "yaxis": {
         "anchor": "x",
         "domain": [
          0,
          1
         ],
         "title": {
          "text": "count"
         }
        }
       }
      }
     },
     "metadata": {},
     "output_type": "display_data"
    }
   ],
   "source": [
    "viz_dist(df, 'age')"
   ]
  },
  {
   "cell_type": "markdown",
   "metadata": {},
   "source": [
    "Remove outliers\n",
    "1. There're outliners in age and income column.\n",
    "2. It is observed that majority of our customers earn between <= 90k, income above 600,000 will be removed.\n",
    "3. Age greater than 100 will be remove, these customers can be treated differently, the age inputed could be a result of incorrect  entry."
   ]
  },
  {
   "cell_type": "code",
   "execution_count": 21,
   "metadata": {},
   "outputs": [
    {
     "data": {
      "text/html": [
       "<div>\n",
       "<style scoped>\n",
       "    .dataframe tbody tr th:only-of-type {\n",
       "        vertical-align: middle;\n",
       "    }\n",
       "\n",
       "    .dataframe tbody tr th {\n",
       "        vertical-align: top;\n",
       "    }\n",
       "\n",
       "    .dataframe thead th {\n",
       "        text-align: right;\n",
       "    }\n",
       "</style>\n",
       "<table border=\"1\" class=\"dataframe\">\n",
       "  <thead>\n",
       "    <tr style=\"text-align: right;\">\n",
       "      <th></th>\n",
       "      <th>id</th>\n",
       "      <th>education</th>\n",
       "      <th>marital_status</th>\n",
       "      <th>income</th>\n",
       "      <th>wines</th>\n",
       "      <th>fruits</th>\n",
       "      <th>meat</th>\n",
       "      <th>fish</th>\n",
       "      <th>sweets</th>\n",
       "      <th>gold</th>\n",
       "      <th>customers_engagement</th>\n",
       "      <th>age</th>\n",
       "      <th>kids</th>\n",
       "      <th>total_amount_spent</th>\n",
       "    </tr>\n",
       "  </thead>\n",
       "  <tbody>\n",
       "    <tr>\n",
       "      <th>192</th>\n",
       "      <td>7829</td>\n",
       "      <td>PG</td>\n",
       "      <td>Single</td>\n",
       "      <td>36640.0</td>\n",
       "      <td>15</td>\n",
       "      <td>6</td>\n",
       "      <td>8</td>\n",
       "      <td>7</td>\n",
       "      <td>4</td>\n",
       "      <td>25</td>\n",
       "      <td>1</td>\n",
       "      <td>114</td>\n",
       "      <td>1</td>\n",
       "      <td>65</td>\n",
       "    </tr>\n",
       "    <tr>\n",
       "      <th>239</th>\n",
       "      <td>11004</td>\n",
       "      <td>PG</td>\n",
       "      <td>Single</td>\n",
       "      <td>60182.0</td>\n",
       "      <td>8</td>\n",
       "      <td>0</td>\n",
       "      <td>5</td>\n",
       "      <td>7</td>\n",
       "      <td>0</td>\n",
       "      <td>2</td>\n",
       "      <td>0</td>\n",
       "      <td>121</td>\n",
       "      <td>1</td>\n",
       "      <td>22</td>\n",
       "    </tr>\n",
       "    <tr>\n",
       "      <th>339</th>\n",
       "      <td>1150</td>\n",
       "      <td>PG</td>\n",
       "      <td>In relationship</td>\n",
       "      <td>83532.0</td>\n",
       "      <td>755</td>\n",
       "      <td>144</td>\n",
       "      <td>562</td>\n",
       "      <td>104</td>\n",
       "      <td>64</td>\n",
       "      <td>224</td>\n",
       "      <td>1</td>\n",
       "      <td>115</td>\n",
       "      <td>0</td>\n",
       "      <td>1853</td>\n",
       "    </tr>\n",
       "    <tr>\n",
       "      <th>2233</th>\n",
       "      <td>9432</td>\n",
       "      <td>PG</td>\n",
       "      <td>In relationship</td>\n",
       "      <td>666666.0</td>\n",
       "      <td>9</td>\n",
       "      <td>14</td>\n",
       "      <td>18</td>\n",
       "      <td>8</td>\n",
       "      <td>1</td>\n",
       "      <td>12</td>\n",
       "      <td>1</td>\n",
       "      <td>37</td>\n",
       "      <td>1</td>\n",
       "      <td>62</td>\n",
       "    </tr>\n",
       "  </tbody>\n",
       "</table>\n",
       "</div>"
      ],
      "text/plain": [
       "         id education   marital_status    income  wines  fruits  meat  fish  \\\n",
       "192    7829        PG           Single   36640.0     15       6     8     7   \n",
       "239   11004        PG           Single   60182.0      8       0     5     7   \n",
       "339    1150        PG  In relationship   83532.0    755     144   562   104   \n",
       "2233   9432        PG  In relationship  666666.0      9      14    18     8   \n",
       "\n",
       "      sweets  gold  customers_engagement  age  kids  total_amount_spent  \n",
       "192        4    25                     1  114     1                  65  \n",
       "239        0     2                     0  121     1                  22  \n",
       "339       64   224                     1  115     0                1853  \n",
       "2233       1    12                     1   37     1                  62  "
      ]
     },
     "execution_count": 21,
     "metadata": {},
     "output_type": "execute_result"
    }
   ],
   "source": [
    "# customer with the large income and age\n",
    "df_outliers = df[(df['age']> 100) | (df['income']>600000)]\n",
    "df_outliers"
   ]
  },
  {
   "cell_type": "code",
   "execution_count": 22,
   "metadata": {},
   "outputs": [],
   "source": [
    "# new data after removing outliers\n",
    "df = df[(df['age'] < 100) & (df['income'] < 600000)]"
   ]
  },
  {
   "cell_type": "markdown",
   "metadata": {},
   "source": [
    "## Data Exploration\n",
    "Visualise category variables using univariate and bivariate analysis."
   ]
  },
  {
   "cell_type": "code",
   "execution_count": 23,
   "metadata": {},
   "outputs": [],
   "source": [
    "# pip install --upgrade nbformat  --to display plotly viz"
   ]
  },
  {
   "cell_type": "markdown",
   "metadata": {},
   "source": [
    "Number of customers in marital and education status"
   ]
  },
  {
   "cell_type": "code",
   "execution_count": 24,
   "metadata": {},
   "outputs": [
    {
     "data": {
      "application/vnd.plotly.v1+json": {
       "config": {
        "plotlyServerURL": "https://plot.ly"
       },
       "data": [
        {
         "alignmentgroup": "True",
         "hovertemplate": "education=PG<br>marital_status=%{x}<br>id=%{y}<extra></extra>",
         "legendgroup": "PG",
         "marker": {
          "color": "darkblue",
          "pattern": {
           "shape": ""
          }
         },
         "name": "PG",
         "offsetgroup": "PG",
         "orientation": "v",
         "showlegend": true,
         "textposition": "auto",
         "type": "bar",
         "x": [
          "In relationship",
          "Single"
         ],
         "xaxis": "x",
         "y": [
          1394,
          764
         ],
         "yaxis": "y"
        },
        {
         "alignmentgroup": "True",
         "hovertemplate": "education=UG<br>marital_status=%{x}<br>id=%{y}<extra></extra>",
         "legendgroup": "UG",
         "marker": {
          "color": "orange",
          "pattern": {
           "shape": ""
          }
         },
         "name": "UG",
         "offsetgroup": "UG",
         "orientation": "v",
         "showlegend": true,
         "textposition": "auto",
         "type": "bar",
         "x": [
          "In relationship",
          "Single"
         ],
         "xaxis": "x",
         "y": [
          34,
          20
         ],
         "yaxis": "y"
        }
       ],
       "layout": {
        "barmode": "group",
        "height": 400,
        "legend": {
         "title": {
          "text": "education"
         },
         "tracegroupgap": 0
        },
        "template": {
         "data": {
          "bar": [
           {
            "error_x": {
             "color": "#2a3f5f"
            },
            "error_y": {
             "color": "#2a3f5f"
            },
            "marker": {
             "line": {
              "color": "#E5ECF6",
              "width": 0.5
             },
             "pattern": {
              "fillmode": "overlay",
              "size": 10,
              "solidity": 0.2
             }
            },
            "type": "bar"
           }
          ],
          "barpolar": [
           {
            "marker": {
             "line": {
              "color": "#E5ECF6",
              "width": 0.5
             },
             "pattern": {
              "fillmode": "overlay",
              "size": 10,
              "solidity": 0.2
             }
            },
            "type": "barpolar"
           }
          ],
          "carpet": [
           {
            "aaxis": {
             "endlinecolor": "#2a3f5f",
             "gridcolor": "white",
             "linecolor": "white",
             "minorgridcolor": "white",
             "startlinecolor": "#2a3f5f"
            },
            "baxis": {
             "endlinecolor": "#2a3f5f",
             "gridcolor": "white",
             "linecolor": "white",
             "minorgridcolor": "white",
             "startlinecolor": "#2a3f5f"
            },
            "type": "carpet"
           }
          ],
          "choropleth": [
           {
            "colorbar": {
             "outlinewidth": 0,
             "ticks": ""
            },
            "type": "choropleth"
           }
          ],
          "contour": [
           {
            "colorbar": {
             "outlinewidth": 0,
             "ticks": ""
            },
            "colorscale": [
             [
              0,
              "#0d0887"
             ],
             [
              0.1111111111111111,
              "#46039f"
             ],
             [
              0.2222222222222222,
              "#7201a8"
             ],
             [
              0.3333333333333333,
              "#9c179e"
             ],
             [
              0.4444444444444444,
              "#bd3786"
             ],
             [
              0.5555555555555556,
              "#d8576b"
             ],
             [
              0.6666666666666666,
              "#ed7953"
             ],
             [
              0.7777777777777778,
              "#fb9f3a"
             ],
             [
              0.8888888888888888,
              "#fdca26"
             ],
             [
              1,
              "#f0f921"
             ]
            ],
            "type": "contour"
           }
          ],
          "contourcarpet": [
           {
            "colorbar": {
             "outlinewidth": 0,
             "ticks": ""
            },
            "type": "contourcarpet"
           }
          ],
          "heatmap": [
           {
            "colorbar": {
             "outlinewidth": 0,
             "ticks": ""
            },
            "colorscale": [
             [
              0,
              "#0d0887"
             ],
             [
              0.1111111111111111,
              "#46039f"
             ],
             [
              0.2222222222222222,
              "#7201a8"
             ],
             [
              0.3333333333333333,
              "#9c179e"
             ],
             [
              0.4444444444444444,
              "#bd3786"
             ],
             [
              0.5555555555555556,
              "#d8576b"
             ],
             [
              0.6666666666666666,
              "#ed7953"
             ],
             [
              0.7777777777777778,
              "#fb9f3a"
             ],
             [
              0.8888888888888888,
              "#fdca26"
             ],
             [
              1,
              "#f0f921"
             ]
            ],
            "type": "heatmap"
           }
          ],
          "heatmapgl": [
           {
            "colorbar": {
             "outlinewidth": 0,
             "ticks": ""
            },
            "colorscale": [
             [
              0,
              "#0d0887"
             ],
             [
              0.1111111111111111,
              "#46039f"
             ],
             [
              0.2222222222222222,
              "#7201a8"
             ],
             [
              0.3333333333333333,
              "#9c179e"
             ],
             [
              0.4444444444444444,
              "#bd3786"
             ],
             [
              0.5555555555555556,
              "#d8576b"
             ],
             [
              0.6666666666666666,
              "#ed7953"
             ],
             [
              0.7777777777777778,
              "#fb9f3a"
             ],
             [
              0.8888888888888888,
              "#fdca26"
             ],
             [
              1,
              "#f0f921"
             ]
            ],
            "type": "heatmapgl"
           }
          ],
          "histogram": [
           {
            "marker": {
             "pattern": {
              "fillmode": "overlay",
              "size": 10,
              "solidity": 0.2
             }
            },
            "type": "histogram"
           }
          ],
          "histogram2d": [
           {
            "colorbar": {
             "outlinewidth": 0,
             "ticks": ""
            },
            "colorscale": [
             [
              0,
              "#0d0887"
             ],
             [
              0.1111111111111111,
              "#46039f"
             ],
             [
              0.2222222222222222,
              "#7201a8"
             ],
             [
              0.3333333333333333,
              "#9c179e"
             ],
             [
              0.4444444444444444,
              "#bd3786"
             ],
             [
              0.5555555555555556,
              "#d8576b"
             ],
             [
              0.6666666666666666,
              "#ed7953"
             ],
             [
              0.7777777777777778,
              "#fb9f3a"
             ],
             [
              0.8888888888888888,
              "#fdca26"
             ],
             [
              1,
              "#f0f921"
             ]
            ],
            "type": "histogram2d"
           }
          ],
          "histogram2dcontour": [
           {
            "colorbar": {
             "outlinewidth": 0,
             "ticks": ""
            },
            "colorscale": [
             [
              0,
              "#0d0887"
             ],
             [
              0.1111111111111111,
              "#46039f"
             ],
             [
              0.2222222222222222,
              "#7201a8"
             ],
             [
              0.3333333333333333,
              "#9c179e"
             ],
             [
              0.4444444444444444,
              "#bd3786"
             ],
             [
              0.5555555555555556,
              "#d8576b"
             ],
             [
              0.6666666666666666,
              "#ed7953"
             ],
             [
              0.7777777777777778,
              "#fb9f3a"
             ],
             [
              0.8888888888888888,
              "#fdca26"
             ],
             [
              1,
              "#f0f921"
             ]
            ],
            "type": "histogram2dcontour"
           }
          ],
          "mesh3d": [
           {
            "colorbar": {
             "outlinewidth": 0,
             "ticks": ""
            },
            "type": "mesh3d"
           }
          ],
          "parcoords": [
           {
            "line": {
             "colorbar": {
              "outlinewidth": 0,
              "ticks": ""
             }
            },
            "type": "parcoords"
           }
          ],
          "pie": [
           {
            "automargin": true,
            "type": "pie"
           }
          ],
          "scatter": [
           {
            "fillpattern": {
             "fillmode": "overlay",
             "size": 10,
             "solidity": 0.2
            },
            "type": "scatter"
           }
          ],
          "scatter3d": [
           {
            "line": {
             "colorbar": {
              "outlinewidth": 0,
              "ticks": ""
             }
            },
            "marker": {
             "colorbar": {
              "outlinewidth": 0,
              "ticks": ""
             }
            },
            "type": "scatter3d"
           }
          ],
          "scattercarpet": [
           {
            "marker": {
             "colorbar": {
              "outlinewidth": 0,
              "ticks": ""
             }
            },
            "type": "scattercarpet"
           }
          ],
          "scattergeo": [
           {
            "marker": {
             "colorbar": {
              "outlinewidth": 0,
              "ticks": ""
             }
            },
            "type": "scattergeo"
           }
          ],
          "scattergl": [
           {
            "marker": {
             "colorbar": {
              "outlinewidth": 0,
              "ticks": ""
             }
            },
            "type": "scattergl"
           }
          ],
          "scattermapbox": [
           {
            "marker": {
             "colorbar": {
              "outlinewidth": 0,
              "ticks": ""
             }
            },
            "type": "scattermapbox"
           }
          ],
          "scatterpolar": [
           {
            "marker": {
             "colorbar": {
              "outlinewidth": 0,
              "ticks": ""
             }
            },
            "type": "scatterpolar"
           }
          ],
          "scatterpolargl": [
           {
            "marker": {
             "colorbar": {
              "outlinewidth": 0,
              "ticks": ""
             }
            },
            "type": "scatterpolargl"
           }
          ],
          "scatterternary": [
           {
            "marker": {
             "colorbar": {
              "outlinewidth": 0,
              "ticks": ""
             }
            },
            "type": "scatterternary"
           }
          ],
          "surface": [
           {
            "colorbar": {
             "outlinewidth": 0,
             "ticks": ""
            },
            "colorscale": [
             [
              0,
              "#0d0887"
             ],
             [
              0.1111111111111111,
              "#46039f"
             ],
             [
              0.2222222222222222,
              "#7201a8"
             ],
             [
              0.3333333333333333,
              "#9c179e"
             ],
             [
              0.4444444444444444,
              "#bd3786"
             ],
             [
              0.5555555555555556,
              "#d8576b"
             ],
             [
              0.6666666666666666,
              "#ed7953"
             ],
             [
              0.7777777777777778,
              "#fb9f3a"
             ],
             [
              0.8888888888888888,
              "#fdca26"
             ],
             [
              1,
              "#f0f921"
             ]
            ],
            "type": "surface"
           }
          ],
          "table": [
           {
            "cells": {
             "fill": {
              "color": "#EBF0F8"
             },
             "line": {
              "color": "white"
             }
            },
            "header": {
             "fill": {
              "color": "#C8D4E3"
             },
             "line": {
              "color": "white"
             }
            },
            "type": "table"
           }
          ]
         },
         "layout": {
          "annotationdefaults": {
           "arrowcolor": "#2a3f5f",
           "arrowhead": 0,
           "arrowwidth": 1
          },
          "autotypenumbers": "strict",
          "coloraxis": {
           "colorbar": {
            "outlinewidth": 0,
            "ticks": ""
           }
          },
          "colorscale": {
           "diverging": [
            [
             0,
             "#8e0152"
            ],
            [
             0.1,
             "#c51b7d"
            ],
            [
             0.2,
             "#de77ae"
            ],
            [
             0.3,
             "#f1b6da"
            ],
            [
             0.4,
             "#fde0ef"
            ],
            [
             0.5,
             "#f7f7f7"
            ],
            [
             0.6,
             "#e6f5d0"
            ],
            [
             0.7,
             "#b8e186"
            ],
            [
             0.8,
             "#7fbc41"
            ],
            [
             0.9,
             "#4d9221"
            ],
            [
             1,
             "#276419"
            ]
           ],
           "sequential": [
            [
             0,
             "#0d0887"
            ],
            [
             0.1111111111111111,
             "#46039f"
            ],
            [
             0.2222222222222222,
             "#7201a8"
            ],
            [
             0.3333333333333333,
             "#9c179e"
            ],
            [
             0.4444444444444444,
             "#bd3786"
            ],
            [
             0.5555555555555556,
             "#d8576b"
            ],
            [
             0.6666666666666666,
             "#ed7953"
            ],
            [
             0.7777777777777778,
             "#fb9f3a"
            ],
            [
             0.8888888888888888,
             "#fdca26"
            ],
            [
             1,
             "#f0f921"
            ]
           ],
           "sequentialminus": [
            [
             0,
             "#0d0887"
            ],
            [
             0.1111111111111111,
             "#46039f"
            ],
            [
             0.2222222222222222,
             "#7201a8"
            ],
            [
             0.3333333333333333,
             "#9c179e"
            ],
            [
             0.4444444444444444,
             "#bd3786"
            ],
            [
             0.5555555555555556,
             "#d8576b"
            ],
            [
             0.6666666666666666,
             "#ed7953"
            ],
            [
             0.7777777777777778,
             "#fb9f3a"
            ],
            [
             0.8888888888888888,
             "#fdca26"
            ],
            [
             1,
             "#f0f921"
            ]
           ]
          },
          "colorway": [
           "#636efa",
           "#EF553B",
           "#00cc96",
           "#ab63fa",
           "#FFA15A",
           "#19d3f3",
           "#FF6692",
           "#B6E880",
           "#FF97FF",
           "#FECB52"
          ],
          "font": {
           "color": "#2a3f5f"
          },
          "geo": {
           "bgcolor": "white",
           "lakecolor": "white",
           "landcolor": "#E5ECF6",
           "showlakes": true,
           "showland": true,
           "subunitcolor": "white"
          },
          "hoverlabel": {
           "align": "left"
          },
          "hovermode": "closest",
          "mapbox": {
           "style": "light"
          },
          "paper_bgcolor": "white",
          "plot_bgcolor": "#E5ECF6",
          "polar": {
           "angularaxis": {
            "gridcolor": "white",
            "linecolor": "white",
            "ticks": ""
           },
           "bgcolor": "#E5ECF6",
           "radialaxis": {
            "gridcolor": "white",
            "linecolor": "white",
            "ticks": ""
           }
          },
          "scene": {
           "xaxis": {
            "backgroundcolor": "#E5ECF6",
            "gridcolor": "white",
            "gridwidth": 2,
            "linecolor": "white",
            "showbackground": true,
            "ticks": "",
            "zerolinecolor": "white"
           },
           "yaxis": {
            "backgroundcolor": "#E5ECF6",
            "gridcolor": "white",
            "gridwidth": 2,
            "linecolor": "white",
            "showbackground": true,
            "ticks": "",
            "zerolinecolor": "white"
           },
           "zaxis": {
            "backgroundcolor": "#E5ECF6",
            "gridcolor": "white",
            "gridwidth": 2,
            "linecolor": "white",
            "showbackground": true,
            "ticks": "",
            "zerolinecolor": "white"
           }
          },
          "shapedefaults": {
           "line": {
            "color": "#2a3f5f"
           }
          },
          "ternary": {
           "aaxis": {
            "gridcolor": "white",
            "linecolor": "white",
            "ticks": ""
           },
           "baxis": {
            "gridcolor": "white",
            "linecolor": "white",
            "ticks": ""
           },
           "bgcolor": "#E5ECF6",
           "caxis": {
            "gridcolor": "white",
            "linecolor": "white",
            "ticks": ""
           }
          },
          "title": {
           "x": 0.05
          },
          "xaxis": {
           "automargin": true,
           "gridcolor": "white",
           "linecolor": "white",
           "ticks": "",
           "title": {
            "standoff": 15
           },
           "zerolinecolor": "white",
           "zerolinewidth": 2
          },
          "yaxis": {
           "automargin": true,
           "gridcolor": "white",
           "linecolor": "white",
           "ticks": "",
           "title": {
            "standoff": 15
           },
           "zerolinecolor": "white",
           "zerolinewidth": 2
          }
         }
        },
        "title": {
         "text": "Number of customers based on their marital and education status"
        },
        "width": 600,
        "xaxis": {
         "anchor": "y",
         "domain": [
          0,
          1
         ],
         "title": {
          "text": "marital_status"
         }
        },
        "yaxis": {
         "anchor": "x",
         "domain": [
          0,
          1
         ],
         "title": {
          "text": "id"
         }
        }
       }
      }
     },
     "metadata": {},
     "output_type": "display_data"
    }
   ],
   "source": [
    "df_marital_edu_count = df.groupby(['marital_status', 'education'])['id'].count().to_frame().reset_index()\n",
    "\n",
    "def viz_group(data, row, column, color, title):\n",
    "    fig = px.bar(data, row, column,\n",
    "             color = color, \n",
    "             barmode = 'group',\n",
    "             height = 400,\n",
    "             width = 600,\n",
    "             title = title,\n",
    "             color_discrete_sequence = ['darkblue', 'orange'])\n",
    "    fig.show()\n",
    "\n",
    "viz_group(df_marital_edu_count, 'marital_status', 'id',  'education', 'Number of customers based on their marital and education status') "
   ]
  },
  {
   "cell_type": "code",
   "execution_count": 25,
   "metadata": {},
   "outputs": [
    {
     "data": {
      "application/vnd.plotly.v1+json": {
       "config": {
        "plotlyServerURL": "https://plot.ly"
       },
       "data": [
        {
         "alignmentgroup": "True",
         "hovertemplate": "education=PG<br>marital_status=%{x}<br>total_amount_spent=%{y}<extra></extra>",
         "legendgroup": "PG",
         "marker": {
          "color": "darkblue",
          "pattern": {
           "shape": ""
          }
         },
         "name": "PG",
         "offsetgroup": "PG",
         "orientation": "v",
         "showlegend": true,
         "textposition": "auto",
         "type": "bar",
         "x": [
          "In relationship",
          "Single"
         ],
         "xaxis": "x",
         "y": [
          850592,
          488268
         ],
         "yaxis": "y"
        },
        {
         "alignmentgroup": "True",
         "hovertemplate": "education=UG<br>marital_status=%{x}<br>total_amount_spent=%{y}<extra></extra>",
         "legendgroup": "UG",
         "marker": {
          "color": "orange",
          "pattern": {
           "shape": ""
          }
         },
         "name": "UG",
         "offsetgroup": "UG",
         "orientation": "v",
         "showlegend": true,
         "textposition": "auto",
         "type": "bar",
         "x": [
          "In relationship",
          "Single"
         ],
         "xaxis": "x",
         "y": [
          3247,
          1170
         ],
         "yaxis": "y"
        }
       ],
       "layout": {
        "barmode": "group",
        "height": 400,
        "legend": {
         "title": {
          "text": "education"
         },
         "tracegroupgap": 0
        },
        "template": {
         "data": {
          "bar": [
           {
            "error_x": {
             "color": "#2a3f5f"
            },
            "error_y": {
             "color": "#2a3f5f"
            },
            "marker": {
             "line": {
              "color": "#E5ECF6",
              "width": 0.5
             },
             "pattern": {
              "fillmode": "overlay",
              "size": 10,
              "solidity": 0.2
             }
            },
            "type": "bar"
           }
          ],
          "barpolar": [
           {
            "marker": {
             "line": {
              "color": "#E5ECF6",
              "width": 0.5
             },
             "pattern": {
              "fillmode": "overlay",
              "size": 10,
              "solidity": 0.2
             }
            },
            "type": "barpolar"
           }
          ],
          "carpet": [
           {
            "aaxis": {
             "endlinecolor": "#2a3f5f",
             "gridcolor": "white",
             "linecolor": "white",
             "minorgridcolor": "white",
             "startlinecolor": "#2a3f5f"
            },
            "baxis": {
             "endlinecolor": "#2a3f5f",
             "gridcolor": "white",
             "linecolor": "white",
             "minorgridcolor": "white",
             "startlinecolor": "#2a3f5f"
            },
            "type": "carpet"
           }
          ],
          "choropleth": [
           {
            "colorbar": {
             "outlinewidth": 0,
             "ticks": ""
            },
            "type": "choropleth"
           }
          ],
          "contour": [
           {
            "colorbar": {
             "outlinewidth": 0,
             "ticks": ""
            },
            "colorscale": [
             [
              0,
              "#0d0887"
             ],
             [
              0.1111111111111111,
              "#46039f"
             ],
             [
              0.2222222222222222,
              "#7201a8"
             ],
             [
              0.3333333333333333,
              "#9c179e"
             ],
             [
              0.4444444444444444,
              "#bd3786"
             ],
             [
              0.5555555555555556,
              "#d8576b"
             ],
             [
              0.6666666666666666,
              "#ed7953"
             ],
             [
              0.7777777777777778,
              "#fb9f3a"
             ],
             [
              0.8888888888888888,
              "#fdca26"
             ],
             [
              1,
              "#f0f921"
             ]
            ],
            "type": "contour"
           }
          ],
          "contourcarpet": [
           {
            "colorbar": {
             "outlinewidth": 0,
             "ticks": ""
            },
            "type": "contourcarpet"
           }
          ],
          "heatmap": [
           {
            "colorbar": {
             "outlinewidth": 0,
             "ticks": ""
            },
            "colorscale": [
             [
              0,
              "#0d0887"
             ],
             [
              0.1111111111111111,
              "#46039f"
             ],
             [
              0.2222222222222222,
              "#7201a8"
             ],
             [
              0.3333333333333333,
              "#9c179e"
             ],
             [
              0.4444444444444444,
              "#bd3786"
             ],
             [
              0.5555555555555556,
              "#d8576b"
             ],
             [
              0.6666666666666666,
              "#ed7953"
             ],
             [
              0.7777777777777778,
              "#fb9f3a"
             ],
             [
              0.8888888888888888,
              "#fdca26"
             ],
             [
              1,
              "#f0f921"
             ]
            ],
            "type": "heatmap"
           }
          ],
          "heatmapgl": [
           {
            "colorbar": {
             "outlinewidth": 0,
             "ticks": ""
            },
            "colorscale": [
             [
              0,
              "#0d0887"
             ],
             [
              0.1111111111111111,
              "#46039f"
             ],
             [
              0.2222222222222222,
              "#7201a8"
             ],
             [
              0.3333333333333333,
              "#9c179e"
             ],
             [
              0.4444444444444444,
              "#bd3786"
             ],
             [
              0.5555555555555556,
              "#d8576b"
             ],
             [
              0.6666666666666666,
              "#ed7953"
             ],
             [
              0.7777777777777778,
              "#fb9f3a"
             ],
             [
              0.8888888888888888,
              "#fdca26"
             ],
             [
              1,
              "#f0f921"
             ]
            ],
            "type": "heatmapgl"
           }
          ],
          "histogram": [
           {
            "marker": {
             "pattern": {
              "fillmode": "overlay",
              "size": 10,
              "solidity": 0.2
             }
            },
            "type": "histogram"
           }
          ],
          "histogram2d": [
           {
            "colorbar": {
             "outlinewidth": 0,
             "ticks": ""
            },
            "colorscale": [
             [
              0,
              "#0d0887"
             ],
             [
              0.1111111111111111,
              "#46039f"
             ],
             [
              0.2222222222222222,
              "#7201a8"
             ],
             [
              0.3333333333333333,
              "#9c179e"
             ],
             [
              0.4444444444444444,
              "#bd3786"
             ],
             [
              0.5555555555555556,
              "#d8576b"
             ],
             [
              0.6666666666666666,
              "#ed7953"
             ],
             [
              0.7777777777777778,
              "#fb9f3a"
             ],
             [
              0.8888888888888888,
              "#fdca26"
             ],
             [
              1,
              "#f0f921"
             ]
            ],
            "type": "histogram2d"
           }
          ],
          "histogram2dcontour": [
           {
            "colorbar": {
             "outlinewidth": 0,
             "ticks": ""
            },
            "colorscale": [
             [
              0,
              "#0d0887"
             ],
             [
              0.1111111111111111,
              "#46039f"
             ],
             [
              0.2222222222222222,
              "#7201a8"
             ],
             [
              0.3333333333333333,
              "#9c179e"
             ],
             [
              0.4444444444444444,
              "#bd3786"
             ],
             [
              0.5555555555555556,
              "#d8576b"
             ],
             [
              0.6666666666666666,
              "#ed7953"
             ],
             [
              0.7777777777777778,
              "#fb9f3a"
             ],
             [
              0.8888888888888888,
              "#fdca26"
             ],
             [
              1,
              "#f0f921"
             ]
            ],
            "type": "histogram2dcontour"
           }
          ],
          "mesh3d": [
           {
            "colorbar": {
             "outlinewidth": 0,
             "ticks": ""
            },
            "type": "mesh3d"
           }
          ],
          "parcoords": [
           {
            "line": {
             "colorbar": {
              "outlinewidth": 0,
              "ticks": ""
             }
            },
            "type": "parcoords"
           }
          ],
          "pie": [
           {
            "automargin": true,
            "type": "pie"
           }
          ],
          "scatter": [
           {
            "fillpattern": {
             "fillmode": "overlay",
             "size": 10,
             "solidity": 0.2
            },
            "type": "scatter"
           }
          ],
          "scatter3d": [
           {
            "line": {
             "colorbar": {
              "outlinewidth": 0,
              "ticks": ""
             }
            },
            "marker": {
             "colorbar": {
              "outlinewidth": 0,
              "ticks": ""
             }
            },
            "type": "scatter3d"
           }
          ],
          "scattercarpet": [
           {
            "marker": {
             "colorbar": {
              "outlinewidth": 0,
              "ticks": ""
             }
            },
            "type": "scattercarpet"
           }
          ],
          "scattergeo": [
           {
            "marker": {
             "colorbar": {
              "outlinewidth": 0,
              "ticks": ""
             }
            },
            "type": "scattergeo"
           }
          ],
          "scattergl": [
           {
            "marker": {
             "colorbar": {
              "outlinewidth": 0,
              "ticks": ""
             }
            },
            "type": "scattergl"
           }
          ],
          "scattermapbox": [
           {
            "marker": {
             "colorbar": {
              "outlinewidth": 0,
              "ticks": ""
             }
            },
            "type": "scattermapbox"
           }
          ],
          "scatterpolar": [
           {
            "marker": {
             "colorbar": {
              "outlinewidth": 0,
              "ticks": ""
             }
            },
            "type": "scatterpolar"
           }
          ],
          "scatterpolargl": [
           {
            "marker": {
             "colorbar": {
              "outlinewidth": 0,
              "ticks": ""
             }
            },
            "type": "scatterpolargl"
           }
          ],
          "scatterternary": [
           {
            "marker": {
             "colorbar": {
              "outlinewidth": 0,
              "ticks": ""
             }
            },
            "type": "scatterternary"
           }
          ],
          "surface": [
           {
            "colorbar": {
             "outlinewidth": 0,
             "ticks": ""
            },
            "colorscale": [
             [
              0,
              "#0d0887"
             ],
             [
              0.1111111111111111,
              "#46039f"
             ],
             [
              0.2222222222222222,
              "#7201a8"
             ],
             [
              0.3333333333333333,
              "#9c179e"
             ],
             [
              0.4444444444444444,
              "#bd3786"
             ],
             [
              0.5555555555555556,
              "#d8576b"
             ],
             [
              0.6666666666666666,
              "#ed7953"
             ],
             [
              0.7777777777777778,
              "#fb9f3a"
             ],
             [
              0.8888888888888888,
              "#fdca26"
             ],
             [
              1,
              "#f0f921"
             ]
            ],
            "type": "surface"
           }
          ],
          "table": [
           {
            "cells": {
             "fill": {
              "color": "#EBF0F8"
             },
             "line": {
              "color": "white"
             }
            },
            "header": {
             "fill": {
              "color": "#C8D4E3"
             },
             "line": {
              "color": "white"
             }
            },
            "type": "table"
           }
          ]
         },
         "layout": {
          "annotationdefaults": {
           "arrowcolor": "#2a3f5f",
           "arrowhead": 0,
           "arrowwidth": 1
          },
          "autotypenumbers": "strict",
          "coloraxis": {
           "colorbar": {
            "outlinewidth": 0,
            "ticks": ""
           }
          },
          "colorscale": {
           "diverging": [
            [
             0,
             "#8e0152"
            ],
            [
             0.1,
             "#c51b7d"
            ],
            [
             0.2,
             "#de77ae"
            ],
            [
             0.3,
             "#f1b6da"
            ],
            [
             0.4,
             "#fde0ef"
            ],
            [
             0.5,
             "#f7f7f7"
            ],
            [
             0.6,
             "#e6f5d0"
            ],
            [
             0.7,
             "#b8e186"
            ],
            [
             0.8,
             "#7fbc41"
            ],
            [
             0.9,
             "#4d9221"
            ],
            [
             1,
             "#276419"
            ]
           ],
           "sequential": [
            [
             0,
             "#0d0887"
            ],
            [
             0.1111111111111111,
             "#46039f"
            ],
            [
             0.2222222222222222,
             "#7201a8"
            ],
            [
             0.3333333333333333,
             "#9c179e"
            ],
            [
             0.4444444444444444,
             "#bd3786"
            ],
            [
             0.5555555555555556,
             "#d8576b"
            ],
            [
             0.6666666666666666,
             "#ed7953"
            ],
            [
             0.7777777777777778,
             "#fb9f3a"
            ],
            [
             0.8888888888888888,
             "#fdca26"
            ],
            [
             1,
             "#f0f921"
            ]
           ],
           "sequentialminus": [
            [
             0,
             "#0d0887"
            ],
            [
             0.1111111111111111,
             "#46039f"
            ],
            [
             0.2222222222222222,
             "#7201a8"
            ],
            [
             0.3333333333333333,
             "#9c179e"
            ],
            [
             0.4444444444444444,
             "#bd3786"
            ],
            [
             0.5555555555555556,
             "#d8576b"
            ],
            [
             0.6666666666666666,
             "#ed7953"
            ],
            [
             0.7777777777777778,
             "#fb9f3a"
            ],
            [
             0.8888888888888888,
             "#fdca26"
            ],
            [
             1,
             "#f0f921"
            ]
           ]
          },
          "colorway": [
           "#636efa",
           "#EF553B",
           "#00cc96",
           "#ab63fa",
           "#FFA15A",
           "#19d3f3",
           "#FF6692",
           "#B6E880",
           "#FF97FF",
           "#FECB52"
          ],
          "font": {
           "color": "#2a3f5f"
          },
          "geo": {
           "bgcolor": "white",
           "lakecolor": "white",
           "landcolor": "#E5ECF6",
           "showlakes": true,
           "showland": true,
           "subunitcolor": "white"
          },
          "hoverlabel": {
           "align": "left"
          },
          "hovermode": "closest",
          "mapbox": {
           "style": "light"
          },
          "paper_bgcolor": "white",
          "plot_bgcolor": "#E5ECF6",
          "polar": {
           "angularaxis": {
            "gridcolor": "white",
            "linecolor": "white",
            "ticks": ""
           },
           "bgcolor": "#E5ECF6",
           "radialaxis": {
            "gridcolor": "white",
            "linecolor": "white",
            "ticks": ""
           }
          },
          "scene": {
           "xaxis": {
            "backgroundcolor": "#E5ECF6",
            "gridcolor": "white",
            "gridwidth": 2,
            "linecolor": "white",
            "showbackground": true,
            "ticks": "",
            "zerolinecolor": "white"
           },
           "yaxis": {
            "backgroundcolor": "#E5ECF6",
            "gridcolor": "white",
            "gridwidth": 2,
            "linecolor": "white",
            "showbackground": true,
            "ticks": "",
            "zerolinecolor": "white"
           },
           "zaxis": {
            "backgroundcolor": "#E5ECF6",
            "gridcolor": "white",
            "gridwidth": 2,
            "linecolor": "white",
            "showbackground": true,
            "ticks": "",
            "zerolinecolor": "white"
           }
          },
          "shapedefaults": {
           "line": {
            "color": "#2a3f5f"
           }
          },
          "ternary": {
           "aaxis": {
            "gridcolor": "white",
            "linecolor": "white",
            "ticks": ""
           },
           "baxis": {
            "gridcolor": "white",
            "linecolor": "white",
            "ticks": ""
           },
           "bgcolor": "#E5ECF6",
           "caxis": {
            "gridcolor": "white",
            "linecolor": "white",
            "ticks": ""
           }
          },
          "title": {
           "x": 0.05
          },
          "xaxis": {
           "automargin": true,
           "gridcolor": "white",
           "linecolor": "white",
           "ticks": "",
           "title": {
            "standoff": 15
           },
           "zerolinecolor": "white",
           "zerolinewidth": 2
          },
          "yaxis": {
           "automargin": true,
           "gridcolor": "white",
           "linecolor": "white",
           "ticks": "",
           "title": {
            "standoff": 15
           },
           "zerolinecolor": "white",
           "zerolinewidth": 2
          }
         }
        },
        "title": {
         "text": "Purchases made by customers"
        },
        "width": 600,
        "xaxis": {
         "anchor": "y",
         "domain": [
          0,
          1
         ],
         "title": {
          "text": "marital_status"
         }
        },
        "yaxis": {
         "anchor": "x",
         "domain": [
          0,
          1
         ],
         "title": {
          "text": "total_amount_spent"
         }
        }
       }
      }
     },
     "metadata": {},
     "output_type": "display_data"
    }
   ],
   "source": [
    "df_marital_edu_value = df.groupby(['marital_status', 'education'])['total_amount_spent'].sum().to_frame().reset_index()\n",
    "\n",
    "viz_group(df_marital_edu_value, 'marital_status', 'total_amount_spent',  'education', 'Purchases made by customers') "
   ]
  },
  {
   "cell_type": "code",
   "execution_count": 26,
   "metadata": {},
   "outputs": [
    {
     "data": {
      "application/vnd.plotly.v1+json": {
       "config": {
        "plotlyServerURL": "https://plot.ly"
       },
       "data": [
        {
         "domain": {
          "x": [
           0,
           1
          ],
          "y": [
           0,
           1
          ]
         },
         "hole": 0.4,
         "hovertemplate": "marital_status=%{label}<br>id=%{value}<extra></extra>",
         "labels": [
          "In relationship",
          "Single"
         ],
         "legendgroup": "",
         "name": "",
         "showlegend": true,
         "textfont": {
          "size": 15
         },
         "textinfo": "percent",
         "type": "pie",
         "values": [
          1428,
          784
         ]
        }
       ],
       "layout": {
        "legend": {
         "tracegroupgap": 0
        },
        "piecolorway": [
         "darkblue",
         "orange"
        ],
        "template": {
         "data": {
          "bar": [
           {
            "error_x": {
             "color": "#2a3f5f"
            },
            "error_y": {
             "color": "#2a3f5f"
            },
            "marker": {
             "line": {
              "color": "#E5ECF6",
              "width": 0.5
             },
             "pattern": {
              "fillmode": "overlay",
              "size": 10,
              "solidity": 0.2
             }
            },
            "type": "bar"
           }
          ],
          "barpolar": [
           {
            "marker": {
             "line": {
              "color": "#E5ECF6",
              "width": 0.5
             },
             "pattern": {
              "fillmode": "overlay",
              "size": 10,
              "solidity": 0.2
             }
            },
            "type": "barpolar"
           }
          ],
          "carpet": [
           {
            "aaxis": {
             "endlinecolor": "#2a3f5f",
             "gridcolor": "white",
             "linecolor": "white",
             "minorgridcolor": "white",
             "startlinecolor": "#2a3f5f"
            },
            "baxis": {
             "endlinecolor": "#2a3f5f",
             "gridcolor": "white",
             "linecolor": "white",
             "minorgridcolor": "white",
             "startlinecolor": "#2a3f5f"
            },
            "type": "carpet"
           }
          ],
          "choropleth": [
           {
            "colorbar": {
             "outlinewidth": 0,
             "ticks": ""
            },
            "type": "choropleth"
           }
          ],
          "contour": [
           {
            "colorbar": {
             "outlinewidth": 0,
             "ticks": ""
            },
            "colorscale": [
             [
              0,
              "#0d0887"
             ],
             [
              0.1111111111111111,
              "#46039f"
             ],
             [
              0.2222222222222222,
              "#7201a8"
             ],
             [
              0.3333333333333333,
              "#9c179e"
             ],
             [
              0.4444444444444444,
              "#bd3786"
             ],
             [
              0.5555555555555556,
              "#d8576b"
             ],
             [
              0.6666666666666666,
              "#ed7953"
             ],
             [
              0.7777777777777778,
              "#fb9f3a"
             ],
             [
              0.8888888888888888,
              "#fdca26"
             ],
             [
              1,
              "#f0f921"
             ]
            ],
            "type": "contour"
           }
          ],
          "contourcarpet": [
           {
            "colorbar": {
             "outlinewidth": 0,
             "ticks": ""
            },
            "type": "contourcarpet"
           }
          ],
          "heatmap": [
           {
            "colorbar": {
             "outlinewidth": 0,
             "ticks": ""
            },
            "colorscale": [
             [
              0,
              "#0d0887"
             ],
             [
              0.1111111111111111,
              "#46039f"
             ],
             [
              0.2222222222222222,
              "#7201a8"
             ],
             [
              0.3333333333333333,
              "#9c179e"
             ],
             [
              0.4444444444444444,
              "#bd3786"
             ],
             [
              0.5555555555555556,
              "#d8576b"
             ],
             [
              0.6666666666666666,
              "#ed7953"
             ],
             [
              0.7777777777777778,
              "#fb9f3a"
             ],
             [
              0.8888888888888888,
              "#fdca26"
             ],
             [
              1,
              "#f0f921"
             ]
            ],
            "type": "heatmap"
           }
          ],
          "heatmapgl": [
           {
            "colorbar": {
             "outlinewidth": 0,
             "ticks": ""
            },
            "colorscale": [
             [
              0,
              "#0d0887"
             ],
             [
              0.1111111111111111,
              "#46039f"
             ],
             [
              0.2222222222222222,
              "#7201a8"
             ],
             [
              0.3333333333333333,
              "#9c179e"
             ],
             [
              0.4444444444444444,
              "#bd3786"
             ],
             [
              0.5555555555555556,
              "#d8576b"
             ],
             [
              0.6666666666666666,
              "#ed7953"
             ],
             [
              0.7777777777777778,
              "#fb9f3a"
             ],
             [
              0.8888888888888888,
              "#fdca26"
             ],
             [
              1,
              "#f0f921"
             ]
            ],
            "type": "heatmapgl"
           }
          ],
          "histogram": [
           {
            "marker": {
             "pattern": {
              "fillmode": "overlay",
              "size": 10,
              "solidity": 0.2
             }
            },
            "type": "histogram"
           }
          ],
          "histogram2d": [
           {
            "colorbar": {
             "outlinewidth": 0,
             "ticks": ""
            },
            "colorscale": [
             [
              0,
              "#0d0887"
             ],
             [
              0.1111111111111111,
              "#46039f"
             ],
             [
              0.2222222222222222,
              "#7201a8"
             ],
             [
              0.3333333333333333,
              "#9c179e"
             ],
             [
              0.4444444444444444,
              "#bd3786"
             ],
             [
              0.5555555555555556,
              "#d8576b"
             ],
             [
              0.6666666666666666,
              "#ed7953"
             ],
             [
              0.7777777777777778,
              "#fb9f3a"
             ],
             [
              0.8888888888888888,
              "#fdca26"
             ],
             [
              1,
              "#f0f921"
             ]
            ],
            "type": "histogram2d"
           }
          ],
          "histogram2dcontour": [
           {
            "colorbar": {
             "outlinewidth": 0,
             "ticks": ""
            },
            "colorscale": [
             [
              0,
              "#0d0887"
             ],
             [
              0.1111111111111111,
              "#46039f"
             ],
             [
              0.2222222222222222,
              "#7201a8"
             ],
             [
              0.3333333333333333,
              "#9c179e"
             ],
             [
              0.4444444444444444,
              "#bd3786"
             ],
             [
              0.5555555555555556,
              "#d8576b"
             ],
             [
              0.6666666666666666,
              "#ed7953"
             ],
             [
              0.7777777777777778,
              "#fb9f3a"
             ],
             [
              0.8888888888888888,
              "#fdca26"
             ],
             [
              1,
              "#f0f921"
             ]
            ],
            "type": "histogram2dcontour"
           }
          ],
          "mesh3d": [
           {
            "colorbar": {
             "outlinewidth": 0,
             "ticks": ""
            },
            "type": "mesh3d"
           }
          ],
          "parcoords": [
           {
            "line": {
             "colorbar": {
              "outlinewidth": 0,
              "ticks": ""
             }
            },
            "type": "parcoords"
           }
          ],
          "pie": [
           {
            "automargin": true,
            "type": "pie"
           }
          ],
          "scatter": [
           {
            "fillpattern": {
             "fillmode": "overlay",
             "size": 10,
             "solidity": 0.2
            },
            "type": "scatter"
           }
          ],
          "scatter3d": [
           {
            "line": {
             "colorbar": {
              "outlinewidth": 0,
              "ticks": ""
             }
            },
            "marker": {
             "colorbar": {
              "outlinewidth": 0,
              "ticks": ""
             }
            },
            "type": "scatter3d"
           }
          ],
          "scattercarpet": [
           {
            "marker": {
             "colorbar": {
              "outlinewidth": 0,
              "ticks": ""
             }
            },
            "type": "scattercarpet"
           }
          ],
          "scattergeo": [
           {
            "marker": {
             "colorbar": {
              "outlinewidth": 0,
              "ticks": ""
             }
            },
            "type": "scattergeo"
           }
          ],
          "scattergl": [
           {
            "marker": {
             "colorbar": {
              "outlinewidth": 0,
              "ticks": ""
             }
            },
            "type": "scattergl"
           }
          ],
          "scattermapbox": [
           {
            "marker": {
             "colorbar": {
              "outlinewidth": 0,
              "ticks": ""
             }
            },
            "type": "scattermapbox"
           }
          ],
          "scatterpolar": [
           {
            "marker": {
             "colorbar": {
              "outlinewidth": 0,
              "ticks": ""
             }
            },
            "type": "scatterpolar"
           }
          ],
          "scatterpolargl": [
           {
            "marker": {
             "colorbar": {
              "outlinewidth": 0,
              "ticks": ""
             }
            },
            "type": "scatterpolargl"
           }
          ],
          "scatterternary": [
           {
            "marker": {
             "colorbar": {
              "outlinewidth": 0,
              "ticks": ""
             }
            },
            "type": "scatterternary"
           }
          ],
          "surface": [
           {
            "colorbar": {
             "outlinewidth": 0,
             "ticks": ""
            },
            "colorscale": [
             [
              0,
              "#0d0887"
             ],
             [
              0.1111111111111111,
              "#46039f"
             ],
             [
              0.2222222222222222,
              "#7201a8"
             ],
             [
              0.3333333333333333,
              "#9c179e"
             ],
             [
              0.4444444444444444,
              "#bd3786"
             ],
             [
              0.5555555555555556,
              "#d8576b"
             ],
             [
              0.6666666666666666,
              "#ed7953"
             ],
             [
              0.7777777777777778,
              "#fb9f3a"
             ],
             [
              0.8888888888888888,
              "#fdca26"
             ],
             [
              1,
              "#f0f921"
             ]
            ],
            "type": "surface"
           }
          ],
          "table": [
           {
            "cells": {
             "fill": {
              "color": "#EBF0F8"
             },
             "line": {
              "color": "white"
             }
            },
            "header": {
             "fill": {
              "color": "#C8D4E3"
             },
             "line": {
              "color": "white"
             }
            },
            "type": "table"
           }
          ]
         },
         "layout": {
          "annotationdefaults": {
           "arrowcolor": "#2a3f5f",
           "arrowhead": 0,
           "arrowwidth": 1
          },
          "autotypenumbers": "strict",
          "coloraxis": {
           "colorbar": {
            "outlinewidth": 0,
            "ticks": ""
           }
          },
          "colorscale": {
           "diverging": [
            [
             0,
             "#8e0152"
            ],
            [
             0.1,
             "#c51b7d"
            ],
            [
             0.2,
             "#de77ae"
            ],
            [
             0.3,
             "#f1b6da"
            ],
            [
             0.4,
             "#fde0ef"
            ],
            [
             0.5,
             "#f7f7f7"
            ],
            [
             0.6,
             "#e6f5d0"
            ],
            [
             0.7,
             "#b8e186"
            ],
            [
             0.8,
             "#7fbc41"
            ],
            [
             0.9,
             "#4d9221"
            ],
            [
             1,
             "#276419"
            ]
           ],
           "sequential": [
            [
             0,
             "#0d0887"
            ],
            [
             0.1111111111111111,
             "#46039f"
            ],
            [
             0.2222222222222222,
             "#7201a8"
            ],
            [
             0.3333333333333333,
             "#9c179e"
            ],
            [
             0.4444444444444444,
             "#bd3786"
            ],
            [
             0.5555555555555556,
             "#d8576b"
            ],
            [
             0.6666666666666666,
             "#ed7953"
            ],
            [
             0.7777777777777778,
             "#fb9f3a"
            ],
            [
             0.8888888888888888,
             "#fdca26"
            ],
            [
             1,
             "#f0f921"
            ]
           ],
           "sequentialminus": [
            [
             0,
             "#0d0887"
            ],
            [
             0.1111111111111111,
             "#46039f"
            ],
            [
             0.2222222222222222,
             "#7201a8"
            ],
            [
             0.3333333333333333,
             "#9c179e"
            ],
            [
             0.4444444444444444,
             "#bd3786"
            ],
            [
             0.5555555555555556,
             "#d8576b"
            ],
            [
             0.6666666666666666,
             "#ed7953"
            ],
            [
             0.7777777777777778,
             "#fb9f3a"
            ],
            [
             0.8888888888888888,
             "#fdca26"
            ],
            [
             1,
             "#f0f921"
            ]
           ]
          },
          "colorway": [
           "#636efa",
           "#EF553B",
           "#00cc96",
           "#ab63fa",
           "#FFA15A",
           "#19d3f3",
           "#FF6692",
           "#B6E880",
           "#FF97FF",
           "#FECB52"
          ],
          "font": {
           "color": "#2a3f5f"
          },
          "geo": {
           "bgcolor": "white",
           "lakecolor": "white",
           "landcolor": "#E5ECF6",
           "showlakes": true,
           "showland": true,
           "subunitcolor": "white"
          },
          "hoverlabel": {
           "align": "left"
          },
          "hovermode": "closest",
          "mapbox": {
           "style": "light"
          },
          "paper_bgcolor": "white",
          "plot_bgcolor": "#E5ECF6",
          "polar": {
           "angularaxis": {
            "gridcolor": "white",
            "linecolor": "white",
            "ticks": ""
           },
           "bgcolor": "#E5ECF6",
           "radialaxis": {
            "gridcolor": "white",
            "linecolor": "white",
            "ticks": ""
           }
          },
          "scene": {
           "xaxis": {
            "backgroundcolor": "#E5ECF6",
            "gridcolor": "white",
            "gridwidth": 2,
            "linecolor": "white",
            "showbackground": true,
            "ticks": "",
            "zerolinecolor": "white"
           },
           "yaxis": {
            "backgroundcolor": "#E5ECF6",
            "gridcolor": "white",
            "gridwidth": 2,
            "linecolor": "white",
            "showbackground": true,
            "ticks": "",
            "zerolinecolor": "white"
           },
           "zaxis": {
            "backgroundcolor": "#E5ECF6",
            "gridcolor": "white",
            "gridwidth": 2,
            "linecolor": "white",
            "showbackground": true,
            "ticks": "",
            "zerolinecolor": "white"
           }
          },
          "shapedefaults": {
           "line": {
            "color": "#2a3f5f"
           }
          },
          "ternary": {
           "aaxis": {
            "gridcolor": "white",
            "linecolor": "white",
            "ticks": ""
           },
           "baxis": {
            "gridcolor": "white",
            "linecolor": "white",
            "ticks": ""
           },
           "bgcolor": "#E5ECF6",
           "caxis": {
            "gridcolor": "white",
            "linecolor": "white",
            "ticks": ""
           }
          },
          "title": {
           "x": 0.05
          },
          "xaxis": {
           "automargin": true,
           "gridcolor": "white",
           "linecolor": "white",
           "ticks": "",
           "title": {
            "standoff": 15
           },
           "zerolinecolor": "white",
           "zerolinewidth": 2
          },
          "yaxis": {
           "automargin": true,
           "gridcolor": "white",
           "linecolor": "white",
           "ticks": "",
           "title": {
            "standoff": 15
           },
           "zerolinecolor": "white",
           "zerolinewidth": 2
          }
         }
        },
        "title": {
         "text": "Number of customers by marital status"
        },
        "width": 600
       }
      }
     },
     "metadata": {},
     "output_type": "display_data"
    }
   ],
   "source": [
    "df_marital = df.groupby('marital_status')['id'].count().to_frame().reset_index()\n",
    "\n",
    "def viz_pie(data,  values, name, color, title):\n",
    "    fig = px.pie(data, values = values, names = name, title = title, \n",
    "                 hole = 0.4, width = 600,\n",
    "                 color_discrete_sequence = ['darkblue', 'orange'])\n",
    "    fig.update_traces(textinfo = 'percent', textfont_size = 15)\n",
    "    fig.show()\n",
    "\n",
    "viz_pie(df_marital , df_marital['id'], df_marital['marital_status'], df_marital['marital_status'], 'Number of customers by marital status')"
   ]
  },
  {
   "cell_type": "code",
   "execution_count": 27,
   "metadata": {},
   "outputs": [
    {
     "data": {
      "application/vnd.plotly.v1+json": {
       "config": {
        "plotlyServerURL": "https://plot.ly"
       },
       "data": [
        {
         "domain": {
          "x": [
           0,
           1
          ],
          "y": [
           0,
           1
          ]
         },
         "hole": 0.4,
         "hovertemplate": "education=%{label}<br>id=%{value}<extra></extra>",
         "labels": [
          "PG",
          "UG"
         ],
         "legendgroup": "",
         "name": "",
         "showlegend": true,
         "textfont": {
          "size": 15
         },
         "textinfo": "percent",
         "type": "pie",
         "values": [
          12062970,
          291406
         ]
        }
       ],
       "layout": {
        "legend": {
         "tracegroupgap": 0
        },
        "piecolorway": [
         "darkblue",
         "orange"
        ],
        "template": {
         "data": {
          "bar": [
           {
            "error_x": {
             "color": "#2a3f5f"
            },
            "error_y": {
             "color": "#2a3f5f"
            },
            "marker": {
             "line": {
              "color": "#E5ECF6",
              "width": 0.5
             },
             "pattern": {
              "fillmode": "overlay",
              "size": 10,
              "solidity": 0.2
             }
            },
            "type": "bar"
           }
          ],
          "barpolar": [
           {
            "marker": {
             "line": {
              "color": "#E5ECF6",
              "width": 0.5
             },
             "pattern": {
              "fillmode": "overlay",
              "size": 10,
              "solidity": 0.2
             }
            },
            "type": "barpolar"
           }
          ],
          "carpet": [
           {
            "aaxis": {
             "endlinecolor": "#2a3f5f",
             "gridcolor": "white",
             "linecolor": "white",
             "minorgridcolor": "white",
             "startlinecolor": "#2a3f5f"
            },
            "baxis": {
             "endlinecolor": "#2a3f5f",
             "gridcolor": "white",
             "linecolor": "white",
             "minorgridcolor": "white",
             "startlinecolor": "#2a3f5f"
            },
            "type": "carpet"
           }
          ],
          "choropleth": [
           {
            "colorbar": {
             "outlinewidth": 0,
             "ticks": ""
            },
            "type": "choropleth"
           }
          ],
          "contour": [
           {
            "colorbar": {
             "outlinewidth": 0,
             "ticks": ""
            },
            "colorscale": [
             [
              0,
              "#0d0887"
             ],
             [
              0.1111111111111111,
              "#46039f"
             ],
             [
              0.2222222222222222,
              "#7201a8"
             ],
             [
              0.3333333333333333,
              "#9c179e"
             ],
             [
              0.4444444444444444,
              "#bd3786"
             ],
             [
              0.5555555555555556,
              "#d8576b"
             ],
             [
              0.6666666666666666,
              "#ed7953"
             ],
             [
              0.7777777777777778,
              "#fb9f3a"
             ],
             [
              0.8888888888888888,
              "#fdca26"
             ],
             [
              1,
              "#f0f921"
             ]
            ],
            "type": "contour"
           }
          ],
          "contourcarpet": [
           {
            "colorbar": {
             "outlinewidth": 0,
             "ticks": ""
            },
            "type": "contourcarpet"
           }
          ],
          "heatmap": [
           {
            "colorbar": {
             "outlinewidth": 0,
             "ticks": ""
            },
            "colorscale": [
             [
              0,
              "#0d0887"
             ],
             [
              0.1111111111111111,
              "#46039f"
             ],
             [
              0.2222222222222222,
              "#7201a8"
             ],
             [
              0.3333333333333333,
              "#9c179e"
             ],
             [
              0.4444444444444444,
              "#bd3786"
             ],
             [
              0.5555555555555556,
              "#d8576b"
             ],
             [
              0.6666666666666666,
              "#ed7953"
             ],
             [
              0.7777777777777778,
              "#fb9f3a"
             ],
             [
              0.8888888888888888,
              "#fdca26"
             ],
             [
              1,
              "#f0f921"
             ]
            ],
            "type": "heatmap"
           }
          ],
          "heatmapgl": [
           {
            "colorbar": {
             "outlinewidth": 0,
             "ticks": ""
            },
            "colorscale": [
             [
              0,
              "#0d0887"
             ],
             [
              0.1111111111111111,
              "#46039f"
             ],
             [
              0.2222222222222222,
              "#7201a8"
             ],
             [
              0.3333333333333333,
              "#9c179e"
             ],
             [
              0.4444444444444444,
              "#bd3786"
             ],
             [
              0.5555555555555556,
              "#d8576b"
             ],
             [
              0.6666666666666666,
              "#ed7953"
             ],
             [
              0.7777777777777778,
              "#fb9f3a"
             ],
             [
              0.8888888888888888,
              "#fdca26"
             ],
             [
              1,
              "#f0f921"
             ]
            ],
            "type": "heatmapgl"
           }
          ],
          "histogram": [
           {
            "marker": {
             "pattern": {
              "fillmode": "overlay",
              "size": 10,
              "solidity": 0.2
             }
            },
            "type": "histogram"
           }
          ],
          "histogram2d": [
           {
            "colorbar": {
             "outlinewidth": 0,
             "ticks": ""
            },
            "colorscale": [
             [
              0,
              "#0d0887"
             ],
             [
              0.1111111111111111,
              "#46039f"
             ],
             [
              0.2222222222222222,
              "#7201a8"
             ],
             [
              0.3333333333333333,
              "#9c179e"
             ],
             [
              0.4444444444444444,
              "#bd3786"
             ],
             [
              0.5555555555555556,
              "#d8576b"
             ],
             [
              0.6666666666666666,
              "#ed7953"
             ],
             [
              0.7777777777777778,
              "#fb9f3a"
             ],
             [
              0.8888888888888888,
              "#fdca26"
             ],
             [
              1,
              "#f0f921"
             ]
            ],
            "type": "histogram2d"
           }
          ],
          "histogram2dcontour": [
           {
            "colorbar": {
             "outlinewidth": 0,
             "ticks": ""
            },
            "colorscale": [
             [
              0,
              "#0d0887"
             ],
             [
              0.1111111111111111,
              "#46039f"
             ],
             [
              0.2222222222222222,
              "#7201a8"
             ],
             [
              0.3333333333333333,
              "#9c179e"
             ],
             [
              0.4444444444444444,
              "#bd3786"
             ],
             [
              0.5555555555555556,
              "#d8576b"
             ],
             [
              0.6666666666666666,
              "#ed7953"
             ],
             [
              0.7777777777777778,
              "#fb9f3a"
             ],
             [
              0.8888888888888888,
              "#fdca26"
             ],
             [
              1,
              "#f0f921"
             ]
            ],
            "type": "histogram2dcontour"
           }
          ],
          "mesh3d": [
           {
            "colorbar": {
             "outlinewidth": 0,
             "ticks": ""
            },
            "type": "mesh3d"
           }
          ],
          "parcoords": [
           {
            "line": {
             "colorbar": {
              "outlinewidth": 0,
              "ticks": ""
             }
            },
            "type": "parcoords"
           }
          ],
          "pie": [
           {
            "automargin": true,
            "type": "pie"
           }
          ],
          "scatter": [
           {
            "fillpattern": {
             "fillmode": "overlay",
             "size": 10,
             "solidity": 0.2
            },
            "type": "scatter"
           }
          ],
          "scatter3d": [
           {
            "line": {
             "colorbar": {
              "outlinewidth": 0,
              "ticks": ""
             }
            },
            "marker": {
             "colorbar": {
              "outlinewidth": 0,
              "ticks": ""
             }
            },
            "type": "scatter3d"
           }
          ],
          "scattercarpet": [
           {
            "marker": {
             "colorbar": {
              "outlinewidth": 0,
              "ticks": ""
             }
            },
            "type": "scattercarpet"
           }
          ],
          "scattergeo": [
           {
            "marker": {
             "colorbar": {
              "outlinewidth": 0,
              "ticks": ""
             }
            },
            "type": "scattergeo"
           }
          ],
          "scattergl": [
           {
            "marker": {
             "colorbar": {
              "outlinewidth": 0,
              "ticks": ""
             }
            },
            "type": "scattergl"
           }
          ],
          "scattermapbox": [
           {
            "marker": {
             "colorbar": {
              "outlinewidth": 0,
              "ticks": ""
             }
            },
            "type": "scattermapbox"
           }
          ],
          "scatterpolar": [
           {
            "marker": {
             "colorbar": {
              "outlinewidth": 0,
              "ticks": ""
             }
            },
            "type": "scatterpolar"
           }
          ],
          "scatterpolargl": [
           {
            "marker": {
             "colorbar": {
              "outlinewidth": 0,
              "ticks": ""
             }
            },
            "type": "scatterpolargl"
           }
          ],
          "scatterternary": [
           {
            "marker": {
             "colorbar": {
              "outlinewidth": 0,
              "ticks": ""
             }
            },
            "type": "scatterternary"
           }
          ],
          "surface": [
           {
            "colorbar": {
             "outlinewidth": 0,
             "ticks": ""
            },
            "colorscale": [
             [
              0,
              "#0d0887"
             ],
             [
              0.1111111111111111,
              "#46039f"
             ],
             [
              0.2222222222222222,
              "#7201a8"
             ],
             [
              0.3333333333333333,
              "#9c179e"
             ],
             [
              0.4444444444444444,
              "#bd3786"
             ],
             [
              0.5555555555555556,
              "#d8576b"
             ],
             [
              0.6666666666666666,
              "#ed7953"
             ],
             [
              0.7777777777777778,
              "#fb9f3a"
             ],
             [
              0.8888888888888888,
              "#fdca26"
             ],
             [
              1,
              "#f0f921"
             ]
            ],
            "type": "surface"
           }
          ],
          "table": [
           {
            "cells": {
             "fill": {
              "color": "#EBF0F8"
             },
             "line": {
              "color": "white"
             }
            },
            "header": {
             "fill": {
              "color": "#C8D4E3"
             },
             "line": {
              "color": "white"
             }
            },
            "type": "table"
           }
          ]
         },
         "layout": {
          "annotationdefaults": {
           "arrowcolor": "#2a3f5f",
           "arrowhead": 0,
           "arrowwidth": 1
          },
          "autotypenumbers": "strict",
          "coloraxis": {
           "colorbar": {
            "outlinewidth": 0,
            "ticks": ""
           }
          },
          "colorscale": {
           "diverging": [
            [
             0,
             "#8e0152"
            ],
            [
             0.1,
             "#c51b7d"
            ],
            [
             0.2,
             "#de77ae"
            ],
            [
             0.3,
             "#f1b6da"
            ],
            [
             0.4,
             "#fde0ef"
            ],
            [
             0.5,
             "#f7f7f7"
            ],
            [
             0.6,
             "#e6f5d0"
            ],
            [
             0.7,
             "#b8e186"
            ],
            [
             0.8,
             "#7fbc41"
            ],
            [
             0.9,
             "#4d9221"
            ],
            [
             1,
             "#276419"
            ]
           ],
           "sequential": [
            [
             0,
             "#0d0887"
            ],
            [
             0.1111111111111111,
             "#46039f"
            ],
            [
             0.2222222222222222,
             "#7201a8"
            ],
            [
             0.3333333333333333,
             "#9c179e"
            ],
            [
             0.4444444444444444,
             "#bd3786"
            ],
            [
             0.5555555555555556,
             "#d8576b"
            ],
            [
             0.6666666666666666,
             "#ed7953"
            ],
            [
             0.7777777777777778,
             "#fb9f3a"
            ],
            [
             0.8888888888888888,
             "#fdca26"
            ],
            [
             1,
             "#f0f921"
            ]
           ],
           "sequentialminus": [
            [
             0,
             "#0d0887"
            ],
            [
             0.1111111111111111,
             "#46039f"
            ],
            [
             0.2222222222222222,
             "#7201a8"
            ],
            [
             0.3333333333333333,
             "#9c179e"
            ],
            [
             0.4444444444444444,
             "#bd3786"
            ],
            [
             0.5555555555555556,
             "#d8576b"
            ],
            [
             0.6666666666666666,
             "#ed7953"
            ],
            [
             0.7777777777777778,
             "#fb9f3a"
            ],
            [
             0.8888888888888888,
             "#fdca26"
            ],
            [
             1,
             "#f0f921"
            ]
           ]
          },
          "colorway": [
           "#636efa",
           "#EF553B",
           "#00cc96",
           "#ab63fa",
           "#FFA15A",
           "#19d3f3",
           "#FF6692",
           "#B6E880",
           "#FF97FF",
           "#FECB52"
          ],
          "font": {
           "color": "#2a3f5f"
          },
          "geo": {
           "bgcolor": "white",
           "lakecolor": "white",
           "landcolor": "#E5ECF6",
           "showlakes": true,
           "showland": true,
           "subunitcolor": "white"
          },
          "hoverlabel": {
           "align": "left"
          },
          "hovermode": "closest",
          "mapbox": {
           "style": "light"
          },
          "paper_bgcolor": "white",
          "plot_bgcolor": "#E5ECF6",
          "polar": {
           "angularaxis": {
            "gridcolor": "white",
            "linecolor": "white",
            "ticks": ""
           },
           "bgcolor": "#E5ECF6",
           "radialaxis": {
            "gridcolor": "white",
            "linecolor": "white",
            "ticks": ""
           }
          },
          "scene": {
           "xaxis": {
            "backgroundcolor": "#E5ECF6",
            "gridcolor": "white",
            "gridwidth": 2,
            "linecolor": "white",
            "showbackground": true,
            "ticks": "",
            "zerolinecolor": "white"
           },
           "yaxis": {
            "backgroundcolor": "#E5ECF6",
            "gridcolor": "white",
            "gridwidth": 2,
            "linecolor": "white",
            "showbackground": true,
            "ticks": "",
            "zerolinecolor": "white"
           },
           "zaxis": {
            "backgroundcolor": "#E5ECF6",
            "gridcolor": "white",
            "gridwidth": 2,
            "linecolor": "white",
            "showbackground": true,
            "ticks": "",
            "zerolinecolor": "white"
           }
          },
          "shapedefaults": {
           "line": {
            "color": "#2a3f5f"
           }
          },
          "ternary": {
           "aaxis": {
            "gridcolor": "white",
            "linecolor": "white",
            "ticks": ""
           },
           "baxis": {
            "gridcolor": "white",
            "linecolor": "white",
            "ticks": ""
           },
           "bgcolor": "#E5ECF6",
           "caxis": {
            "gridcolor": "white",
            "linecolor": "white",
            "ticks": ""
           }
          },
          "title": {
           "x": 0.05
          },
          "xaxis": {
           "automargin": true,
           "gridcolor": "white",
           "linecolor": "white",
           "ticks": "",
           "title": {
            "standoff": 15
           },
           "zerolinecolor": "white",
           "zerolinewidth": 2
          },
          "yaxis": {
           "automargin": true,
           "gridcolor": "white",
           "linecolor": "white",
           "ticks": "",
           "title": {
            "standoff": 15
           },
           "zerolinecolor": "white",
           "zerolinewidth": 2
          }
         }
        },
        "title": {
         "text": "Number of custmers by education"
        },
        "width": 600
       }
      }
     },
     "metadata": {},
     "output_type": "display_data"
    }
   ],
   "source": [
    "df_edu = df.groupby('education')['id'].sum().to_frame().reset_index()\n",
    "\n",
    "viz_pie(df_edu , df_edu['id'], df_edu['education'], df_edu['education'], 'Number of custmers by education')"
   ]
  },
  {
   "cell_type": "code",
   "execution_count": 28,
   "metadata": {},
   "outputs": [
    {
     "data": {
      "application/vnd.plotly.v1+json": {
       "config": {
        "plotlyServerURL": "https://plot.ly"
       },
       "data": [
        {
         "alignmentgroup": "True",
         "hovertemplate": "variable=wines<br>value=%{x}<br>marital_status=%{y}<extra></extra>",
         "legendgroup": "wines",
         "marker": {
          "color": "darkblue",
          "pattern": {
           "shape": ""
          }
         },
         "name": "wines",
         "offsetgroup": "wines",
         "orientation": "h",
         "showlegend": true,
         "textposition": "auto",
         "type": "bar",
         "x": [
          432927,
          242369
         ],
         "xaxis": "x",
         "y": [
          "In relationship",
          "Single"
         ],
         "yaxis": "y"
        },
        {
         "alignmentgroup": "True",
         "hovertemplate": "variable=fruits<br>value=%{x}<br>marital_status=%{y}<extra></extra>",
         "legendgroup": "fruits",
         "marker": {
          "color": "orange",
          "pattern": {
           "shape": ""
          }
         },
         "name": "fruits",
         "offsetgroup": "fruits",
         "orientation": "h",
         "showlegend": true,
         "textposition": "auto",
         "type": "bar",
         "x": [
          36435,
          21806
         ],
         "xaxis": "x",
         "y": [
          "In relationship",
          "Single"
         ],
         "yaxis": "y"
        },
        {
         "alignmentgroup": "True",
         "hovertemplate": "variable=meat<br>value=%{x}<br>marital_status=%{y}<extra></extra>",
         "legendgroup": "meat",
         "marker": {
          "color": "red",
          "pattern": {
           "shape": ""
          }
         },
         "name": "meat",
         "offsetgroup": "meat",
         "orientation": "h",
         "showlegend": true,
         "textposition": "auto",
         "type": "bar",
         "x": [
          232682,
          136788
         ],
         "xaxis": "x",
         "y": [
          "In relationship",
          "Single"
         ],
         "yaxis": "y"
        },
        {
         "alignmentgroup": "True",
         "hovertemplate": "variable=fish<br>value=%{x}<br>marital_status=%{y}<extra></extra>",
         "legendgroup": "fish",
         "marker": {
          "color": "black",
          "pattern": {
           "shape": ""
          }
         },
         "name": "fish",
         "offsetgroup": "fish",
         "orientation": "h",
         "showlegend": true,
         "textposition": "auto",
         "type": "bar",
         "x": [
          52666,
          30613
         ],
         "xaxis": "x",
         "y": [
          "In relationship",
          "Single"
         ],
         "yaxis": "y"
        },
        {
         "alignmentgroup": "True",
         "hovertemplate": "variable=sweets<br>value=%{x}<br>marital_status=%{y}<extra></extra>",
         "legendgroup": "sweets",
         "marker": {
          "color": "darkgreen",
          "pattern": {
           "shape": ""
          }
         },
         "name": "sweets",
         "offsetgroup": "sweets",
         "orientation": "h",
         "showlegend": true,
         "textposition": "auto",
         "type": "bar",
         "x": [
          37892,
          21935
         ],
         "xaxis": "x",
         "y": [
          "In relationship",
          "Single"
         ],
         "yaxis": "y"
        },
        {
         "alignmentgroup": "True",
         "hovertemplate": "variable=gold<br>value=%{x}<br>marital_status=%{y}<extra></extra>",
         "legendgroup": "gold",
         "marker": {
          "color": "purple",
          "pattern": {
           "shape": ""
          }
         },
         "name": "gold",
         "offsetgroup": "gold",
         "orientation": "h",
         "showlegend": true,
         "textposition": "auto",
         "type": "bar",
         "x": [
          61237,
          35927
         ],
         "xaxis": "x",
         "y": [
          "In relationship",
          "Single"
         ],
         "yaxis": "y"
        }
       ],
       "layout": {
        "barmode": "group",
        "height": 400,
        "legend": {
         "title": {
          "text": "variable"
         },
         "tracegroupgap": 0
        },
        "template": {
         "data": {
          "bar": [
           {
            "error_x": {
             "color": "#2a3f5f"
            },
            "error_y": {
             "color": "#2a3f5f"
            },
            "marker": {
             "line": {
              "color": "#E5ECF6",
              "width": 0.5
             },
             "pattern": {
              "fillmode": "overlay",
              "size": 10,
              "solidity": 0.2
             }
            },
            "type": "bar"
           }
          ],
          "barpolar": [
           {
            "marker": {
             "line": {
              "color": "#E5ECF6",
              "width": 0.5
             },
             "pattern": {
              "fillmode": "overlay",
              "size": 10,
              "solidity": 0.2
             }
            },
            "type": "barpolar"
           }
          ],
          "carpet": [
           {
            "aaxis": {
             "endlinecolor": "#2a3f5f",
             "gridcolor": "white",
             "linecolor": "white",
             "minorgridcolor": "white",
             "startlinecolor": "#2a3f5f"
            },
            "baxis": {
             "endlinecolor": "#2a3f5f",
             "gridcolor": "white",
             "linecolor": "white",
             "minorgridcolor": "white",
             "startlinecolor": "#2a3f5f"
            },
            "type": "carpet"
           }
          ],
          "choropleth": [
           {
            "colorbar": {
             "outlinewidth": 0,
             "ticks": ""
            },
            "type": "choropleth"
           }
          ],
          "contour": [
           {
            "colorbar": {
             "outlinewidth": 0,
             "ticks": ""
            },
            "colorscale": [
             [
              0,
              "#0d0887"
             ],
             [
              0.1111111111111111,
              "#46039f"
             ],
             [
              0.2222222222222222,
              "#7201a8"
             ],
             [
              0.3333333333333333,
              "#9c179e"
             ],
             [
              0.4444444444444444,
              "#bd3786"
             ],
             [
              0.5555555555555556,
              "#d8576b"
             ],
             [
              0.6666666666666666,
              "#ed7953"
             ],
             [
              0.7777777777777778,
              "#fb9f3a"
             ],
             [
              0.8888888888888888,
              "#fdca26"
             ],
             [
              1,
              "#f0f921"
             ]
            ],
            "type": "contour"
           }
          ],
          "contourcarpet": [
           {
            "colorbar": {
             "outlinewidth": 0,
             "ticks": ""
            },
            "type": "contourcarpet"
           }
          ],
          "heatmap": [
           {
            "colorbar": {
             "outlinewidth": 0,
             "ticks": ""
            },
            "colorscale": [
             [
              0,
              "#0d0887"
             ],
             [
              0.1111111111111111,
              "#46039f"
             ],
             [
              0.2222222222222222,
              "#7201a8"
             ],
             [
              0.3333333333333333,
              "#9c179e"
             ],
             [
              0.4444444444444444,
              "#bd3786"
             ],
             [
              0.5555555555555556,
              "#d8576b"
             ],
             [
              0.6666666666666666,
              "#ed7953"
             ],
             [
              0.7777777777777778,
              "#fb9f3a"
             ],
             [
              0.8888888888888888,
              "#fdca26"
             ],
             [
              1,
              "#f0f921"
             ]
            ],
            "type": "heatmap"
           }
          ],
          "heatmapgl": [
           {
            "colorbar": {
             "outlinewidth": 0,
             "ticks": ""
            },
            "colorscale": [
             [
              0,
              "#0d0887"
             ],
             [
              0.1111111111111111,
              "#46039f"
             ],
             [
              0.2222222222222222,
              "#7201a8"
             ],
             [
              0.3333333333333333,
              "#9c179e"
             ],
             [
              0.4444444444444444,
              "#bd3786"
             ],
             [
              0.5555555555555556,
              "#d8576b"
             ],
             [
              0.6666666666666666,
              "#ed7953"
             ],
             [
              0.7777777777777778,
              "#fb9f3a"
             ],
             [
              0.8888888888888888,
              "#fdca26"
             ],
             [
              1,
              "#f0f921"
             ]
            ],
            "type": "heatmapgl"
           }
          ],
          "histogram": [
           {
            "marker": {
             "pattern": {
              "fillmode": "overlay",
              "size": 10,
              "solidity": 0.2
             }
            },
            "type": "histogram"
           }
          ],
          "histogram2d": [
           {
            "colorbar": {
             "outlinewidth": 0,
             "ticks": ""
            },
            "colorscale": [
             [
              0,
              "#0d0887"
             ],
             [
              0.1111111111111111,
              "#46039f"
             ],
             [
              0.2222222222222222,
              "#7201a8"
             ],
             [
              0.3333333333333333,
              "#9c179e"
             ],
             [
              0.4444444444444444,
              "#bd3786"
             ],
             [
              0.5555555555555556,
              "#d8576b"
             ],
             [
              0.6666666666666666,
              "#ed7953"
             ],
             [
              0.7777777777777778,
              "#fb9f3a"
             ],
             [
              0.8888888888888888,
              "#fdca26"
             ],
             [
              1,
              "#f0f921"
             ]
            ],
            "type": "histogram2d"
           }
          ],
          "histogram2dcontour": [
           {
            "colorbar": {
             "outlinewidth": 0,
             "ticks": ""
            },
            "colorscale": [
             [
              0,
              "#0d0887"
             ],
             [
              0.1111111111111111,
              "#46039f"
             ],
             [
              0.2222222222222222,
              "#7201a8"
             ],
             [
              0.3333333333333333,
              "#9c179e"
             ],
             [
              0.4444444444444444,
              "#bd3786"
             ],
             [
              0.5555555555555556,
              "#d8576b"
             ],
             [
              0.6666666666666666,
              "#ed7953"
             ],
             [
              0.7777777777777778,
              "#fb9f3a"
             ],
             [
              0.8888888888888888,
              "#fdca26"
             ],
             [
              1,
              "#f0f921"
             ]
            ],
            "type": "histogram2dcontour"
           }
          ],
          "mesh3d": [
           {
            "colorbar": {
             "outlinewidth": 0,
             "ticks": ""
            },
            "type": "mesh3d"
           }
          ],
          "parcoords": [
           {
            "line": {
             "colorbar": {
              "outlinewidth": 0,
              "ticks": ""
             }
            },
            "type": "parcoords"
           }
          ],
          "pie": [
           {
            "automargin": true,
            "type": "pie"
           }
          ],
          "scatter": [
           {
            "fillpattern": {
             "fillmode": "overlay",
             "size": 10,
             "solidity": 0.2
            },
            "type": "scatter"
           }
          ],
          "scatter3d": [
           {
            "line": {
             "colorbar": {
              "outlinewidth": 0,
              "ticks": ""
             }
            },
            "marker": {
             "colorbar": {
              "outlinewidth": 0,
              "ticks": ""
             }
            },
            "type": "scatter3d"
           }
          ],
          "scattercarpet": [
           {
            "marker": {
             "colorbar": {
              "outlinewidth": 0,
              "ticks": ""
             }
            },
            "type": "scattercarpet"
           }
          ],
          "scattergeo": [
           {
            "marker": {
             "colorbar": {
              "outlinewidth": 0,
              "ticks": ""
             }
            },
            "type": "scattergeo"
           }
          ],
          "scattergl": [
           {
            "marker": {
             "colorbar": {
              "outlinewidth": 0,
              "ticks": ""
             }
            },
            "type": "scattergl"
           }
          ],
          "scattermapbox": [
           {
            "marker": {
             "colorbar": {
              "outlinewidth": 0,
              "ticks": ""
             }
            },
            "type": "scattermapbox"
           }
          ],
          "scatterpolar": [
           {
            "marker": {
             "colorbar": {
              "outlinewidth": 0,
              "ticks": ""
             }
            },
            "type": "scatterpolar"
           }
          ],
          "scatterpolargl": [
           {
            "marker": {
             "colorbar": {
              "outlinewidth": 0,
              "ticks": ""
             }
            },
            "type": "scatterpolargl"
           }
          ],
          "scatterternary": [
           {
            "marker": {
             "colorbar": {
              "outlinewidth": 0,
              "ticks": ""
             }
            },
            "type": "scatterternary"
           }
          ],
          "surface": [
           {
            "colorbar": {
             "outlinewidth": 0,
             "ticks": ""
            },
            "colorscale": [
             [
              0,
              "#0d0887"
             ],
             [
              0.1111111111111111,
              "#46039f"
             ],
             [
              0.2222222222222222,
              "#7201a8"
             ],
             [
              0.3333333333333333,
              "#9c179e"
             ],
             [
              0.4444444444444444,
              "#bd3786"
             ],
             [
              0.5555555555555556,
              "#d8576b"
             ],
             [
              0.6666666666666666,
              "#ed7953"
             ],
             [
              0.7777777777777778,
              "#fb9f3a"
             ],
             [
              0.8888888888888888,
              "#fdca26"
             ],
             [
              1,
              "#f0f921"
             ]
            ],
            "type": "surface"
           }
          ],
          "table": [
           {
            "cells": {
             "fill": {
              "color": "#EBF0F8"
             },
             "line": {
              "color": "white"
             }
            },
            "header": {
             "fill": {
              "color": "#C8D4E3"
             },
             "line": {
              "color": "white"
             }
            },
            "type": "table"
           }
          ]
         },
         "layout": {
          "annotationdefaults": {
           "arrowcolor": "#2a3f5f",
           "arrowhead": 0,
           "arrowwidth": 1
          },
          "autotypenumbers": "strict",
          "coloraxis": {
           "colorbar": {
            "outlinewidth": 0,
            "ticks": ""
           }
          },
          "colorscale": {
           "diverging": [
            [
             0,
             "#8e0152"
            ],
            [
             0.1,
             "#c51b7d"
            ],
            [
             0.2,
             "#de77ae"
            ],
            [
             0.3,
             "#f1b6da"
            ],
            [
             0.4,
             "#fde0ef"
            ],
            [
             0.5,
             "#f7f7f7"
            ],
            [
             0.6,
             "#e6f5d0"
            ],
            [
             0.7,
             "#b8e186"
            ],
            [
             0.8,
             "#7fbc41"
            ],
            [
             0.9,
             "#4d9221"
            ],
            [
             1,
             "#276419"
            ]
           ],
           "sequential": [
            [
             0,
             "#0d0887"
            ],
            [
             0.1111111111111111,
             "#46039f"
            ],
            [
             0.2222222222222222,
             "#7201a8"
            ],
            [
             0.3333333333333333,
             "#9c179e"
            ],
            [
             0.4444444444444444,
             "#bd3786"
            ],
            [
             0.5555555555555556,
             "#d8576b"
            ],
            [
             0.6666666666666666,
             "#ed7953"
            ],
            [
             0.7777777777777778,
             "#fb9f3a"
            ],
            [
             0.8888888888888888,
             "#fdca26"
            ],
            [
             1,
             "#f0f921"
            ]
           ],
           "sequentialminus": [
            [
             0,
             "#0d0887"
            ],
            [
             0.1111111111111111,
             "#46039f"
            ],
            [
             0.2222222222222222,
             "#7201a8"
            ],
            [
             0.3333333333333333,
             "#9c179e"
            ],
            [
             0.4444444444444444,
             "#bd3786"
            ],
            [
             0.5555555555555556,
             "#d8576b"
            ],
            [
             0.6666666666666666,
             "#ed7953"
            ],
            [
             0.7777777777777778,
             "#fb9f3a"
            ],
            [
             0.8888888888888888,
             "#fdca26"
            ],
            [
             1,
             "#f0f921"
            ]
           ]
          },
          "colorway": [
           "#636efa",
           "#EF553B",
           "#00cc96",
           "#ab63fa",
           "#FFA15A",
           "#19d3f3",
           "#FF6692",
           "#B6E880",
           "#FF97FF",
           "#FECB52"
          ],
          "font": {
           "color": "#2a3f5f"
          },
          "geo": {
           "bgcolor": "white",
           "lakecolor": "white",
           "landcolor": "#E5ECF6",
           "showlakes": true,
           "showland": true,
           "subunitcolor": "white"
          },
          "hoverlabel": {
           "align": "left"
          },
          "hovermode": "closest",
          "mapbox": {
           "style": "light"
          },
          "paper_bgcolor": "white",
          "plot_bgcolor": "#E5ECF6",
          "polar": {
           "angularaxis": {
            "gridcolor": "white",
            "linecolor": "white",
            "ticks": ""
           },
           "bgcolor": "#E5ECF6",
           "radialaxis": {
            "gridcolor": "white",
            "linecolor": "white",
            "ticks": ""
           }
          },
          "scene": {
           "xaxis": {
            "backgroundcolor": "#E5ECF6",
            "gridcolor": "white",
            "gridwidth": 2,
            "linecolor": "white",
            "showbackground": true,
            "ticks": "",
            "zerolinecolor": "white"
           },
           "yaxis": {
            "backgroundcolor": "#E5ECF6",
            "gridcolor": "white",
            "gridwidth": 2,
            "linecolor": "white",
            "showbackground": true,
            "ticks": "",
            "zerolinecolor": "white"
           },
           "zaxis": {
            "backgroundcolor": "#E5ECF6",
            "gridcolor": "white",
            "gridwidth": 2,
            "linecolor": "white",
            "showbackground": true,
            "ticks": "",
            "zerolinecolor": "white"
           }
          },
          "shapedefaults": {
           "line": {
            "color": "#2a3f5f"
           }
          },
          "ternary": {
           "aaxis": {
            "gridcolor": "white",
            "linecolor": "white",
            "ticks": ""
           },
           "baxis": {
            "gridcolor": "white",
            "linecolor": "white",
            "ticks": ""
           },
           "bgcolor": "#E5ECF6",
           "caxis": {
            "gridcolor": "white",
            "linecolor": "white",
            "ticks": ""
           }
          },
          "title": {
           "x": 0.05
          },
          "xaxis": {
           "automargin": true,
           "gridcolor": "white",
           "linecolor": "white",
           "ticks": "",
           "title": {
            "standoff": 15
           },
           "zerolinecolor": "white",
           "zerolinewidth": 2
          },
          "yaxis": {
           "automargin": true,
           "gridcolor": "white",
           "linecolor": "white",
           "ticks": "",
           "title": {
            "standoff": 15
           },
           "zerolinecolor": "white",
           "zerolinewidth": 2
          }
         }
        },
        "title": {
         "text": "Marital status by purchase of product"
        },
        "width": 600,
        "xaxis": {
         "anchor": "y",
         "domain": [
          0,
          1
         ],
         "title": {
          "text": "value"
         }
        },
        "yaxis": {
         "anchor": "x",
         "domain": [
          0,
          1
         ],
         "title": {
          "text": "marital_status"
         }
        }
       }
      }
     },
     "metadata": {},
     "output_type": "display_data"
    }
   ],
   "source": [
    "df_marital2 = df.groupby('marital_status')['wines', 'fruits', 'meat', 'fish',\t'sweets', 'gold'].sum().reset_index()\n",
    "\n",
    "def viz_bar(data, row = [], column = 'column', title ='title'):\n",
    "    fig = px.bar(data, row, column, \n",
    "             barmode = 'group',\n",
    "             height = 400,\n",
    "             width = 600,\n",
    "             title = title,\n",
    "             color_discrete_sequence =  ['darkblue', 'orange', 'red', 'black', 'darkgreen', 'purple'])\n",
    "    fig.show()\n",
    "\n",
    "viz_bar(df_marital2, ['wines', 'fruits', 'meat', 'fish', 'sweets', 'gold'], 'marital_status', 'Marital status by purchase of product') "
   ]
  },
  {
   "cell_type": "code",
   "execution_count": 29,
   "metadata": {},
   "outputs": [
    {
     "data": {
      "application/vnd.plotly.v1+json": {
       "config": {
        "plotlyServerURL": "https://plot.ly"
       },
       "data": [
        {
         "alignmentgroup": "True",
         "hovertemplate": "variable=wines<br>value=%{x}<br>education=%{y}<extra></extra>",
         "legendgroup": "wines",
         "marker": {
          "color": "darkblue",
          "pattern": {
           "shape": ""
          }
         },
         "name": "wines",
         "offsetgroup": "wines",
         "orientation": "h",
         "showlegend": true,
         "textposition": "auto",
         "type": "bar",
         "x": [
          674905,
          391
         ],
         "xaxis": "x",
         "y": [
          "PG",
          "UG"
         ],
         "yaxis": "y"
        },
        {
         "alignmentgroup": "True",
         "hovertemplate": "variable=fruits<br>value=%{x}<br>education=%{y}<extra></extra>",
         "legendgroup": "fruits",
         "marker": {
          "color": "orange",
          "pattern": {
           "shape": ""
          }
         },
         "name": "fruits",
         "offsetgroup": "fruits",
         "orientation": "h",
         "showlegend": true,
         "textposition": "auto",
         "type": "bar",
         "x": [
          57641,
          600
         ],
         "xaxis": "x",
         "y": [
          "PG",
          "UG"
         ],
         "yaxis": "y"
        },
        {
         "alignmentgroup": "True",
         "hovertemplate": "variable=meat<br>value=%{x}<br>education=%{y}<extra></extra>",
         "legendgroup": "meat",
         "marker": {
          "color": "red",
          "pattern": {
           "shape": ""
          }
         },
         "name": "meat",
         "offsetgroup": "meat",
         "orientation": "h",
         "showlegend": true,
         "textposition": "auto",
         "type": "bar",
         "x": [
          368852,
          618
         ],
         "xaxis": "x",
         "y": [
          "PG",
          "UG"
         ],
         "yaxis": "y"
        },
        {
         "alignmentgroup": "True",
         "hovertemplate": "variable=fish<br>value=%{x}<br>education=%{y}<extra></extra>",
         "legendgroup": "fish",
         "marker": {
          "color": "black",
          "pattern": {
           "shape": ""
          }
         },
         "name": "fish",
         "offsetgroup": "fish",
         "orientation": "h",
         "showlegend": true,
         "textposition": "auto",
         "type": "bar",
         "x": [
          82358,
          921
         ],
         "xaxis": "x",
         "y": [
          "PG",
          "UG"
         ],
         "yaxis": "y"
        },
        {
         "alignmentgroup": "True",
         "hovertemplate": "variable=sweets<br>value=%{x}<br>education=%{y}<extra></extra>",
         "legendgroup": "sweets",
         "marker": {
          "color": "darkgreen",
          "pattern": {
           "shape": ""
          }
         },
         "name": "sweets",
         "offsetgroup": "sweets",
         "orientation": "h",
         "showlegend": true,
         "textposition": "auto",
         "type": "bar",
         "x": [
          59173,
          654
         ],
         "xaxis": "x",
         "y": [
          "PG",
          "UG"
         ],
         "yaxis": "y"
        },
        {
         "alignmentgroup": "True",
         "hovertemplate": "variable=gold<br>value=%{x}<br>education=%{y}<extra></extra>",
         "legendgroup": "gold",
         "marker": {
          "color": "purple",
          "pattern": {
           "shape": ""
          }
         },
         "name": "gold",
         "offsetgroup": "gold",
         "orientation": "h",
         "showlegend": true,
         "textposition": "auto",
         "type": "bar",
         "x": [
          95931,
          1233
         ],
         "xaxis": "x",
         "y": [
          "PG",
          "UG"
         ],
         "yaxis": "y"
        }
       ],
       "layout": {
        "barmode": "group",
        "height": 400,
        "legend": {
         "title": {
          "text": "variable"
         },
         "tracegroupgap": 0
        },
        "template": {
         "data": {
          "bar": [
           {
            "error_x": {
             "color": "#2a3f5f"
            },
            "error_y": {
             "color": "#2a3f5f"
            },
            "marker": {
             "line": {
              "color": "#E5ECF6",
              "width": 0.5
             },
             "pattern": {
              "fillmode": "overlay",
              "size": 10,
              "solidity": 0.2
             }
            },
            "type": "bar"
           }
          ],
          "barpolar": [
           {
            "marker": {
             "line": {
              "color": "#E5ECF6",
              "width": 0.5
             },
             "pattern": {
              "fillmode": "overlay",
              "size": 10,
              "solidity": 0.2
             }
            },
            "type": "barpolar"
           }
          ],
          "carpet": [
           {
            "aaxis": {
             "endlinecolor": "#2a3f5f",
             "gridcolor": "white",
             "linecolor": "white",
             "minorgridcolor": "white",
             "startlinecolor": "#2a3f5f"
            },
            "baxis": {
             "endlinecolor": "#2a3f5f",
             "gridcolor": "white",
             "linecolor": "white",
             "minorgridcolor": "white",
             "startlinecolor": "#2a3f5f"
            },
            "type": "carpet"
           }
          ],
          "choropleth": [
           {
            "colorbar": {
             "outlinewidth": 0,
             "ticks": ""
            },
            "type": "choropleth"
           }
          ],
          "contour": [
           {
            "colorbar": {
             "outlinewidth": 0,
             "ticks": ""
            },
            "colorscale": [
             [
              0,
              "#0d0887"
             ],
             [
              0.1111111111111111,
              "#46039f"
             ],
             [
              0.2222222222222222,
              "#7201a8"
             ],
             [
              0.3333333333333333,
              "#9c179e"
             ],
             [
              0.4444444444444444,
              "#bd3786"
             ],
             [
              0.5555555555555556,
              "#d8576b"
             ],
             [
              0.6666666666666666,
              "#ed7953"
             ],
             [
              0.7777777777777778,
              "#fb9f3a"
             ],
             [
              0.8888888888888888,
              "#fdca26"
             ],
             [
              1,
              "#f0f921"
             ]
            ],
            "type": "contour"
           }
          ],
          "contourcarpet": [
           {
            "colorbar": {
             "outlinewidth": 0,
             "ticks": ""
            },
            "type": "contourcarpet"
           }
          ],
          "heatmap": [
           {
            "colorbar": {
             "outlinewidth": 0,
             "ticks": ""
            },
            "colorscale": [
             [
              0,
              "#0d0887"
             ],
             [
              0.1111111111111111,
              "#46039f"
             ],
             [
              0.2222222222222222,
              "#7201a8"
             ],
             [
              0.3333333333333333,
              "#9c179e"
             ],
             [
              0.4444444444444444,
              "#bd3786"
             ],
             [
              0.5555555555555556,
              "#d8576b"
             ],
             [
              0.6666666666666666,
              "#ed7953"
             ],
             [
              0.7777777777777778,
              "#fb9f3a"
             ],
             [
              0.8888888888888888,
              "#fdca26"
             ],
             [
              1,
              "#f0f921"
             ]
            ],
            "type": "heatmap"
           }
          ],
          "heatmapgl": [
           {
            "colorbar": {
             "outlinewidth": 0,
             "ticks": ""
            },
            "colorscale": [
             [
              0,
              "#0d0887"
             ],
             [
              0.1111111111111111,
              "#46039f"
             ],
             [
              0.2222222222222222,
              "#7201a8"
             ],
             [
              0.3333333333333333,
              "#9c179e"
             ],
             [
              0.4444444444444444,
              "#bd3786"
             ],
             [
              0.5555555555555556,
              "#d8576b"
             ],
             [
              0.6666666666666666,
              "#ed7953"
             ],
             [
              0.7777777777777778,
              "#fb9f3a"
             ],
             [
              0.8888888888888888,
              "#fdca26"
             ],
             [
              1,
              "#f0f921"
             ]
            ],
            "type": "heatmapgl"
           }
          ],
          "histogram": [
           {
            "marker": {
             "pattern": {
              "fillmode": "overlay",
              "size": 10,
              "solidity": 0.2
             }
            },
            "type": "histogram"
           }
          ],
          "histogram2d": [
           {
            "colorbar": {
             "outlinewidth": 0,
             "ticks": ""
            },
            "colorscale": [
             [
              0,
              "#0d0887"
             ],
             [
              0.1111111111111111,
              "#46039f"
             ],
             [
              0.2222222222222222,
              "#7201a8"
             ],
             [
              0.3333333333333333,
              "#9c179e"
             ],
             [
              0.4444444444444444,
              "#bd3786"
             ],
             [
              0.5555555555555556,
              "#d8576b"
             ],
             [
              0.6666666666666666,
              "#ed7953"
             ],
             [
              0.7777777777777778,
              "#fb9f3a"
             ],
             [
              0.8888888888888888,
              "#fdca26"
             ],
             [
              1,
              "#f0f921"
             ]
            ],
            "type": "histogram2d"
           }
          ],
          "histogram2dcontour": [
           {
            "colorbar": {
             "outlinewidth": 0,
             "ticks": ""
            },
            "colorscale": [
             [
              0,
              "#0d0887"
             ],
             [
              0.1111111111111111,
              "#46039f"
             ],
             [
              0.2222222222222222,
              "#7201a8"
             ],
             [
              0.3333333333333333,
              "#9c179e"
             ],
             [
              0.4444444444444444,
              "#bd3786"
             ],
             [
              0.5555555555555556,
              "#d8576b"
             ],
             [
              0.6666666666666666,
              "#ed7953"
             ],
             [
              0.7777777777777778,
              "#fb9f3a"
             ],
             [
              0.8888888888888888,
              "#fdca26"
             ],
             [
              1,
              "#f0f921"
             ]
            ],
            "type": "histogram2dcontour"
           }
          ],
          "mesh3d": [
           {
            "colorbar": {
             "outlinewidth": 0,
             "ticks": ""
            },
            "type": "mesh3d"
           }
          ],
          "parcoords": [
           {
            "line": {
             "colorbar": {
              "outlinewidth": 0,
              "ticks": ""
             }
            },
            "type": "parcoords"
           }
          ],
          "pie": [
           {
            "automargin": true,
            "type": "pie"
           }
          ],
          "scatter": [
           {
            "fillpattern": {
             "fillmode": "overlay",
             "size": 10,
             "solidity": 0.2
            },
            "type": "scatter"
           }
          ],
          "scatter3d": [
           {
            "line": {
             "colorbar": {
              "outlinewidth": 0,
              "ticks": ""
             }
            },
            "marker": {
             "colorbar": {
              "outlinewidth": 0,
              "ticks": ""
             }
            },
            "type": "scatter3d"
           }
          ],
          "scattercarpet": [
           {
            "marker": {
             "colorbar": {
              "outlinewidth": 0,
              "ticks": ""
             }
            },
            "type": "scattercarpet"
           }
          ],
          "scattergeo": [
           {
            "marker": {
             "colorbar": {
              "outlinewidth": 0,
              "ticks": ""
             }
            },
            "type": "scattergeo"
           }
          ],
          "scattergl": [
           {
            "marker": {
             "colorbar": {
              "outlinewidth": 0,
              "ticks": ""
             }
            },
            "type": "scattergl"
           }
          ],
          "scattermapbox": [
           {
            "marker": {
             "colorbar": {
              "outlinewidth": 0,
              "ticks": ""
             }
            },
            "type": "scattermapbox"
           }
          ],
          "scatterpolar": [
           {
            "marker": {
             "colorbar": {
              "outlinewidth": 0,
              "ticks": ""
             }
            },
            "type": "scatterpolar"
           }
          ],
          "scatterpolargl": [
           {
            "marker": {
             "colorbar": {
              "outlinewidth": 0,
              "ticks": ""
             }
            },
            "type": "scatterpolargl"
           }
          ],
          "scatterternary": [
           {
            "marker": {
             "colorbar": {
              "outlinewidth": 0,
              "ticks": ""
             }
            },
            "type": "scatterternary"
           }
          ],
          "surface": [
           {
            "colorbar": {
             "outlinewidth": 0,
             "ticks": ""
            },
            "colorscale": [
             [
              0,
              "#0d0887"
             ],
             [
              0.1111111111111111,
              "#46039f"
             ],
             [
              0.2222222222222222,
              "#7201a8"
             ],
             [
              0.3333333333333333,
              "#9c179e"
             ],
             [
              0.4444444444444444,
              "#bd3786"
             ],
             [
              0.5555555555555556,
              "#d8576b"
             ],
             [
              0.6666666666666666,
              "#ed7953"
             ],
             [
              0.7777777777777778,
              "#fb9f3a"
             ],
             [
              0.8888888888888888,
              "#fdca26"
             ],
             [
              1,
              "#f0f921"
             ]
            ],
            "type": "surface"
           }
          ],
          "table": [
           {
            "cells": {
             "fill": {
              "color": "#EBF0F8"
             },
             "line": {
              "color": "white"
             }
            },
            "header": {
             "fill": {
              "color": "#C8D4E3"
             },
             "line": {
              "color": "white"
             }
            },
            "type": "table"
           }
          ]
         },
         "layout": {
          "annotationdefaults": {
           "arrowcolor": "#2a3f5f",
           "arrowhead": 0,
           "arrowwidth": 1
          },
          "autotypenumbers": "strict",
          "coloraxis": {
           "colorbar": {
            "outlinewidth": 0,
            "ticks": ""
           }
          },
          "colorscale": {
           "diverging": [
            [
             0,
             "#8e0152"
            ],
            [
             0.1,
             "#c51b7d"
            ],
            [
             0.2,
             "#de77ae"
            ],
            [
             0.3,
             "#f1b6da"
            ],
            [
             0.4,
             "#fde0ef"
            ],
            [
             0.5,
             "#f7f7f7"
            ],
            [
             0.6,
             "#e6f5d0"
            ],
            [
             0.7,
             "#b8e186"
            ],
            [
             0.8,
             "#7fbc41"
            ],
            [
             0.9,
             "#4d9221"
            ],
            [
             1,
             "#276419"
            ]
           ],
           "sequential": [
            [
             0,
             "#0d0887"
            ],
            [
             0.1111111111111111,
             "#46039f"
            ],
            [
             0.2222222222222222,
             "#7201a8"
            ],
            [
             0.3333333333333333,
             "#9c179e"
            ],
            [
             0.4444444444444444,
             "#bd3786"
            ],
            [
             0.5555555555555556,
             "#d8576b"
            ],
            [
             0.6666666666666666,
             "#ed7953"
            ],
            [
             0.7777777777777778,
             "#fb9f3a"
            ],
            [
             0.8888888888888888,
             "#fdca26"
            ],
            [
             1,
             "#f0f921"
            ]
           ],
           "sequentialminus": [
            [
             0,
             "#0d0887"
            ],
            [
             0.1111111111111111,
             "#46039f"
            ],
            [
             0.2222222222222222,
             "#7201a8"
            ],
            [
             0.3333333333333333,
             "#9c179e"
            ],
            [
             0.4444444444444444,
             "#bd3786"
            ],
            [
             0.5555555555555556,
             "#d8576b"
            ],
            [
             0.6666666666666666,
             "#ed7953"
            ],
            [
             0.7777777777777778,
             "#fb9f3a"
            ],
            [
             0.8888888888888888,
             "#fdca26"
            ],
            [
             1,
             "#f0f921"
            ]
           ]
          },
          "colorway": [
           "#636efa",
           "#EF553B",
           "#00cc96",
           "#ab63fa",
           "#FFA15A",
           "#19d3f3",
           "#FF6692",
           "#B6E880",
           "#FF97FF",
           "#FECB52"
          ],
          "font": {
           "color": "#2a3f5f"
          },
          "geo": {
           "bgcolor": "white",
           "lakecolor": "white",
           "landcolor": "#E5ECF6",
           "showlakes": true,
           "showland": true,
           "subunitcolor": "white"
          },
          "hoverlabel": {
           "align": "left"
          },
          "hovermode": "closest",
          "mapbox": {
           "style": "light"
          },
          "paper_bgcolor": "white",
          "plot_bgcolor": "#E5ECF6",
          "polar": {
           "angularaxis": {
            "gridcolor": "white",
            "linecolor": "white",
            "ticks": ""
           },
           "bgcolor": "#E5ECF6",
           "radialaxis": {
            "gridcolor": "white",
            "linecolor": "white",
            "ticks": ""
           }
          },
          "scene": {
           "xaxis": {
            "backgroundcolor": "#E5ECF6",
            "gridcolor": "white",
            "gridwidth": 2,
            "linecolor": "white",
            "showbackground": true,
            "ticks": "",
            "zerolinecolor": "white"
           },
           "yaxis": {
            "backgroundcolor": "#E5ECF6",
            "gridcolor": "white",
            "gridwidth": 2,
            "linecolor": "white",
            "showbackground": true,
            "ticks": "",
            "zerolinecolor": "white"
           },
           "zaxis": {
            "backgroundcolor": "#E5ECF6",
            "gridcolor": "white",
            "gridwidth": 2,
            "linecolor": "white",
            "showbackground": true,
            "ticks": "",
            "zerolinecolor": "white"
           }
          },
          "shapedefaults": {
           "line": {
            "color": "#2a3f5f"
           }
          },
          "ternary": {
           "aaxis": {
            "gridcolor": "white",
            "linecolor": "white",
            "ticks": ""
           },
           "baxis": {
            "gridcolor": "white",
            "linecolor": "white",
            "ticks": ""
           },
           "bgcolor": "#E5ECF6",
           "caxis": {
            "gridcolor": "white",
            "linecolor": "white",
            "ticks": ""
           }
          },
          "title": {
           "x": 0.05
          },
          "xaxis": {
           "automargin": true,
           "gridcolor": "white",
           "linecolor": "white",
           "ticks": "",
           "title": {
            "standoff": 15
           },
           "zerolinecolor": "white",
           "zerolinewidth": 2
          },
          "yaxis": {
           "automargin": true,
           "gridcolor": "white",
           "linecolor": "white",
           "ticks": "",
           "title": {
            "standoff": 15
           },
           "zerolinecolor": "white",
           "zerolinewidth": 2
          }
         }
        },
        "title": {
         "text": "Education by purchase of product"
        },
        "width": 600,
        "xaxis": {
         "anchor": "y",
         "domain": [
          0,
          1
         ],
         "title": {
          "text": "value"
         }
        },
        "yaxis": {
         "anchor": "x",
         "domain": [
          0,
          1
         ],
         "title": {
          "text": "education"
         }
        }
       }
      }
     },
     "metadata": {},
     "output_type": "display_data"
    }
   ],
   "source": [
    "df_edu2 = df.groupby('education')['wines', 'fruits', 'meat', 'fish',\t'sweets', 'gold'].sum().reset_index()\n",
    "\n",
    "viz_bar(df_edu2, ['wines', 'fruits', 'meat', 'fish', 'sweets', 'gold'], 'education', 'Education by purchase of product') "
   ]
  },
  {
   "cell_type": "markdown",
   "metadata": {},
   "source": [
    "### Observation\n",
    "1. Majority of our customers are post-graduate and in a relationship. Of our customers 65% are in a relationship and 98% are in PG school\n",
    "2. Customers in relationship and in PG school purchase engrossively than single PG school customers\n",
    "3. Wine and meat is the most widely purchased product by customers\n",
    "4. Postgraduate customers purchase more of the product than the undergraduate.\n",
    "\n",
    "In summary our best purchasing customers are customers in a relationship and PG school."
   ]
  },
  {
   "cell_type": "markdown",
   "metadata": {},
   "source": [
    "## Clustering"
   ]
  },
  {
   "cell_type": "code",
   "execution_count": 30,
   "metadata": {},
   "outputs": [
    {
     "data": {
      "text/plain": [
       "(2212, 3)"
      ]
     },
     "metadata": {},
     "output_type": "display_data"
    },
    {
     "data": {
      "text/html": [
       "<div>\n",
       "<style scoped>\n",
       "    .dataframe tbody tr th:only-of-type {\n",
       "        vertical-align: middle;\n",
       "    }\n",
       "\n",
       "    .dataframe tbody tr th {\n",
       "        vertical-align: top;\n",
       "    }\n",
       "\n",
       "    .dataframe thead th {\n",
       "        text-align: right;\n",
       "    }\n",
       "</style>\n",
       "<table border=\"1\" class=\"dataframe\">\n",
       "  <thead>\n",
       "    <tr style=\"text-align: right;\">\n",
       "      <th></th>\n",
       "      <th>income</th>\n",
       "      <th>total_amount_spent</th>\n",
       "      <th>customers_engagement</th>\n",
       "    </tr>\n",
       "  </thead>\n",
       "  <tbody>\n",
       "    <tr>\n",
       "      <th>0</th>\n",
       "      <td>58138.0</td>\n",
       "      <td>1617</td>\n",
       "      <td>2</td>\n",
       "    </tr>\n",
       "    <tr>\n",
       "      <th>1</th>\n",
       "      <td>46344.0</td>\n",
       "      <td>27</td>\n",
       "      <td>0</td>\n",
       "    </tr>\n",
       "    <tr>\n",
       "      <th>2</th>\n",
       "      <td>71613.0</td>\n",
       "      <td>776</td>\n",
       "      <td>1</td>\n",
       "    </tr>\n",
       "    <tr>\n",
       "      <th>3</th>\n",
       "      <td>26646.0</td>\n",
       "      <td>53</td>\n",
       "      <td>0</td>\n",
       "    </tr>\n",
       "    <tr>\n",
       "      <th>4</th>\n",
       "      <td>58293.0</td>\n",
       "      <td>422</td>\n",
       "      <td>0</td>\n",
       "    </tr>\n",
       "  </tbody>\n",
       "</table>\n",
       "</div>"
      ],
      "text/plain": [
       "    income  total_amount_spent  customers_engagement\n",
       "0  58138.0                1617                     2\n",
       "1  46344.0                  27                     0\n",
       "2  71613.0                 776                     1\n",
       "3  26646.0                  53                     0\n",
       "4  58293.0                 422                     0"
      ]
     },
     "execution_count": 30,
     "metadata": {},
     "output_type": "execute_result"
    }
   ],
   "source": [
    "new_df = df[['income', 'total_amount_spent', 'customers_engagement']]\n",
    "display(new_df.shape)\n",
    "new_df[:5]\n"
   ]
  },
  {
   "cell_type": "markdown",
   "metadata": {},
   "source": [
    "### Standardization\n",
    "Normalise data"
   ]
  },
  {
   "cell_type": "code",
   "execution_count": 37,
   "metadata": {},
   "outputs": [
    {
     "data": {
      "text/html": [
       "<div>\n",
       "<style scoped>\n",
       "    .dataframe tbody tr th:only-of-type {\n",
       "        vertical-align: middle;\n",
       "    }\n",
       "\n",
       "    .dataframe tbody tr th {\n",
       "        vertical-align: top;\n",
       "    }\n",
       "\n",
       "    .dataframe thead th {\n",
       "        text-align: right;\n",
       "    }\n",
       "</style>\n",
       "<table border=\"1\" class=\"dataframe\">\n",
       "  <thead>\n",
       "    <tr style=\"text-align: right;\">\n",
       "      <th></th>\n",
       "      <th>income</th>\n",
       "      <th>total_amount_spent</th>\n",
       "      <th>customers_engagement</th>\n",
       "    </tr>\n",
       "  </thead>\n",
       "  <tbody>\n",
       "    <tr>\n",
       "      <th>0</th>\n",
       "      <td>0.287105</td>\n",
       "      <td>1.676245</td>\n",
       "      <td>1.499086</td>\n",
       "    </tr>\n",
       "    <tr>\n",
       "      <th>1</th>\n",
       "      <td>-0.260882</td>\n",
       "      <td>-0.963297</td>\n",
       "      <td>-1.417341</td>\n",
       "    </tr>\n",
       "    <tr>\n",
       "      <th>2</th>\n",
       "      <td>0.913196</td>\n",
       "      <td>0.280110</td>\n",
       "      <td>0.040872</td>\n",
       "    </tr>\n",
       "    <tr>\n",
       "      <th>3</th>\n",
       "      <td>-1.176114</td>\n",
       "      <td>-0.920135</td>\n",
       "      <td>-1.417341</td>\n",
       "    </tr>\n",
       "    <tr>\n",
       "      <th>4</th>\n",
       "      <td>0.294307</td>\n",
       "      <td>-0.307562</td>\n",
       "      <td>-1.417341</td>\n",
       "    </tr>\n",
       "  </tbody>\n",
       "</table>\n",
       "</div>"
      ],
      "text/plain": [
       "     income  total_amount_spent  customers_engagement\n",
       "0  0.287105            1.676245              1.499086\n",
       "1 -0.260882           -0.963297             -1.417341\n",
       "2  0.913196            0.280110              0.040872\n",
       "3 -1.176114           -0.920135             -1.417341\n",
       "4  0.294307           -0.307562             -1.417341"
      ]
     },
     "execution_count": 37,
     "metadata": {},
     "output_type": "execute_result"
    }
   ],
   "source": [
    "new_df1 = new_df.copy()\n",
    "\n",
    "scaled_features = StandardScaler().fit_transform(new_df1)\n",
    "scaled_features_df = pd.DataFrame(scaled_features, index = new_df1.index, columns=new_df1.columns)\n",
    "scaled_features_df.head()"
   ]
  },
  {
   "cell_type": "markdown",
   "metadata": {},
   "source": [
    "### Elbow Method\n",
    "#### Clustering"
   ]
  },
  {
   "cell_type": "code",
   "execution_count": 24,
   "metadata": {},
   "outputs": [],
   "source": [
    "from sklearn.cluster import KMeans"
   ]
  },
  {
   "cell_type": "code",
   "execution_count": 25,
   "metadata": {},
   "outputs": [
    {
     "data": {
      "image/png": "[encoded data removed]",
      "text/plain": [
       "<Figure size 576x432 with 1 Axes>"
      ]
     },
     "metadata": {},
     "output_type": "display_data"
    }
   ],
   "source": [
    "sse= []\n",
    "for x in range(1,10):\n",
    "    km = KMeans(n_clusters=x)\n",
    "    km.fit(scaled_features_df)\n",
    "    sse.append(km.inertia_)\n",
    "    \n",
    "plt.figure(figsize=(8,6))   \n",
    "plt.plot(range(1,10), sse, 'bx-')\n",
    "plt.title('The Elbow Method')\n",
    "plt.xlabel('Number of Cluster')\n",
    "plt.ylabel('SSE')\n",
    "plt.show()"
   ]
  },
  {
   "cell_type": "code",
   "execution_count": 26,
   "metadata": {},
   "outputs": [
    {
     "data": {
      "text/html": [
       "<div>\n",
       "<style scoped>\n",
       "    .dataframe tbody tr th:only-of-type {\n",
       "        vertical-align: middle;\n",
       "    }\n",
       "\n",
       "    .dataframe tbody tr th {\n",
       "        vertical-align: top;\n",
       "    }\n",
       "\n",
       "    .dataframe thead th {\n",
       "        text-align: right;\n",
       "    }\n",
       "</style>\n",
       "<table border=\"1\" class=\"dataframe\">\n",
       "  <thead>\n",
       "    <tr style=\"text-align: right;\">\n",
       "      <th></th>\n",
       "      <th>Education</th>\n",
       "      <th>Marital_Status</th>\n",
       "      <th>Income</th>\n",
       "      <th>Customers_engagement</th>\n",
       "      <th>Age</th>\n",
       "      <th>Kids</th>\n",
       "      <th>Total_expense</th>\n",
       "      <th>TotalAcceptedCmp</th>\n",
       "      <th>TotalNumOfPurchase</th>\n",
       "      <th>Cluster</th>\n",
       "    </tr>\n",
       "  </thead>\n",
       "  <tbody>\n",
       "    <tr>\n",
       "      <th>0</th>\n",
       "      <td>0</td>\n",
       "      <td>1</td>\n",
       "      <td>58138.0</td>\n",
       "      <td>9</td>\n",
       "      <td>64</td>\n",
       "      <td>0</td>\n",
       "      <td>1441</td>\n",
       "      <td>0</td>\n",
       "      <td>22</td>\n",
       "      <td>0</td>\n",
       "    </tr>\n",
       "    <tr>\n",
       "      <th>1</th>\n",
       "      <td>0</td>\n",
       "      <td>1</td>\n",
       "      <td>46344.0</td>\n",
       "      <td>7</td>\n",
       "      <td>67</td>\n",
       "      <td>2</td>\n",
       "      <td>20</td>\n",
       "      <td>0</td>\n",
       "      <td>4</td>\n",
       "      <td>0</td>\n",
       "    </tr>\n",
       "    <tr>\n",
       "      <th>2</th>\n",
       "      <td>0</td>\n",
       "      <td>0</td>\n",
       "      <td>71613.0</td>\n",
       "      <td>8</td>\n",
       "      <td>56</td>\n",
       "      <td>0</td>\n",
       "      <td>713</td>\n",
       "      <td>0</td>\n",
       "      <td>20</td>\n",
       "      <td>1</td>\n",
       "    </tr>\n",
       "    <tr>\n",
       "      <th>3</th>\n",
       "      <td>0</td>\n",
       "      <td>0</td>\n",
       "      <td>26646.0</td>\n",
       "      <td>7</td>\n",
       "      <td>37</td>\n",
       "      <td>1</td>\n",
       "      <td>45</td>\n",
       "      <td>0</td>\n",
       "      <td>6</td>\n",
       "      <td>2</td>\n",
       "    </tr>\n",
       "    <tr>\n",
       "      <th>4</th>\n",
       "      <td>0</td>\n",
       "      <td>0</td>\n",
       "      <td>58293.0</td>\n",
       "      <td>7</td>\n",
       "      <td>40</td>\n",
       "      <td>1</td>\n",
       "      <td>380</td>\n",
       "      <td>0</td>\n",
       "      <td>14</td>\n",
       "      <td>0</td>\n",
       "    </tr>\n",
       "  </tbody>\n",
       "</table>\n",
       "</div>"
      ],
      "text/plain": [
       "   Education  Marital_Status   Income  Customers_engagement  Age  Kids  \\\n",
       "0          0               1  58138.0                     9   64     0   \n",
       "1          0               1  46344.0                     7   67     2   \n",
       "2          0               0  71613.0                     8   56     0   \n",
       "3          0               0  26646.0                     7   37     1   \n",
       "4          0               0  58293.0                     7   40     1   \n",
       "\n",
       "   Total_expense  TotalAcceptedCmp  TotalNumOfPurchase  Cluster  \n",
       "0           1441                 0                  22        0  \n",
       "1             20                 0                   4        0  \n",
       "2            713                 0                  20        1  \n",
       "3             45                 0                   6        2  \n",
       "4            380                 0                  14        0  "
      ]
     },
     "execution_count": 26,
     "metadata": {},
     "output_type": "execute_result"
    }
   ],
   "source": [
    "# as seen above our k=3\n",
    "km =KMeans(n_clusters=3)\n",
    "y_predicted= km.fit_predict(df1)\n",
    "df1['Cluster'] = y_predicted\n",
    "df1.head()"
   ]
  },
  {
   "cell_type": "code",
   "execution_count": 27,
   "metadata": {},
   "outputs": [
    {
     "data": {
      "application/vnd.plotly.v1+json": {
       "config": {
        "plotlyServerURL": "https://plot.ly"
       },
       "data": [
        {
         "hovertemplate": "Income: %{x} <br>Age: %{y} <br>Total_expense: %{z}",
         "marker": {
          "line": {
           "width": 1
          },
          "size": 6
         },
         "mode": "markers",
         "name": "0",
         "type": "scatter3d",
         "x": [
          58138,
          46344,
          58293,
          62513,
          55635,
          63033,
          59354,
          41850,
          58607,
          40689,
          53359,
          40548,
          46610,
          49389,
          42429,
          48948,
          41728,
          55954,
          61823,
          60631,
          56046,
          50388,
          54178,
          42394,
          47916,
          51813,
          50150,
          47823,
          49096,
          52413,
          57288,
          43974,
          50785,
          56129,
          54348,
          62998,
          61331,
          41551,
          62981,
          41883,
          59809,
          49605,
          59354,
          46344,
          61010,
          49967,
          60199,
          55375,
          43482,
          62551,
          52332,
          50447,
          53537,
          52074,
          51650,
          61286,
          45759,
          51148,
          46854,
          63693,
          40637,
          48721,
          44794,
          64497,
          46097,
          44377,
          46014,
          41443,
          52195,
          44551,
          45204,
          63887,
          42011,
          51369,
          51537,
          62745,
          61074,
          63342,
          45989,
          40737,
          44159,
          43776,
          61905,
          60714,
          63841,
          51369,
          44319,
          50898,
          55951,
          42386,
          57912,
          58821,
          46377,
          64100,
          42670,
          54198,
          40321,
          47025,
          64325,
          40464,
          62187,
          54432,
          62204,
          41411,
          55212,
          59292,
          44300,
          60000,
          50737,
          46681,
          62187,
          51479,
          54803,
          52614,
          48178,
          63810,
          46098,
          43795,
          63381,
          62499,
          51012,
          43824,
          42373,
          55521,
          48006,
          50437,
          53858,
          46923,
          49505,
          48686,
          61314,
          42387,
          50943,
          51529,
          56223,
          42618,
          55707,
          57959,
          56796,
          42207,
          50300,
          60597,
          50520,
          53790,
          49269,
          61456,
          56937,
          62503,
          41644,
          55842,
          62010,
          41124,
          43057,
          60093,
          46310,
          58308,
          55614,
          59432,
          55563,
          48330,
          64355,
          50943,
          53653,
          61250,
          60152,
          48920,
          44124,
          42691,
          50353,
          61839,
          49154,
          47682,
          57954,
          47352,
          44931,
          57247,
          43638,
          42710,
          54058,
          47850,
          60504,
          43462,
          54880,
          62466,
          48799,
          52157,
          47691,
          44989,
          64413,
          61996,
          51287,
          47472,
          54603,
          45207,
          40689,
          47821,
          61794,
          53863,
          59973,
          42169,
          62807,
          61467,
          49618,
          42429,
          45006,
          48240,
          45837,
          54162,
          54456,
          62466,
          46102,
          56181,
          63120,
          63381,
          62859,
          45906,
          46463,
          55282,
          50616,
          49431,
          61278,
          46734,
          56253,
          58330,
          45068,
          54690,
          59304,
          59247,
          52614,
          41039,
          50611,
          61209,
          42315,
          47570,
          61923,
          45938,
          41335,
          43185,
          55250,
          58398,
          50272,
          58710,
          45160,
          59111,
          44794,
          56962,
          53593,
          45072,
          62882,
          64108,
          48767,
          63564,
          51518,
          58330,
          63855,
          62220,
          58512,
          40662,
          48726,
          46891,
          62058,
          42720,
          41452,
          40760,
          51124,
          42564,
          43783,
          40780,
          62847,
          51267,
          46524,
          45183,
          60161,
          61872,
          46984,
          48192,
          49681,
          56850,
          55267,
          59666,
          52750,
          57091,
          55412,
          48789,
          56575,
          49494,
          45889,
          56628,
          61618,
          55284,
          49980,
          49166,
          46374,
          60474,
          55357,
          44602,
          49514,
          57906,
          43456,
          53172,
          62450,
          42395,
          61346,
          42835,
          51111,
          46231,
          42243,
          51195,
          51390,
          48948,
          55260,
          64090,
          54137,
          57100,
          58917,
          45684,
          47889,
          45921,
          52278,
          62820,
          42607,
          46015,
          46107,
          55239,
          60554,
          56067,
          51563,
          57937,
          52190,
          44051,
          42767,
          46106,
          59754,
          53700,
          59041,
          54237,
          52597,
          41021,
          50183,
          54753,
          44010,
          40706,
          59052,
          56962,
          53103,
          46779,
          63693,
          42021,
          64449,
          52845,
          46086,
          56337,
          49187,
          59412,
          54165,
          64504,
          56320,
          46423,
          47703,
          61180,
          44529,
          42557,
          53312,
          62845,
          42000,
          64176,
          59925,
          46610,
          50014,
          41014,
          40479,
          54233,
          43776,
          57236,
          61825,
          56775,
          54210,
          53187,
          50870,
          54466,
          47025,
          52034,
          48526,
          46734,
          46931,
          63998,
          42693,
          49669,
          49678,
          56129,
          63285,
          42162,
          54450,
          57744,
          57513,
          54197,
          46049,
          56715,
          57304,
          44375,
          54450,
          59594,
          40344,
          62710,
          48985,
          47353,
          54386,
          48070,
          43140,
          54959,
          44393,
          62000,
          45894,
          58401,
          62307,
          43641,
          63841,
          46891,
          59184,
          54809,
          58113,
          51412,
          50965,
          40451,
          42213,
          56721,
          42160,
          61559,
          61284,
          54730,
          44421,
          41986,
          55249,
          44213,
          59062,
          40521,
          55158,
          62972,
          47139,
          53378,
          45579,
          55956,
          64191,
          57183,
          40800,
          46149,
          49118,
          57091,
          46831,
          52531,
          43050,
          42997,
          48918,
          60033,
          57811,
          44267,
          60894,
          50200,
          59868,
          45143,
          59060,
          47009,
          46094,
          40321,
          46692,
          45503,
          48752,
          51948,
          50127,
          43263,
          62845,
          50150,
          62061,
          62159,
          58554,
          53034,
          52203,
          59601,
          47025,
          41335,
          57338,
          50523,
          50611,
          56242,
          48904,
          56243,
          57420,
          46390,
          54342,
          44964,
          53761,
          41658,
          63915,
          63841,
          51039,
          60544,
          44511,
          47352,
          57045,
          43142,
          57537,
          51315,
          63810,
          54132,
          43269,
          60544,
          42523,
          51876,
          52852,
          46053,
          40304,
          43300,
          57957,
          46015,
          49476,
          50725,
          41145,
          59892,
          41020,
          57072,
          60474,
          62807,
          64014,
          49854,
          60585,
          42873,
          57867,
          53374,
          53253,
          42014,
          54108,
          49667,
          63206,
          57136,
          46772,
          53977,
          46098,
          51766,
          55759,
          58597,
          57036,
          53083,
          46098,
          59235,
          51411,
          51983,
          42386,
          57530,
          63943,
          47175,
          49681,
          44322,
          47958,
          63972,
          55517,
          42014,
          45203,
          60482,
          45903,
          40442,
          61482,
          45143,
          52569,
          48432,
          53843,
          44512,
          54072,
          51250,
          60432,
          64509,
          55434,
          57100,
          52973,
          51717,
          50664,
          54414,
          54549,
          47111,
          41003,
          42731,
          52854,
          46681,
          59821,
          50002,
          44078,
          64140,
          56386,
          58494,
          58684,
          57136,
          56551,
          62670,
          50334,
          50729,
          43602,
          41473,
          63246,
          49544,
          49413,
          42231,
          56534,
          58350,
          49090,
          61787,
          62335,
          42033,
          41437,
          61064,
          55012,
          58656,
          52117,
          54222,
          41154,
          60230,
          44392,
          55424,
          42586,
          46910,
          54984,
          42403,
          55761,
          45576,
          58086,
          63342,
          44989,
          51569,
          41120,
          62905,
          59481,
          47808,
          51012,
          42664,
          42586,
          42473,
          46904,
          49094,
          60839,
          48918,
          62535,
          63404,
          59385,
          44689,
          53977,
          63159,
          46757,
          63207,
          58582,
          50387,
          62568,
          44635,
          63967,
          52513,
          54111,
          44911,
          54693,
          48186,
          54809,
          41580,
          47743,
          62972,
          57333,
          57705,
          64260,
          58217,
          54006,
          61825,
          60208,
          44503,
          60200,
          49638,
          50616,
          62772,
          52413,
          44155,
          42081,
          61671,
          49160,
          59292,
          45759,
          45688,
          62820,
          60491,
          52278,
          57107,
          55212,
          62694,
          61917,
          54998,
          54356,
          63211,
          51141,
          56939,
          61798,
          46998,
          56551,
          44359,
          40887,
          48877,
          64474,
          55686,
          40794,
          54690,
          58646,
          53201,
          57113,
          51373,
          58116,
          56559,
          46423,
          63684,
          41638,
          43815,
          48195,
          49912,
          55914,
          60905,
          60689,
          61416,
          49767,
          45057,
          43020,
          53154,
          55801,
          48794,
          59462,
          42554,
          42192,
          54591,
          42000,
          51651,
          56796,
          53367,
          49912,
          48699,
          54252,
          53204,
          58646,
          48150,
          58275,
          44953,
          43018,
          45736,
          43586,
          53230,
          50116,
          61286,
          58692,
          40590,
          62637,
          41275,
          63516,
          42769,
          49572,
          40590,
          41713,
          58482,
          59686,
          60896,
          62994,
          47320,
          41967,
          60934,
          48432,
          52914,
          44325,
          42523,
          53233,
          40851,
          43322,
          55593,
          50501,
          57731,
          48432,
          61014,
          45146,
          41769,
          58025,
          57642,
          58554,
          63777,
          57967,
          44802,
          61223,
          64014,
          56981,
          52869
         ],
         "y": [
          64,
          67,
          40,
          54,
          50,
          62,
          69,
          41,
          72,
          70,
          45,
          51,
          69,
          70,
          48,
          78,
          53,
          53,
          69,
          46,
          56,
          64,
          54,
          49,
          61,
          49,
          38,
          61,
          57,
          52,
          58,
          41,
          59,
          68,
          68,
          69,
          63,
          57,
          54,
          33,
          45,
          55,
          68,
          49,
          69,
          63,
          43,
          44,
          55,
          68,
          62,
          51,
          62,
          54,
          45,
          55,
          57,
          48,
          48,
          43,
          56,
          58,
          55,
          67,
          65,
          53,
          47,
          44,
          43,
          67,
          33,
          59,
          43,
          45,
          69,
          56,
          63,
          60,
          57,
          64,
          51,
          69,
          46,
          65,
          53,
          45,
          46,
          65,
          69,
          35,
          56,
          65,
          43,
          57,
          29,
          55,
          49,
          56,
          60,
          68,
          64,
          71,
          61,
          35,
          52,
          71,
          56,
          45,
          66,
          73,
          52,
          54,
          52,
          46,
          46,
          55,
          46,
          53,
          61,
          42,
          75,
          50,
          47,
          66,
          56,
          58,
          45,
          34,
          50,
          68,
          53,
          32,
          65,
          72,
          73,
          49,
          68,
          66,
          52,
          37,
          69,
          57,
          63,
          70,
          50,
          46,
          40,
          65,
          49,
          44,
          49,
          44,
          46,
          47,
          45,
          57,
          77,
          59,
          43,
          60,
          36,
          65,
          68,
          62,
          42,
          57,
          75,
          30,
          44,
          57,
          61,
          46,
          44,
          70,
          54,
          69,
          52,
          37,
          45,
          41,
          50,
          69,
          43,
          51,
          58,
          71,
          42,
          47,
          51,
          44,
          53,
          55,
          65,
          47,
          70,
          54,
          60,
          66,
          49,
          52,
          61,
          73,
          55,
          48,
          77,
          52,
          47,
          43,
          60,
          51,
          59,
          59,
          71,
          61,
          62,
          57,
          50,
          51,
          71,
          66,
          68,
          55,
          58,
          46,
          47,
          50,
          57,
          59,
          46,
          39,
          61,
          51,
          63,
          72,
          60,
          60,
          53,
          70,
          56,
          68,
          39,
          51,
          63,
          67,
          55,
          56,
          68,
          73,
          52,
          68,
          71,
          67,
          63,
          46,
          43,
          49,
          57,
          42,
          66,
          56,
          65,
          56,
          68,
          56,
          66,
          53,
          43,
          45,
          76,
          43,
          60,
          59,
          56,
          51,
          65,
          63,
          45,
          50,
          64,
          49,
          66,
          60,
          45,
          29,
          54,
          49,
          41,
          44,
          30,
          65,
          58,
          47,
          47,
          42,
          36,
          52,
          46,
          48,
          55,
          43,
          62,
          40,
          43,
          50,
          40,
          68,
          62,
          59,
          56,
          78,
          49,
          65,
          51,
          48,
          52,
          50,
          47,
          35,
          58,
          67,
          67,
          66,
          32,
          50,
          46,
          59,
          34,
          39,
          45,
          48,
          50,
          45,
          56,
          69,
          48,
          64,
          59,
          52,
          41,
          62,
          41,
          53,
          62,
          56,
          67,
          61,
          43,
          40,
          32,
          48,
          65,
          40,
          45,
          70,
          52,
          68,
          54,
          49,
          68,
          62,
          55,
          47,
          70,
          72,
          34,
          56,
          66,
          63,
          53,
          43,
          39,
          44,
          38,
          56,
          42,
          42,
          42,
          51,
          69,
          48,
          43,
          48,
          42,
          67,
          44,
          69,
          43,
          47,
          60,
          68,
          76,
          40,
          65,
          67,
          78,
          61,
          45,
          47,
          70,
          56,
          65,
          56,
          47,
          49,
          53,
          61,
          40,
          71,
          64,
          60,
          56,
          69,
          47,
          61,
          69,
          52,
          53,
          56,
          60,
          44,
          62,
          63,
          65,
          64,
          64,
          49,
          46,
          56,
          66,
          46,
          50,
          43,
          65,
          69,
          54,
          53,
          51,
          66,
          69,
          58,
          73,
          77,
          58,
          55,
          57,
          46,
          50,
          49,
          52,
          50,
          48,
          44,
          58,
          67,
          55,
          51,
          55,
          45,
          49,
          56,
          32,
          56,
          48,
          49,
          63,
          46,
          52,
          46,
          59,
          44,
          72,
          38,
          45,
          75,
          53,
          47,
          71,
          44,
          45,
          53,
          46,
          61,
          61,
          52,
          61,
          46,
          50,
          66,
          65,
          41,
          49,
          46,
          65,
          53,
          52,
          60,
          51,
          70,
          71,
          52,
          42,
          73,
          55,
          52,
          49,
          60,
          57,
          63,
          64,
          49,
          54,
          50,
          62,
          66,
          58,
          68,
          71,
          51,
          34,
          60,
          42,
          61,
          75,
          49,
          50,
          71,
          43,
          52,
          46,
          44,
          48,
          66,
          47,
          49,
          46,
          63,
          46,
          41,
          59,
          45,
          46,
          63,
          46,
          54,
          68,
          57,
          35,
          70,
          65,
          59,
          45,
          36,
          69,
          57,
          71,
          44,
          39,
          45,
          55,
          69,
          56,
          56,
          54,
          48,
          56,
          61,
          58,
          31,
          48,
          31,
          37,
          34,
          65,
          56,
          62,
          58,
          69,
          50,
          58,
          52,
          62,
          73,
          66,
          67,
          52,
          57,
          40,
          47,
          40,
          54,
          71,
          67,
          49,
          63,
          55,
          36,
          54,
          45,
          69,
          52,
          53,
          50,
          70,
          34,
          69,
          50,
          64,
          45,
          48,
          65,
          56,
          48,
          43,
          65,
          47,
          45,
          66,
          57,
          62,
          50,
          57,
          76,
          52,
          60,
          47,
          72,
          53,
          57,
          46,
          46,
          75,
          54,
          66,
          45,
          54,
          48,
          42,
          58,
          66,
          57,
          70,
          70,
          63,
          47,
          58,
          29,
          39,
          65,
          59,
          50,
          53,
          43,
          56,
          62,
          59,
          47,
          44,
          43,
          64,
          66,
          67,
          55,
          60,
          70,
          36,
          42,
          48,
          49,
          73,
          69,
          53,
          52,
          37,
          64,
          39,
          53,
          72,
          71,
          57,
          53,
          67,
          50,
          58,
          53,
          52,
          56,
          47,
          65,
          72,
          39,
          81,
          45,
          57,
          65,
          71,
          43,
          69,
          55,
          49,
          55,
          46,
          50,
          59,
          46,
          43,
          30,
          65,
          46,
          49,
          51,
          57,
          39,
          65,
          72,
          46,
          71,
          70,
          39,
          30,
          42,
          51,
          62,
          46,
          68,
          71,
          43,
          73,
          72,
          34,
          61,
          52,
          47,
          72,
          71,
          65,
          45,
          59,
          72,
          66,
          40,
          47,
          67,
          41,
          65,
          64,
          55,
          56,
          52,
          67,
          61,
          48,
          59,
          63,
          52,
          57,
          66,
          56,
          57,
          41,
          64,
          40,
          46,
          48,
          50,
          49,
          57,
          64,
          50,
          47,
          48,
          67,
          52,
          48,
          41,
          58,
          66,
          42,
          51,
          53,
          42,
          59,
          51,
          54,
          75,
          40,
          67
         ],
         "z": [
          1441,
          20,
          380,
          660,
          514,
          960,
          291,
          79,
          953,
          339,
          210,
          117,
          237,
          61,
          63,
          811,
          37,
          475,
          701,
          636,
          641,
          335,
          187,
          27,
          531,
          60,
          338,
          61,
          179,
          747,
          548,
          479,
          86,
          540,
          86,
          316,
          586,
          256,
          1438,
          180,
          787,
          99,
          433,
          318,
          945,
          291,
          18,
          120,
          57,
          373,
          257,
          118,
          87,
          71,
          179,
          482,
          64,
          294,
          183,
          1009,
          35,
          259,
          61,
          1580,
          229,
          254,
          488,
          374,
          16,
          219,
          95,
          1142,
          149,
          383,
          1011,
          1075,
          922,
          1070,
          286,
          15,
          255,
          253,
          216,
          703,
          770,
          383,
          34,
          610,
          1321,
          85,
          881,
          700,
          87,
          536,
          222,
          216,
          75,
          19,
          1222,
          566,
          1112,
          38,
          761,
          118,
          1148,
          479,
          39,
          1265,
          89,
          368,
          595,
          421,
          524,
          943,
          214,
          1258,
          84,
          382,
          796,
          205,
          176,
          151,
          136,
          442,
          37,
          477,
          739,
          285,
          723,
          19,
          664,
          489,
          40,
          445,
          152,
          177,
          327,
          811,
          917,
          202,
          242,
          811,
          120,
          532,
          824,
          1107,
          890,
          781,
          29,
          490,
          438,
          387,
          259,
          639,
          290,
          770,
          656,
          632,
          41,
          32,
          1254,
          40,
          1092,
          645,
          794,
          331,
          339,
          283,
          376,
          1758,
          313,
          403,
          484,
          304,
          89,
          172,
          163,
          301,
          500,
          112,
          488,
          219,
          632,
          685,
          301,
          223,
          17,
          253,
          249,
          1206,
          152,
          67,
          221,
          213,
          339,
          31,
          553,
          439,
          348,
          28,
          699,
          540,
          113,
          63,
          256,
          792,
          332,
          27,
          389,
          685,
          15,
          301,
          1367,
          796,
          1270,
          339,
          213,
          212,
          57,
          348,
          144,
          146,
          581,
          815,
          17,
          171,
          987,
          477,
          943,
          361,
          489,
          809,
          179,
          88,
          117,
          524,
          168,
          601,
          837,
          526,
          221,
          889,
          18,
          686,
          61,
          382,
          437,
          252,
          1217,
          1057,
          53,
          1116,
          441,
          815,
          801,
          1202,
          1019,
          65,
          183,
          107,
          392,
          516,
          16,
          87,
          38,
          597,
          486,
          340,
          1475,
          256,
          111,
          294,
          886,
          530,
          32,
          1439,
          437,
          56,
          357,
          877,
          722,
          540,
          54,
          530,
          516,
          297,
          37,
          573,
          1095,
          694,
          172,
          258,
          429,
          1001,
          638,
          258,
          263,
          383,
          379,
          341,
          891,
          142,
          831,
          488,
          47,
          246,
          50,
          482,
          295,
          811,
          897,
          611,
          182,
          310,
          247,
          21,
          58,
          184,
          1024,
          862,
          271,
          40,
          83,
          649,
          781,
          599,
          1214,
          502,
          59,
          150,
          88,
          40,
          190,
          570,
          88,
          304,
          536,
          36,
          206,
          538,
          542,
          74,
          403,
          382,
          890,
          16,
          1009,
          541,
          700,
          831,
          291,
          537,
          115,
          352,
          219,
          1206,
          542,
          84,
          506,
          462,
          659,
          250,
          253,
          1144,
          559,
          1561,
          689,
          332,
          344,
          17,
          15,
          839,
          19,
          116,
          367,
          867,
          313,
          250,
          61,
          16,
          601,
          246,
          106,
          278,
          61,
          1023,
          38,
          289,
          293,
          540,
          931,
          114,
          633,
          392,
          1010,
          211,
          482,
          839,
          903,
          253,
          633,
          490,
          216,
          566,
          60,
          213,
          424,
          476,
          224,
          1208,
          48,
          1000,
          36,
          38,
          144,
          114,
          770,
          107,
          855,
          139,
          596,
          176,
          650,
          39,
          340,
          208,
          105,
          482,
          759,
          342,
          181,
          48,
          119,
          141,
          62,
          17,
          384,
          395,
          58,
          655,
          181,
          952,
          772,
          540,
          59,
          335,
          1012,
          492,
          40,
          597,
          65,
          9,
          61,
          139,
          703,
          256,
          778,
          331,
          1030,
          292,
          222,
          348,
          37,
          75,
          297,
          151,
          301,
          240,
          299,
          329,
          1144,
          338,
          732,
          535,
          498,
          386,
          803,
          767,
          389,
          168,
          212,
          83,
          489,
          875,
          331,
          386,
          298,
          175,
          139,
          39,
          247,
          39,
          774,
          770,
          308,
          249,
          699,
          304,
          424,
          15,
          437,
          151,
          1258,
          39,
          18,
          249,
          64,
          256,
          832,
          177,
          54,
          148,
          603,
          40,
          558,
          528,
          12,
          86,
          174,
          1004,
          1001,
          699,
          436,
          350,
          673,
          252,
          572,
          1020,
          302,
          371,
          644,
          1344,
          894,
          441,
          840,
          801,
          84,
          204,
          770,
          684,
          1452,
          258,
          84,
          1037,
          17,
          756,
          85,
          84,
          988,
          219,
          437,
          89,
          382,
          1245,
          591,
          371,
          115,
          469,
          53,
          134,
          190,
          292,
          88,
          379,
          485,
          30,
          39,
          638,
          387,
          1620,
          737,
          283,
          944,
          116,
          431,
          167,
          224,
          939,
          469,
          218,
          115,
          368,
          699,
          540,
          37,
          1520,
          505,
          377,
          721,
          1040,
          120,
          741,
          544,
          440,
          46,
          64,
          743,
          381,
          256,
          32,
          769,
          841,
          588,
          1186,
          676,
          18,
          31,
          855,
          647,
          1184,
          259,
          245,
          59,
          946,
          170,
          717,
          252,
          62,
          349,
          34,
          149,
          106,
          777,
          1070,
          253,
          433,
          49,
          456,
          337,
          152,
          176,
          24,
          252,
          115,
          213,
          425,
          972,
          61,
          301,
          841,
          145,
          23,
          801,
          1674,
          970,
          1263,
          644,
          477,
          857,
          65,
          685,
          729,
          335,
          183,
          868,
          178,
          139,
          89,
          243,
          395,
          1428,
          442,
          1544,
          85,
          460,
          367,
          597,
          40,
          653,
          34,
          144,
          830,
          382,
          32,
          349,
          704,
          211,
          479,
          64,
          297,
          862,
          933,
          1024,
          279,
          1148,
          567,
          88,
          417,
          775,
          1002,
          151,
          483,
          442,
          344,
          120,
          41,
          108,
          120,
          644,
          909,
          361,
          171,
          113,
          388,
          219,
          250,
          381,
          422,
          84,
          1291,
          350,
          57,
          253,
          783,
          927,
          337,
          609,
          1526,
          501,
          47,
          155,
          150,
          428,
          39,
          884,
          41,
          87,
          486,
          559,
          335,
          917,
          386,
          783,
          39,
          216,
          39,
          113,
          217,
          508,
          889,
          63,
          391,
          116,
          482,
          64,
          482,
          377,
          210,
          168,
          50,
          281,
          87,
          52,
          210,
          139,
          717,
          227,
          1502,
          288,
          380,
          37,
          726,
          379,
          338,
          537,
          64,
          40,
          31,
          121,
          436,
          348,
          652,
          379,
          1075,
          38,
          494,
          400,
          652,
          498,
          583,
          377,
          1019,
          976,
          436,
          1205,
          150
         ]
        },
        {
         "hovertemplate": "Income: %{x} <br>Age: %{y} <br>Total_expense: %{z}",
         "marker": {
          "line": {
           "width": 1
          },
          "size": 6
         },
         "mode": "markers",
         "name": "1",
         "type": "scatter3d",
         "x": [
          71613,
          82800,
          76995,
          65324,
          84618,
          68657,
          67353,
          80011,
          79941,
          72550,
          65486,
          79143,
          82582,
          66373,
          82384,
          70287,
          75777,
          66653,
          67680,
          70666,
          88194,
          69096,
          74854,
          66991,
          65031,
          75251,
          75825,
          81361,
          79593,
          78497,
          85693,
          65846,
          87195,
          89058,
          77298,
          68126,
          86037,
          90765,
          101970,
          71488,
          79607,
          77376,
          73448,
          92859,
          65104,
          86111,
          68352,
          65747,
          69372,
          80317,
          70356,
          74165,
          157243,
          66951,
          80427,
          83837,
          78497,
          66835,
          74068,
          66973,
          69661,
          80067,
          86718,
          69142,
          75922,
          102160,
          77972,
          70951,
          83790,
          69508,
          72460,
          77622,
          79930,
          81975,
          79761,
          73455,
          64961,
          73687,
          80134,
          75027,
          67546,
          65176,
          102692,
          75702,
          69674,
          80124,
          72940,
          69267,
          66313,
          77882,
          69867,
          65640,
          75278,
          79946,
          82497,
          68627,
          80950,
          77457,
          70893,
          66503,
          64795,
          66334,
          75693,
          83003,
          68655,
          82623,
          84835,
          71113,
          71952,
          69759,
          72099,
          68462,
          65073,
          78618,
          79530,
          72025,
          66426,
          83664,
          90300,
          74293,
          70777,
          68682,
          75276,
          65808,
          66465,
          75072,
          75865,
          80134,
          91065,
          82584,
          93027,
          92910,
          75433,
          84865,
          67309,
          75236,
          67272,
          81246,
          70829,
          65991,
          89572,
          66664,
          70165,
          80124,
          66582,
          75261,
          83151,
          78825,
          65104,
          78952,
          76005,
          78642,
          67911,
          65275,
          65665,
          81217,
          89120,
          81169,
          71367,
          80184,
          73454,
          70503,
          77863,
          72679,
          65316,
          76982,
          84169,
          85620,
          81698,
          79908,
          87771,
          81741,
          71499,
          66565,
          79800,
          92163,
          69882,
          72906,
          81168,
          162397,
          72298,
          72635,
          84196,
          70971,
          69084,
          65488,
          83917,
          84574,
          73691,
          76140,
          77632,
          105471,
          78710,
          66886,
          98777,
          67445,
          153924,
          73059,
          66731,
          77353,
          81300,
          70337,
          65295,
          68118,
          68743,
          65777,
          66476,
          86857,
          160803,
          77845,
          69476,
          78468,
          78901,
          71427,
          71022,
          90247,
          71952,
          66375,
          76618,
          87305,
          74806,
          72190,
          80395,
          75012,
          89891,
          66373,
          89694,
          72025,
          67432,
          70545,
          82224,
          83844,
          71163,
          83443,
          80952,
          75507,
          79146,
          78285,
          75127,
          74985,
          67430,
          72063,
          78939,
          74250,
          72258,
          71466,
          82017,
          70421,
          73926,
          82716,
          72504,
          73170,
          91820,
          65968,
          65685,
          76412,
          87771,
          78353,
          93404,
          80995,
          71391,
          81702,
          82504,
          81205,
          65324,
          82347,
          85710,
          70123,
          80812,
          86424,
          86857,
          82072,
          68092,
          76630,
          78331,
          81320,
          66825,
          85072,
          86429,
          78420,
          75114,
          95529,
          73113,
          84169,
          74637,
          72354,
          83033,
          77583,
          74116,
          74293,
          68397,
          79632,
          64950,
          75127,
          71796,
          67536,
          64831,
          82025,
          94384,
          68274,
          67893,
          70647,
          92955,
          84219,
          80573,
          83715,
          82576,
          80763,
          65352,
          82170,
          75759,
          79689,
          85683,
          64587,
          75437,
          78028,
          95169,
          65569,
          83844,
          77568,
          70924,
          68316,
          74538,
          91700,
          68695,
          79593,
          76081,
          77037,
          70924,
          69098,
          70596,
          72228,
          67605,
          65196,
          65526,
          83528,
          67023,
          70713,
          88347,
          87171,
          66294,
          79456,
          75345,
          84460,
          71691,
          85844,
          71367,
          79803,
          80910,
          83829,
          76045,
          65463,
          66480,
          76773,
          81698,
          98777,
          71819,
          70566,
          86358,
          67381,
          85606,
          72903,
          85696,
          68142,
          83145,
          79410,
          80685,
          77142,
          81657,
          74214,
          66726,
          90638,
          78579,
          67369,
          70091,
          78075,
          66636,
          84618,
          65748,
          77044,
          74918,
          68682,
          77297,
          75032,
          64722,
          84906,
          76624,
          66000,
          65106,
          69969,
          67433,
          77766,
          74716,
          68118,
          74190,
          76653,
          90687,
          73450,
          83829,
          85485,
          66303,
          71847,
          78687,
          83151,
          78569,
          157733,
          94384,
          71626,
          81051,
          65169,
          65695,
          64857,
          74805,
          81843,
          77382,
          72828,
          71604,
          71434,
          90842,
          88097,
          71853,
          85696,
          76542,
          70515,
          69139,
          69109,
          69627,
          80695,
          75154,
          67267,
          92344,
          75507,
          65685,
          67087,
          69389,
          80134,
          80589,
          65704,
          92533,
          70844,
          78427,
          82657,
          78041,
          70038,
          69401,
          77343,
          73892,
          68695,
          93790,
          64866,
          83844,
          67419,
          94871,
          65148,
          64857,
          75484,
          70379,
          79419,
          76998,
          87679,
          65492,
          71706,
          68487,
          78931,
          84219,
          73538,
          79529,
          87188,
          69930,
          82032,
          74004,
          69283,
          67786,
          71969,
          74881,
          65819,
          66033,
          76800,
          76081,
          67445,
          70179,
          79865,
          75315,
          75283,
          82800,
          90638,
          81574,
          78093,
          82460,
          81361,
          75794,
          74268,
          76445,
          90226,
          70638,
          71855,
          65526,
          68655,
          69139,
          66664,
          73059,
          69755,
          75774,
          82014,
          157146,
          72066,
          64892,
          69084,
          77766,
          86610,
          80141,
          72635,
          69016,
          70440,
          78789,
          81217,
          86580,
          73705,
          64813,
          83512,
          77520,
          80398,
          92491,
          90273,
          82571,
          74881,
          71107,
          82427,
          75342,
          70044,
          79146,
          77437,
          70321,
          81795,
          66835,
          69901,
          80360,
          77981,
          72117,
          67131,
          71853,
          70596,
          85431,
          65370,
          64590,
          71232,
          77298,
          82122,
          75774,
          78416,
          75702,
          90369,
          79734,
          72071,
          72282,
          78394,
          80739,
          80336,
          84953,
          68148,
          65735,
          86836,
          83257,
          72159,
          82733,
          74290,
          70116,
          69063,
          70886,
          69109,
          82326,
          69932,
          72905,
          69702,
          70300,
          70643,
          86979,
          76532,
          67546,
          88420,
          69719,
          90933,
          113734,
          73395,
          92556,
          67384,
          80573,
          77870,
          70932,
          91249,
          77598,
          80982,
          70617,
          64849,
          67472,
          75903,
          73356,
          72570,
          70792,
          83891,
          80872,
          72335,
          76842,
          96843,
          70053,
          71670,
          74485,
          77226,
          72643,
          85738,
          94642,
          72968,
          91712,
          94472,
          96547,
          79205,
          67506,
          68805,
          65814,
          71964,
          96876,
          68281,
          77027,
          71322,
          68117,
          67225,
          75330,
          83273,
          65308,
          76467,
          81044,
          76320,
          71128,
          70179,
          70038,
          67445,
          67046,
          77610,
          71866,
          69520,
          64713,
          68487,
          87000,
          79823,
          71322,
          79244,
          80144,
          81929,
          76068,
          67911,
          78128,
          72967,
          82332,
          66476,
          69805,
          72217,
          84906,
          82333,
          65220,
          72309,
          156924,
          65487,
          65333,
          78499,
          69209,
          74859,
          72071,
          91172,
          90000,
          69263,
          65706,
          71965,
          65210,
          79174,
          81380,
          67716,
          76234,
          84117,
          65487,
          89616,
          82347,
          73803,
          73807,
          88325,
          80617,
          82032,
          75777,
          69245
         ],
         "y": [
          56,
          75,
          72,
          67,
          56,
          75,
          51,
          41,
          45,
          67,
          64,
          57,
          44,
          43,
          66,
          55,
          39,
          46,
          70,
          73,
          42,
          63,
          51,
          67,
          62,
          49,
          45,
          34,
          48,
          70,
          42,
          76,
          62,
          61,
          42,
          30,
          30,
          51,
          38,
          56,
          37,
          65,
          52,
          29,
          45,
          59,
          47,
          52,
          72,
          66,
          76,
          46,
          48,
          33,
          46,
          73,
          70,
          75,
          45,
          32,
          41,
          67,
          67,
          69,
          53,
          44,
          67,
          36,
          73,
          41,
          52,
          51,
          49,
          59,
          63,
          53,
          63,
          31,
          49,
          68,
          33,
          52,
          47,
          54,
          53,
          58,
          51,
          68,
          58,
          40,
          35,
          47,
          69,
          55,
          41,
          39,
          60,
          74,
          45,
          36,
          50,
          65,
          53,
          56,
          33,
          69,
          51,
          64,
          35,
          55,
          47,
          52,
          78,
          64,
          61,
          59,
          60,
          53,
          42,
          28,
          53,
          30,
          56,
          50,
          66,
          59,
          78,
          27,
          40,
          47,
          80,
          35,
          32,
          60,
          54,
          57,
          55,
          57,
          41,
          45,
          55,
          39,
          72,
          58,
          52,
          66,
          61,
          57,
          45,
          63,
          66,
          50,
          72,
          77,
          45,
          32,
          62,
          46,
          62,
          77,
          34,
          68,
          63,
          52,
          59,
          54,
          39,
          57,
          72,
          39,
          62,
          41,
          50,
          59,
          66,
          46,
          56,
          66,
          56,
          45,
          72,
          66,
          46,
          61,
          51,
          63,
          48,
          69,
          50,
          73,
          74,
          51,
          44,
          63,
          61,
          47,
          46,
          74,
          51,
          41,
          58,
          42,
          41,
          58,
          54,
          54,
          45,
          49,
          39,
          32,
          52,
          61,
          48,
          43,
          43,
          33,
          35,
          73,
          46,
          61,
          56,
          56,
          66,
          45,
          30,
          43,
          48,
          72,
          48,
          69,
          57,
          69,
          26,
          49,
          52,
          42,
          54,
          33,
          69,
          44,
          34,
          42,
          70,
          63,
          50,
          47,
          64,
          67,
          48,
          77,
          49,
          46,
          35,
          51,
          49,
          41,
          62,
          62,
          67,
          63,
          65,
          41,
          61,
          51,
          67,
          64,
          32,
          38,
          68,
          65,
          49,
          51,
          43,
          38,
          63,
          63,
          54,
          44,
          60,
          55,
          29,
          27,
          61,
          39,
          67,
          28,
          35,
          43,
          39,
          28,
          45,
          47,
          70,
          69,
          50,
          51,
          69,
          38,
          68,
          42,
          46,
          54,
          48,
          33,
          50,
          59,
          62,
          71,
          47,
          43,
          52,
          45,
          67,
          67,
          43,
          65,
          34,
          68,
          69,
          42,
          56,
          57,
          50,
          50,
          52,
          48,
          59,
          61,
          56,
          72,
          36,
          69,
          34,
          63,
          57,
          29,
          43,
          55,
          60,
          40,
          56,
          65,
          51,
          63,
          63,
          48,
          62,
          63,
          35,
          46,
          61,
          47,
          56,
          67,
          38,
          61,
          50,
          53,
          55,
          70,
          45,
          36,
          59,
          57,
          47,
          60,
          27,
          73,
          52,
          31,
          64,
          30,
          51,
          52,
          52,
          49,
          64,
          56,
          66,
          49,
          52,
          30,
          64,
          62,
          50,
          49,
          59,
          74,
          46,
          56,
          69,
          54,
          49,
          58,
          46,
          52,
          38,
          39,
          46,
          63,
          50,
          43,
          38,
          49,
          75,
          50,
          68,
          42,
          56,
          39,
          61,
          65,
          66,
          61,
          53,
          59,
          76,
          59,
          73,
          43,
          39,
          59,
          65,
          28,
          56,
          39,
          59,
          58,
          63,
          63,
          73,
          42,
          49,
          68,
          44,
          49,
          77,
          49,
          36,
          54,
          73,
          75,
          50,
          39,
          48,
          56,
          68,
          52,
          51,
          71,
          69,
          51,
          52,
          63,
          65,
          45,
          45,
          51,
          66,
          33,
          62,
          62,
          33,
          50,
          33,
          56,
          35,
          38,
          50,
          73,
          34,
          46,
          62,
          50,
          60,
          43,
          64,
          56,
          59,
          47,
          45,
          67,
          67,
          64,
          75,
          30,
          74,
          74,
          71,
          34,
          34,
          66,
          50,
          65,
          66,
          44,
          57,
          33,
          56,
          39,
          74,
          76,
          40,
          60,
          44,
          40,
          45,
          51,
          54,
          70,
          35,
          66,
          51,
          43,
          41,
          32,
          38,
          70,
          43,
          35,
          62,
          55,
          38,
          30,
          59,
          60,
          70,
          55,
          63,
          67,
          54,
          58,
          74,
          69,
          75,
          52,
          72,
          49,
          44,
          65,
          39,
          36,
          69,
          37,
          53,
          62,
          42,
          59,
          40,
          45,
          47,
          65,
          52,
          67,
          70,
          35,
          63,
          51,
          68,
          64,
          56,
          46,
          26,
          43,
          37,
          50,
          49,
          55,
          50,
          39,
          44,
          57,
          63,
          70,
          46,
          37,
          50,
          46,
          33,
          32,
          47,
          67,
          76,
          34,
          61,
          51,
          50,
          54,
          49,
          65,
          78,
          62,
          51,
          64,
          74,
          70,
          37,
          37,
          70,
          47,
          70,
          45,
          71,
          31,
          56,
          59,
          74,
          58,
          72,
          43,
          70,
          58,
          74,
          63,
          41,
          46,
          41,
          62,
          55,
          63,
          44,
          63,
          69,
          56,
          74,
          66,
          44,
          51,
          48,
          51,
          74,
          62,
          48,
          45,
          39,
          47,
          70,
          69,
          65,
          38,
          51,
          33,
          29,
          62,
          45,
          28,
          46,
          45,
          46,
          72,
          47,
          51,
          60,
          52,
          69,
          59,
          49,
          35,
          56,
          45,
          72,
          64,
          48,
          64,
          49,
          72,
          67,
          31,
          37,
          56,
          51,
          70,
          66,
          46,
          54,
          61,
          49,
          65,
          64,
          38,
          64,
          64,
          43,
          40,
          26,
          73,
          39,
          65
         ],
         "z": [
          713,
          1202,
          1590,
          507,
          1606,
          1106,
          870,
          1115,
          780,
          1243,
          426,
          1494,
          1336,
          473,
          1647,
          933,
          1345,
          588,
          594,
          924,
          1212,
          462,
          1460,
          1181,
          740,
          1854,
          2053,
          637,
          1088,
          755,
          926,
          999,
          1033,
          785,
          855,
          1683,
          688,
          1609,
          895,
          359,
          1707,
          637,
          554,
          1996,
          983,
          1219,
          805,
          434,
          1326,
          1083,
          1657,
          1269,
          1605,
          917,
          1738,
          1118,
          755,
          875,
          1490,
          1067,
          810,
          1376,
          1065,
          492,
          1180,
          1006,
          987,
          1057,
          1551,
          1060,
          1007,
          700,
          1685,
          1423,
          559,
          1905,
          847,
          1433,
          1610,
          1301,
          1916,
          1391,
          792,
          1076,
          821,
          1170,
          716,
          1416,
          741,
          781,
          741,
          380,
          782,
          1309,
          1695,
          733,
          1003,
          1101,
          1450,
          348,
          574,
          1138,
          1315,
          1527,
          1382,
          614,
          783,
          794,
          1243,
          999,
          1166,
          1494,
          892,
          1929,
          1277,
          1566,
          1196,
          1066,
          1547,
          955,
          702,
          1523,
          977,
          255,
          1442,
          926,
          1230,
          1326,
          1223,
          1276,
          2098,
          1659,
          1097,
          1656,
          892,
          916,
          691,
          1186,
          389,
          915,
          1801,
          1161,
          613,
          1170,
          1250,
          1692,
          655,
          840,
          983,
          1882,
          1632,
          1764,
          948,
          711,
          880,
          1033,
          1740,
          2001,
          681,
          1864,
          1462,
          1628,
          1254,
          1060,
          213,
          972,
          1900,
          1447,
          838,
          1476,
          1867,
          1400,
          758,
          983,
          1643,
          1903,
          1186,
          1022,
          1149,
          104,
          887,
          839,
          1016,
          1683,
          1526,
          891,
          1310,
          1158,
          1063,
          1322,
          2063,
          1496,
          992,
          422,
          1855,
          1083,
          4,
          942,
          782,
          510,
          1193,
          442,
          548,
          751,
          1825,
          1060,
          563,
          1972,
          1710,
          1280,
          968,
          948,
          674,
          527,
          1199,
          1589,
          1243,
          757,
          1204,
          934,
          928,
          1532,
          1256,
          818,
          625,
          473,
          1402,
          1627,
          1029,
          295,
          831,
          1352,
          810,
          1357,
          1686,
          1280,
          505,
          1320,
          589,
          1783,
          1110,
          636,
          1302,
          1158,
          1271,
          1048,
          683,
          718,
          1474,
          997,
          1223,
          664,
          1306,
          487,
          705,
          1720,
          1867,
          1389,
          1601,
          1370,
          779,
          1415,
          977,
          1824,
          507,
          1657,
          999,
          1727,
          1501,
          1113,
          1972,
          1797,
          1197,
          772,
          1408,
          768,
          778,
          1171,
          1394,
          1397,
          1169,
          1939,
          964,
          1900,
          1634,
          1034,
          1579,
          1029,
          1831,
          955,
          1323,
          1080,
          903,
          589,
          853,
          1723,
          890,
          1019,
          2085,
          234,
          930,
          842,
          1670,
          1016,
          1457,
          883,
          1874,
          1142,
          375,
          1816,
          2213,
          1157,
          1669,
          82,
          1435,
          490,
          1861,
          751,
          1352,
          1858,
          1135,
          1167,
          1321,
          1834,
          1001,
          1088,
          800,
          1060,
          1135,
          2262,
          942,
          1180,
          830,
          955,
          497,
          1459,
          881,
          1211,
          1860,
          1210,
          758,
          1219,
          1916,
          388,
          1117,
          1825,
          681,
          819,
          676,
          1674,
          1230,
          514,
          285,
          1107,
          899,
          1855,
          1392,
          708,
          1580,
          887,
          1842,
          1955,
          1301,
          1310,
          1582,
          1344,
          924,
          742,
          987,
          1579,
          391,
          2285,
          1647,
          1405,
          1150,
          873,
          1074,
          1606,
          433,
          955,
          1969,
          1523,
          626,
          1191,
          643,
          1525,
          718,
          666,
          954,
          1463,
          914,
          1443,
          594,
          751,
          486,
          1964,
          1694,
          1698,
          1674,
          1311,
          1214,
          919,
          1834,
          2094,
          1466,
          51,
          2085,
          1088,
          1458,
          1143,
          592,
          1497,
          621,
          1436,
          882,
          1459,
          1024,
          1136,
          1144,
          643,
          1020,
          1301,
          1440,
          1054,
          206,
          1431,
          778,
          1863,
          918,
          219,
          1761,
          1280,
          705,
          716,
          736,
          1610,
          1362,
          563,
          942,
          225,
          1766,
          2052,
          1142,
          1060,
          643,
          1049,
          1406,
          1001,
          2190,
          541,
          1352,
          1373,
          934,
          950,
          1497,
          931,
          785,
          1585,
          1768,
          2343,
          913,
          1331,
          1188,
          756,
          1016,
          1414,
          1244,
          1794,
          1396,
          1052,
          1434,
          870,
          1034,
          1076,
          883,
          1155,
          553,
          489,
          800,
          1083,
          857,
          633,
          787,
          934,
          1202,
          2285,
          1763,
          1052,
          927,
          637,
          1602,
          677,
          1295,
          2093,
          1259,
          1001,
          497,
          1382,
          206,
          1161,
          942,
          778,
          753,
          1317,
          1728,
          1707,
          813,
          1526,
          1443,
          1354,
          2011,
          839,
          1265,
          1382,
          1588,
          1033,
          706,
          1481,
          596,
          2036,
          1380,
          1536,
          1987,
          1806,
          1512,
          883,
          958,
          1242,
          419,
          1476,
          505,
          1052,
          1159,
          1176,
          875,
          641,
          2145,
          478,
          963,
          879,
          1020,
          942,
          1059,
          343,
          1262,
          874,
          855,
          1257,
          753,
          958,
          1847,
          1548,
          835,
          1050,
          1039,
          1238,
          1541,
          844,
          880,
          900,
          369,
          473,
          1191,
          1308,
          1247,
          1193,
          1449,
          894,
          819,
          1431,
          1993,
          887,
          1147,
          963,
          1504,
          1652,
          1584,
          652,
          1916,
          1821,
          744,
          1543,
          12,
          379,
          1212,
          1330,
          1457,
          1632,
          539,
          1541,
          1636,
          1147,
          1207,
          1144,
          328,
          763,
          1386,
          724,
          1147,
          716,
          1216,
          2071,
          1044,
          1510,
          744,
          1606,
          1636,
          1041,
          1282,
          1332,
          1925,
          1866,
          2140,
          1575,
          646,
          823,
          228,
          250,
          698,
          1750,
          1726,
          1566,
          1164,
          1091,
          877,
          718,
          987,
          1188,
          1097,
          1473,
          1084,
          844,
          1584,
          857,
          1060,
          1083,
          735,
          1631,
          643,
          1282,
          494,
          1188,
          895,
          1402,
          293,
          910,
          1067,
          1868,
          1288,
          948,
          1204,
          372,
          1908,
          947,
          1008,
          1363,
          1525,
          1716,
          1245,
          1893,
          6,
          1006,
          753,
          1201,
          1606,
          1390,
          1050,
          1008,
          1046,
          542,
          1070,
          927,
          696,
          1822,
          1722,
          951,
          866,
          1495,
          1006,
          1518,
          1657,
          1328,
          717,
          1543,
          1348,
          1052,
          1345,
          752
         ]
        },
        {
         "hovertemplate": "Income: %{x} <br>Age: %{y} <br>Total_expense: %{z}",
         "marker": {
          "line": {
           "width": 1
          },
          "size": 6
         },
         "mode": "markers",
         "name": "2",
         "type": "scatter3d",
         "x": [
          26646,
          33454,
          30351,
          5648,
          7500,
          17323,
          37760,
          33812,
          37040,
          2447,
          18589,
          38360,
          10979,
          38620,
          23718,
          20559,
          21994,
          7500,
          7500,
          35790,
          27938,
          25721,
          32474,
          28332,
          40246,
          26326,
          29760,
          26304,
          23559,
          38620,
          29440,
          36138,
          23626,
          30096,
          34554,
          24594,
          38557,
          36550,
          30753,
          21918,
          32557,
          19510,
          30992,
          9548,
          33762,
          35860,
          36921,
          23957,
          38547,
          35688,
          34176,
          30523,
          23228,
          26091,
          33456,
          28718,
          38853,
          38285,
          16248,
          30477,
          28249,
          25271,
          32303,
          24882,
          38872,
          31353,
          18890,
          29604,
          30732,
          34320,
          37070,
          38590,
          15033,
          22212,
          23661,
          7500,
          22804,
          31686,
          31160,
          29938,
          26490,
          30899,
          18701,
          15287,
          37717,
          38179,
          38097,
          22070,
          31788,
          29315,
          33378,
          24480,
          37760,
          30631,
          35416,
          32414,
          38361,
          16626,
          29672,
          35388,
          35246,
          39747,
          23976,
          27038,
          12571,
          22574,
          28839,
          30833,
          34421,
          14849,
          27255,
          29999,
          24072,
          33996,
          35178,
          22010,
          30675,
          27190,
          30372,
          33181,
          38643,
          28442,
          37717,
          31615,
          35684,
          29548,
          38578,
          22585,
          30279,
          30822,
          33581,
          19986,
          27421,
          35688,
          36143,
          10245,
          38823,
          15345,
          23442,
          14515,
          31395,
          30507,
          27213,
          30351,
          23616,
          19789,
          37401,
          30096,
          18492,
          10404,
          30015,
          32011,
          7500,
          28691,
          18100,
          30279,
          20130,
          23295,
          24027,
          36230,
          38988,
          33183,
          31880,
          37406,
          38415,
          20518,
          38961,
          37760,
          32233,
          14045,
          28457,
          27203,
          24279,
          34935,
          39665,
          36443,
          26095,
          30630,
          25545,
          32880,
          28567,
          22944,
          25315,
          24683,
          19514,
          27159,
          39548,
          21474,
          22419,
          15315,
          33039,
          29298,
          38200,
          38443,
          38593,
          36959,
          13260,
          27450,
          39453,
          26850,
          24221,
          39684,
          33178,
          17459,
          23910,
          26224,
          31089,
          30081,
          21888,
          26150,
          30801,
          26877,
          18978,
          22574,
          35791,
          30522,
          31632,
          36975,
          13624,
          34487,
          28769,
          32218,
          29103,
          26490,
          19986,
          25965,
          14661,
          18690,
          21063,
          29187,
          26751,
          36145,
          38946,
          13084,
          34824,
          26518,
          35682,
          35178,
          25252,
          33249,
          25851,
          18988,
          7500,
          35946,
          17487,
          34941,
          38702,
          17003,
          33697,
          38829,
          35523,
          31626,
          33622,
          6835,
          36283,
          20587,
          30467,
          31590,
          20425,
          17144,
          16813,
          19329,
          34838,
          26872,
          21359,
          30772,
          22507,
          25804,
          22063,
          22419,
          37859,
          16529,
          25130,
          35441,
          34026,
          40049,
          34176,
          19419,
          15072,
          30843,
          38576,
          37758,
          23228,
          7500,
          38683,
          19485,
          30545,
          21675,
          39922,
          17117,
          24762,
          35797,
          36627,
          31814,
          26868,
          37087,
          21846,
          35641,
          39858,
          34469,
          24401,
          25443,
          32892,
          14906,
          39771,
          27922,
          16927,
          40233,
          33471,
          34596,
          15716,
          35704,
          4861,
          33462,
          35340,
          24884,
          34824,
          26091,
          22434,
          36930,
          36130,
          19514,
          36736,
          30168,
          34053,
          38196,
          32300,
          20180,
          34961,
          28440,
          33564,
          17345,
          28647,
          15038,
          32173,
          31056,
          28071,
          37334,
          37126,
          38998,
          8028,
          34728,
          33168,
          33585,
          35196,
          28764,
          25959,
          27100,
          35860,
          16860,
          22304,
          32892,
          39722,
          26907,
          36715,
          24163,
          39190,
          38578,
          27590,
          38508,
          30023,
          15315,
          16269,
          33569,
          36262,
          22634,
          31605,
          39552,
          16581,
          25930,
          36778,
          10979,
          37155,
          21282,
          33419,
          21255,
          26576,
          7500,
          23091,
          35322,
          14421,
          20130,
          23724,
          33444,
          28510,
          15056,
          26954,
          22327,
          31497,
          15287,
          18351,
          36317,
          33629,
          34377,
          8940,
          26228,
          40211,
          33438,
          22518,
          38452,
          38197,
          28427,
          37395,
          28691,
          25707,
          27683,
          1730,
          7500,
          20427,
          39356,
          35860,
          31454,
          19656,
          38808,
          23748,
          37368,
          37633,
          39767,
          26997,
          33986,
          15759,
          22804,
          34043,
          7500,
          23148,
          27238,
          37235,
          37774,
          18393,
          24711,
          6560,
          27244,
          35876,
          40049,
          39660,
          18929,
          24367,
          33249,
          26887,
          18227,
          38136,
          33316,
          17256,
          37971,
          35791,
          21355,
          20895,
          26907,
          22682,
          38887,
          29791,
          39996,
          26759,
          37716,
          36864,
          36947,
          36957,
          34412,
          22634,
          36026,
          24639,
          34578,
          18690,
          28164,
          34596,
          38741,
          31907,
          27100,
          31163,
          34853,
          31086,
          20491,
          39922,
          33402,
          36408,
          21645,
          32727,
          26290,
          38410,
          16531,
          28072,
          23162,
          34380,
          34704,
          39898,
          19414,
          19107,
          35765,
          32952,
          31163,
          20981,
          33039,
          37787,
          27242,
          37697,
          37401,
          3502,
          28087,
          19740,
          23331,
          23331,
          9255,
          31928,
          30390,
          30983,
          37284,
          37054,
          31859,
          27215,
          39922,
          24645,
          38998,
          27161,
          38201,
          34935,
          34633,
          35860,
          34968,
          31497,
          13724,
          17144,
          36108,
          36663,
          27116,
          12393,
          33955,
          31353,
          28359,
          18793,
          19444,
          36301,
          22775,
          30560,
          35924,
          24594,
          39228,
          22448,
          34213,
          25358,
          35544,
          36634,
          34916,
          33996,
          36732,
          37929,
          20193,
          27573,
          15862,
          33228,
          38232,
          22554,
          23536,
          18169,
          24336,
          18222,
          38452,
          18358,
          9722,
          38175,
          18746,
          35196,
          22108,
          17688,
          38513,
          16653,
          23529,
          18690,
          37244,
          37292,
          28389,
          31859,
          30372,
          16014,
          39763,
          38725,
          13533,
          21955,
          36802,
          28249,
          25509,
          29760,
          28973,
          39435,
          20194,
          34600,
          36075,
          34026,
          37697,
          34074,
          28520,
          36273,
          37070,
          7144,
          18701,
          37758,
          21840,
          32583,
          33316,
          25293,
          22669,
          29236,
          32313,
          27071,
          4023,
          30093,
          25008,
          22280,
          21024,
          11448,
          32889,
          34738,
          30538,
          26642,
          23830,
          33051,
          30396,
          30298,
          31158,
          24882,
          22148,
          29819,
          33235,
          35701,
          31535,
          18929,
          36038,
          20180,
          34230,
          31878,
          22701,
          21059,
          29543,
          34984,
          34242,
          25410,
          28320,
          23763,
          34529,
          36065,
          39898,
          29478,
          39062,
          34600,
          4428,
          32632,
          38236,
          36781,
          31385,
          24570,
          25509,
          21994,
          23477,
          39791,
          13672,
          32644,
          24206,
          28420,
          22979,
          33279,
          30368,
          39146,
          34445,
          37284,
          36790,
          27943,
          22263,
          30261,
          28587,
          32765,
          29672,
          23272,
          7500,
          17649,
          40059,
          38680,
          29009,
          37150,
          32871,
          36927,
          23478,
          38361,
          31761,
          34350,
          25293,
          27889,
          22123,
          27803,
          30828,
          34109,
          22390,
          14796,
          14188,
          20425,
          34587,
          27733,
          25818,
          37509,
          25176,
          33590,
          30992,
          16005,
          20587,
          29435,
          19346,
          35788,
          36997,
          23539,
          29732,
          17148,
          30560,
          32146,
          34176,
          15253,
          31560,
          38946,
          26067,
          26487,
          25224,
          27469,
          8820,
          37085,
          16185,
          18929,
          35893,
          32144,
          14918,
          38054,
          5305,
          36807,
          28427,
          22775,
          40101,
          7500,
          33562,
          24434,
          11012,
          26816,
          34421
         ],
         "y": [
          37,
          36,
          47,
          71,
          45,
          34,
          75,
          36,
          39,
          42,
          52,
          32,
          32,
          58,
          45,
          36,
          64,
          46,
          25,
          44,
          33,
          50,
          54,
          69,
          44,
          45,
          36,
          52,
          48,
          58,
          61,
          51,
          51,
          38,
          62,
          42,
          43,
          43,
          54,
          52,
          54,
          36,
          45,
          45,
          62,
          48,
          56,
          46,
          40,
          48,
          33,
          63,
          37,
          64,
          56,
          39,
          51,
          62,
          33,
          37,
          60,
          38,
          51,
          43,
          33,
          44,
          37,
          33,
          41,
          35,
          55,
          50,
          70,
          46,
          39,
          48,
          50,
          57,
          46,
          36,
          63,
          47,
          57,
          42,
          43,
          55,
          51,
          51,
          38,
          61,
          58,
          40,
          75,
          47,
          72,
          37,
          52,
          50,
          56,
          33,
          63,
          33,
          37,
          55,
          45,
          54,
          65,
          70,
          47,
          45,
          37,
          35,
          38,
          32,
          50,
          38,
          49,
          48,
          50,
          45,
          43,
          43,
          43,
          45,
          37,
          51,
          49,
          51,
          32,
          52,
          52,
          36,
          67,
          48,
          40,
          50,
          72,
          37,
          34,
          41,
          65,
          61,
          49,
          47,
          39,
          46,
          48,
          38,
          39,
          32,
          51,
          50,
          35,
          32,
          75,
          32,
          47,
          62,
          45,
          50,
          49,
          46,
          51,
          41,
          43,
          33,
          48,
          49,
          47,
          52,
          69,
          71,
          31,
          29,
          40,
          60,
          31,
          56,
          34,
          35,
          39,
          40,
          44,
          31,
          53,
          48,
          58,
          32,
          58,
          51,
          43,
          70,
          51,
          53,
          43,
          40,
          51,
          70,
          38,
          50,
          62,
          37,
          44,
          46,
          52,
          43,
          40,
          60,
          35,
          65,
          46,
          52,
          48,
          54,
          56,
          61,
          50,
          43,
          45,
          44,
          44,
          61,
          36,
          63,
          36,
          41,
          65,
          62,
          34,
          53,
          47,
          36,
          66,
          69,
          26,
          72,
          51,
          50,
          35,
          46,
          43,
          37,
          45,
          72,
          32,
          65,
          43,
          46,
          51,
          62,
          40,
          43,
          49,
          64,
          45,
          51,
          49,
          49,
          35,
          61,
          71,
          53,
          70,
          40,
          49,
          45,
          67,
          43,
          49,
          58,
          59,
          37,
          41,
          54,
          71,
          47,
          33,
          40,
          41,
          55,
          48,
          55,
          52,
          34,
          32,
          35,
          42,
          45,
          38,
          43,
          49,
          46,
          46,
          48,
          30,
          47,
          35,
          49,
          52,
          73,
          42,
          32,
          50,
          35,
          44,
          42,
          45,
          46,
          48,
          47,
          33,
          69,
          56,
          42,
          65,
          49,
          26,
          64,
          34,
          67,
          67,
          53,
          58,
          43,
          53,
          50,
          48,
          45,
          48,
          47,
          55,
          43,
          43,
          34,
          63,
          44,
          41,
          63,
          50,
          67,
          30,
          35,
          56,
          55,
          37,
          55,
          51,
          38,
          48,
          60,
          65,
          50,
          68,
          45,
          50,
          51,
          47,
          49,
          39,
          35,
          49,
          51,
          37,
          38,
          38,
          55,
          42,
          59,
          36,
          54,
          53,
          32,
          32,
          43,
          59,
          47,
          35,
          42,
          58,
          53,
          25,
          47,
          42,
          69,
          40,
          63,
          50,
          36,
          59,
          42,
          31,
          56,
          58,
          58,
          35,
          48,
          40,
          63,
          35,
          66,
          35,
          38,
          45,
          32,
          37,
          43,
          50,
          29,
          48,
          45,
          48,
          61,
          51,
          49,
          53,
          46,
          64,
          70,
          70,
          51,
          65,
          50,
          43,
          43,
          36,
          59,
          37,
          44,
          47,
          39,
          39,
          42,
          38,
          69,
          39,
          31,
          39,
          46,
          62,
          34,
          43,
          50,
          29,
          48,
          56,
          36,
          48,
          45,
          48,
          49,
          49,
          47,
          49,
          68,
          64,
          54,
          68,
          31,
          55,
          49,
          48,
          49,
          62,
          51,
          47,
          63,
          49,
          38,
          48,
          48,
          42,
          35,
          38,
          69,
          72,
          42,
          56,
          49,
          47,
          43,
          35,
          51,
          44,
          55,
          67,
          40,
          41,
          31,
          44,
          48,
          44,
          43,
          49,
          51,
          45,
          48,
          48,
          63,
          61,
          33,
          33,
          32,
          32,
          34,
          58,
          46,
          54,
          45,
          60,
          38,
          33,
          67,
          35,
          61,
          29,
          65,
          48,
          41,
          59,
          33,
          61,
          37,
          46,
          60,
          43,
          46,
          44,
          38,
          50,
          39,
          45,
          43,
          45,
          52,
          42,
          61,
          39,
          58,
          74,
          43,
          67,
          53,
          32,
          62,
          36,
          30,
          46,
          42,
          41,
          50,
          66,
          38,
          36,
          40,
          31,
          66,
          32,
          48,
          37,
          29,
          37,
          44,
          42,
          39,
          42,
          56,
          62,
          66,
          38,
          74,
          41,
          50,
          42,
          50,
          66,
          42,
          35,
          41,
          60,
          47,
          36,
          44,
          48,
          42,
          50,
          38,
          71,
          45,
          69,
          61,
          44,
          55,
          55,
          57,
          55,
          38,
          60,
          50,
          52,
          46,
          34,
          39,
          53,
          58,
          31,
          33,
          46,
          45,
          46,
          53,
          37,
          50,
          54,
          34,
          62,
          52,
          36,
          36,
          43,
          38,
          50,
          35,
          62,
          41,
          31,
          40,
          45,
          56,
          44,
          44,
          39,
          53,
          46,
          62,
          48,
          71,
          44,
          45,
          53,
          67,
          45,
          38,
          50,
          52,
          58,
          53,
          42,
          37,
          37,
          47,
          64,
          35,
          50,
          61,
          48,
          51,
          54,
          51,
          55,
          44,
          35,
          40,
          46,
          38,
          54,
          70,
          49,
          43,
          42,
          56,
          68,
          36,
          45,
          37,
          37,
          40,
          50,
          70,
          66,
          56,
          52,
          37,
          42,
          52,
          44,
          61,
          48,
          41,
          50,
          52,
          37,
          49,
          35,
          68,
          40,
          50,
          45,
          45,
          47,
          45,
          41,
          51,
          55,
          47,
          50,
          53,
          64,
          50,
          45,
          45,
          38,
          46,
          29,
          47,
          66,
          47,
          43,
          49,
          74,
          69,
          46,
          31,
          31,
          53,
          67,
          58,
          71,
          45,
          67,
          38,
          43,
          36,
          42,
          58,
          49,
          37,
          35,
          47
         ],
         "z": [
          45,
          145,
          41,
          35,
          44,
          40,
          277,
          70,
          230,
          1728,
          50,
          100,
          24,
          207,
          38,
          46,
          18,
          17,
          50,
          68,
          23,
          13,
          11,
          41,
          11,
          6,
          143,
          12,
          56,
          207,
          49,
          146,
          43,
          31,
          50,
          20,
          114,
          354,
          42,
          25,
          66,
          19,
          38,
          14,
          90,
          27,
          33,
          41,
          17,
          178,
          55,
          8,
          112,
          52,
          28,
          33,
          43,
          9,
          36,
          54,
          19,
          39,
          37,
          44,
          50,
          23,
          18,
          33,
          181,
          17,
          379,
          16,
          15,
          40,
          22,
          30,
          24,
          16,
          50,
          13,
          165,
          32,
          28,
          15,
          19,
          68,
          114,
          44,
          46,
          37,
          82,
          60,
          277,
          45,
          336,
          31,
          115,
          54,
          13,
          21,
          50,
          208,
          38,
          69,
          24,
          35,
          31,
          21,
          19,
          54,
          34,
          144,
          19,
          65,
          39,
          25,
          39,
          14,
          34,
          12,
          38,
          43,
          19,
          31,
          21,
          17,
          67,
          40,
          32,
          27,
          16,
          14,
          229,
          178,
          13,
          24,
          83,
          26,
          16,
          25,
          49,
          213,
          58,
          41,
          40,
          44,
          44,
          31,
          8,
          25,
          49,
          116,
          21,
          30,
          10,
          32,
          16,
          3,
          43,
          54,
          303,
          68,
          12,
          12,
          40,
          15,
          45,
          44,
          213,
          18,
          162,
          40,
          93,
          107,
          184,
          115,
          30,
          42,
          113,
          34,
          38,
          45,
          29,
          28,
          40,
          20,
          32,
          57,
          99,
          39,
          58,
          10,
          16,
          37,
          129,
          62,
          40,
          80,
          53,
          52,
          28,
          60,
          31,
          29,
          53,
          39,
          67,
          38,
          146,
          22,
          32,
          210,
          15,
          35,
          32,
          289,
          48,
          27,
          29,
          94,
          185,
          62,
          39,
          165,
          14,
          56,
          22,
          37,
          41,
          32,
          7,
          153,
          210,
          12,
          19,
          52,
          37,
          39,
          10,
          56,
          38,
          14,
          32,
          11,
          8,
          70,
          61,
          23,
          14,
          83,
          50,
          51,
          65,
          123,
          24,
          15,
          14,
          29,
          24,
          39,
          35,
          53,
          109,
          24,
          37,
          15,
          345,
          37,
          33,
          99,
          33,
          21,
          14,
          37,
          51,
          218,
          55,
          60,
          25,
          26,
          41,
          39,
          39,
          9,
          234,
          10,
          50,
          37,
          119,
          103,
          31,
          46,
          15,
          62,
          9,
          398,
          48,
          141,
          62,
          45,
          328,
          16,
          43,
          35,
          28,
          26,
          48,
          130,
          72,
          16,
          59,
          53,
          5,
          43,
          39,
          16,
          19,
          52,
          30,
          256,
          395,
          40,
          13,
          240,
          91,
          41,
          28,
          99,
          77,
          63,
          64,
          46,
          56,
          42,
          20,
          31,
          243,
          45,
          61,
          49,
          164,
          30,
          118,
          87,
          271,
          11,
          25,
          27,
          27,
          21,
          12,
          43,
          39,
          17,
          328,
          14,
          113,
          67,
          11,
          370,
          34,
          39,
          43,
          39,
          245,
          44,
          118,
          319,
          10,
          11,
          69,
          24,
          56,
          18,
          68,
          56,
          18,
          13,
          46,
          86,
          5,
          16,
          43,
          16,
          68,
          42,
          16,
          19,
          150,
          15,
          22,
          118,
          148,
          87,
          53,
          15,
          61,
          82,
          32,
          70,
          36,
          43,
          27,
          30,
          12,
          294,
          6,
          53,
          9,
          17,
          27,
          39,
          44,
          197,
          53,
          18,
          37,
          412,
          241,
          38,
          14,
          24,
          39,
          28,
          24,
          54,
          35,
          295,
          46,
          48,
          108,
          31,
          112,
          26,
          250,
          63,
          8,
          56,
          20,
          14,
          50,
          115,
          32,
          21,
          32,
          32,
          41,
          17,
          57,
          39,
          20,
          14,
          52,
          145,
          265,
          116,
          120,
          118,
          44,
          40,
          39,
          8,
          37,
          58,
          16,
          42,
          359,
          27,
          26,
          29,
          32,
          18,
          119,
          57,
          17,
          41,
          446,
          50,
          456,
          28,
          42,
          39,
          150,
          34,
          115,
          20,
          25,
          55,
          53,
          26,
          30,
          58,
          85,
          66,
          72,
          44,
          4,
          91,
          31,
          48,
          249,
          18,
          65,
          59,
          117,
          16,
          19,
          15,
          65,
          119,
          16,
          49,
          41,
          256,
          107,
          14,
          27,
          217,
          150,
          16,
          39,
          281,
          27,
          36,
          37,
          253,
          23,
          13,
          40,
          42,
          61,
          14,
          19,
          24,
          20,
          14,
          35,
          88,
          24,
          62,
          302,
          189,
          65,
          39,
          253,
          62,
          214,
          17,
          62,
          83,
          37,
          9,
          14,
          17,
          47,
          70,
          49,
          45,
          147,
          35,
          271,
          23,
          8,
          306,
          58,
          32,
          37,
          30,
          371,
          16,
          29,
          34,
          23,
          145,
          39,
          31,
          30,
          19,
          19,
          83,
          143,
          255,
          89,
          22,
          300,
          88,
          51,
          72,
          187,
          21,
          65,
          379,
          123,
          28,
          39,
          26,
          8,
          115,
          26,
          103,
          81,
          148,
          30,
          7,
          49,
          24,
          10,
          64,
          6,
          45,
          18,
          344,
          32,
          19,
          522,
          21,
          27,
          67,
          44,
          34,
          36,
          63,
          38,
          32,
          63,
          38,
          99,
          19,
          42,
          15,
          33,
          41,
          30,
          14,
          21,
          37,
          34,
          115,
          69,
          115,
          18,
          32,
          300,
          34,
          504,
          78,
          47,
          17,
          135,
          83,
          18,
          110,
          140,
          19,
          383,
          20,
          13,
          72,
          16,
          50,
          141,
          680,
          16,
          35,
          33,
          19,
          13,
          55,
          40,
          13,
          32,
          52,
          39,
          259,
          62,
          37,
          317,
          36,
          67,
          73,
          115,
          56,
          36,
          26,
          18,
          64,
          118,
          44,
          17,
          20,
          31,
          36,
          24,
          20,
          38,
          17,
          110,
          8,
          6,
          38,
          26,
          15,
          114,
          14,
          39,
          67,
          55,
          33,
          42,
          19,
          56,
          24,
          15,
          87,
          210,
          42,
          32,
          36,
          15,
          29,
          58,
          53,
          63,
          181,
          51,
          24,
          44,
          24,
          11,
          43,
          14,
          329,
          24,
          45,
          33,
          60,
          15,
          19
         ]
        }
       ],
       "layout": {
        "autosize": true,
        "font": {
         "color": "black",
         "family": "Gilroy",
         "size": 12
        },
        "height": 800,
        "scene": {
         "xaxis": {
          "title": {
           "font": {
            "color": "black"
           },
           "text": "Income"
          }
         },
         "yaxis": {
          "title": {
           "font": {
            "color": "black"
           },
           "text": "Age"
          }
         },
         "zaxis": {
          "title": {
           "font": {
            "color": "black"
           },
           "text": "Expense"
          }
         }
        },
        "showlegend": true,
        "template": {
         "data": {
          "bar": [
           {
            "error_x": {
             "color": "#2a3f5f"
            },
            "error_y": {
             "color": "#2a3f5f"
            },
            "marker": {
             "line": {
              "color": "#E5ECF6",
              "width": 0.5
             },
             "pattern": {
              "fillmode": "overlay",
              "size": 10,
              "solidity": 0.2
             }
            },
            "type": "bar"
           }
          ],
          "barpolar": [
           {
            "marker": {
             "line": {
              "color": "#E5ECF6",
              "width": 0.5
             },
             "pattern": {
              "fillmode": "overlay",
              "size": 10,
              "solidity": 0.2
             }
            },
            "type": "barpolar"
           }
          ],
          "carpet": [
           {
            "aaxis": {
             "endlinecolor": "#2a3f5f",
             "gridcolor": "white",
             "linecolor": "white",
             "minorgridcolor": "white",
             "startlinecolor": "#2a3f5f"
            },
            "baxis": {
             "endlinecolor": "#2a3f5f",
             "gridcolor": "white",
             "linecolor": "white",
             "minorgridcolor": "white",
             "startlinecolor": "#2a3f5f"
            },
            "type": "carpet"
           }
          ],
          "choropleth": [
           {
            "colorbar": {
             "outlinewidth": 0,
             "ticks": ""
            },
            "type": "choropleth"
           }
          ],
          "contour": [
           {
            "colorbar": {
             "outlinewidth": 0,
             "ticks": ""
            },
            "colorscale": [
             [
              0,
              "#0d0887"
             ],
             [
              0.1111111111111111,
              "#46039f"
             ],
             [
              0.2222222222222222,
              "#7201a8"
             ],
             [
              0.3333333333333333,
              "#9c179e"
             ],
             [
              0.4444444444444444,
              "#bd3786"
             ],
             [
              0.5555555555555556,
              "#d8576b"
             ],
             [
              0.6666666666666666,
              "#ed7953"
             ],
             [
              0.7777777777777778,
              "#fb9f3a"
             ],
             [
              0.8888888888888888,
              "#fdca26"
             ],
             [
              1,
              "#f0f921"
             ]
            ],
            "type": "contour"
           }
          ],
          "contourcarpet": [
           {
            "colorbar": {
             "outlinewidth": 0,
             "ticks": ""
            },
            "type": "contourcarpet"
           }
          ],
          "heatmap": [
           {
            "colorbar": {
             "outlinewidth": 0,
             "ticks": ""
            },
            "colorscale": [
             [
              0,
              "#0d0887"
             ],
             [
              0.1111111111111111,
              "#46039f"
             ],
             [
              0.2222222222222222,
              "#7201a8"
             ],
             [
              0.3333333333333333,
              "#9c179e"
             ],
             [
              0.4444444444444444,
              "#bd3786"
             ],
             [
              0.5555555555555556,
              "#d8576b"
             ],
             [
              0.6666666666666666,
              "#ed7953"
             ],
             [
              0.7777777777777778,
              "#fb9f3a"
             ],
             [
              0.8888888888888888,
              "#fdca26"
             ],
             [
              1,
              "#f0f921"
             ]
            ],
            "type": "heatmap"
           }
          ],
          "heatmapgl": [
           {
            "colorbar": {
             "outlinewidth": 0,
             "ticks": ""
            },
            "colorscale": [
             [
              0,
              "#0d0887"
             ],
             [
              0.1111111111111111,
              "#46039f"
             ],
             [
              0.2222222222222222,
              "#7201a8"
             ],
             [
              0.3333333333333333,
              "#9c179e"
             ],
             [
              0.4444444444444444,
              "#bd3786"
             ],
             [
              0.5555555555555556,
              "#d8576b"
             ],
             [
              0.6666666666666666,
              "#ed7953"
             ],
             [
              0.7777777777777778,
              "#fb9f3a"
             ],
             [
              0.8888888888888888,
              "#fdca26"
             ],
             [
              1,
              "#f0f921"
             ]
            ],
            "type": "heatmapgl"
           }
          ],
          "histogram": [
           {
            "marker": {
             "pattern": {
              "fillmode": "overlay",
              "size": 10,
              "solidity": 0.2
             }
            },
            "type": "histogram"
           }
          ],
          "histogram2d": [
           {
            "colorbar": {
             "outlinewidth": 0,
             "ticks": ""
            },
            "colorscale": [
             [
              0,
              "#0d0887"
             ],
             [
              0.1111111111111111,
              "#46039f"
             ],
             [
              0.2222222222222222,
              "#7201a8"
             ],
             [
              0.3333333333333333,
              "#9c179e"
             ],
             [
              0.4444444444444444,
              "#bd3786"
             ],
             [
              0.5555555555555556,
              "#d8576b"
             ],
             [
              0.6666666666666666,
              "#ed7953"
             ],
             [
              0.7777777777777778,
              "#fb9f3a"
             ],
             [
              0.8888888888888888,
              "#fdca26"
             ],
             [
              1,
              "#f0f921"
             ]
            ],
            "type": "histogram2d"
           }
          ],
          "histogram2dcontour": [
           {
            "colorbar": {
             "outlinewidth": 0,
             "ticks": ""
            },
            "colorscale": [
             [
              0,
              "#0d0887"
             ],
             [
              0.1111111111111111,
              "#46039f"
             ],
             [
              0.2222222222222222,
              "#7201a8"
             ],
             [
              0.3333333333333333,
              "#9c179e"
             ],
             [
              0.4444444444444444,
              "#bd3786"
             ],
             [
              0.5555555555555556,
              "#d8576b"
             ],
             [
              0.6666666666666666,
              "#ed7953"
             ],
             [
              0.7777777777777778,
              "#fb9f3a"
             ],
             [
              0.8888888888888888,
              "#fdca26"
             ],
             [
              1,
              "#f0f921"
             ]
            ],
            "type": "histogram2dcontour"
           }
          ],
          "mesh3d": [
           {
            "colorbar": {
             "outlinewidth": 0,
             "ticks": ""
            },
            "type": "mesh3d"
           }
          ],
          "parcoords": [
           {
            "line": {
             "colorbar": {
              "outlinewidth": 0,
              "ticks": ""
             }
            },
            "type": "parcoords"
           }
          ],
          "pie": [
           {
            "automargin": true,
            "type": "pie"
           }
          ],
          "scatter": [
           {
            "marker": {
             "colorbar": {
              "outlinewidth": 0,
              "ticks": ""
             }
            },
            "type": "scatter"
           }
          ],
          "scatter3d": [
           {
            "line": {
             "colorbar": {
              "outlinewidth": 0,
              "ticks": ""
             }
            },
            "marker": {
             "colorbar": {
              "outlinewidth": 0,
              "ticks": ""
             }
            },
            "type": "scatter3d"
           }
          ],
          "scattercarpet": [
           {
            "marker": {
             "colorbar": {
              "outlinewidth": 0,
              "ticks": ""
             }
            },
            "type": "scattercarpet"
           }
          ],
          "scattergeo": [
           {
            "marker": {
             "colorbar": {
              "outlinewidth": 0,
              "ticks": ""
             }
            },
            "type": "scattergeo"
           }
          ],
          "scattergl": [
           {
            "marker": {
             "colorbar": {
              "outlinewidth": 0,
              "ticks": ""
             }
            },
            "type": "scattergl"
           }
          ],
          "scattermapbox": [
           {
            "marker": {
             "colorbar": {
              "outlinewidth": 0,
              "ticks": ""
             }
            },
            "type": "scattermapbox"
           }
          ],
          "scatterpolar": [
           {
            "marker": {
             "colorbar": {
              "outlinewidth": 0,
              "ticks": ""
             }
            },
            "type": "scatterpolar"
           }
          ],
          "scatterpolargl": [
           {
            "marker": {
             "colorbar": {
              "outlinewidth": 0,
              "ticks": ""
             }
            },
            "type": "scatterpolargl"
           }
          ],
          "scatterternary": [
           {
            "marker": {
             "colorbar": {
              "outlinewidth": 0,
              "ticks": ""
             }
            },
            "type": "scatterternary"
           }
          ],
          "surface": [
           {
            "colorbar": {
             "outlinewidth": 0,
             "ticks": ""
            },
            "colorscale": [
             [
              0,
              "#0d0887"
             ],
             [
              0.1111111111111111,
              "#46039f"
             ],
             [
              0.2222222222222222,
              "#7201a8"
             ],
             [
              0.3333333333333333,
              "#9c179e"
             ],
             [
              0.4444444444444444,
              "#bd3786"
             ],
             [
              0.5555555555555556,
              "#d8576b"
             ],
             [
              0.6666666666666666,
              "#ed7953"
             ],
             [
              0.7777777777777778,
              "#fb9f3a"
             ],
             [
              0.8888888888888888,
              "#fdca26"
             ],
             [
              1,
              "#f0f921"
             ]
            ],
            "type": "surface"
           }
          ],
          "table": [
           {
            "cells": {
             "fill": {
              "color": "#EBF0F8"
             },
             "line": {
              "color": "white"
             }
            },
            "header": {
             "fill": {
              "color": "#C8D4E3"
             },
             "line": {
              "color": "white"
             }
            },
            "type": "table"
           }
          ]
         },
         "layout": {
          "annotationdefaults": {
           "arrowcolor": "#2a3f5f",
           "arrowhead": 0,
           "arrowwidth": 1
          },
          "autotypenumbers": "strict",
          "coloraxis": {
           "colorbar": {
            "outlinewidth": 0,
            "ticks": ""
           }
          },
          "colorscale": {
           "diverging": [
            [
             0,
             "#8e0152"
            ],
            [
             0.1,
             "#c51b7d"
            ],
            [
             0.2,
             "#de77ae"
            ],
            [
             0.3,
             "#f1b6da"
            ],
            [
             0.4,
             "#fde0ef"
            ],
            [
             0.5,
             "#f7f7f7"
            ],
            [
             0.6,
             "#e6f5d0"
            ],
            [
             0.7,
             "#b8e186"
            ],
            [
             0.8,
             "#7fbc41"
            ],
            [
             0.9,
             "#4d9221"
            ],
            [
             1,
             "#276419"
            ]
           ],
           "sequential": [
            [
             0,
             "#0d0887"
            ],
            [
             0.1111111111111111,
             "#46039f"
            ],
            [
             0.2222222222222222,
             "#7201a8"
            ],
            [
             0.3333333333333333,
             "#9c179e"
            ],
            [
             0.4444444444444444,
             "#bd3786"
            ],
            [
             0.5555555555555556,
             "#d8576b"
            ],
            [
             0.6666666666666666,
             "#ed7953"
            ],
            [
             0.7777777777777778,
             "#fb9f3a"
            ],
            [
             0.8888888888888888,
             "#fdca26"
            ],
            [
             1,
             "#f0f921"
            ]
           ],
           "sequentialminus": [
            [
             0,
             "#0d0887"
            ],
            [
             0.1111111111111111,
             "#46039f"
            ],
            [
             0.2222222222222222,
             "#7201a8"
            ],
            [
             0.3333333333333333,
             "#9c179e"
            ],
            [
             0.4444444444444444,
             "#bd3786"
            ],
            [
             0.5555555555555556,
             "#d8576b"
            ],
            [
             0.6666666666666666,
             "#ed7953"
            ],
            [
             0.7777777777777778,
             "#fb9f3a"
            ],
            [
             0.8888888888888888,
             "#fdca26"
            ],
            [
             1,
             "#f0f921"
            ]
           ]
          },
          "colorway": [
           "#636efa",
           "#EF553B",
           "#00cc96",
           "#ab63fa",
           "#FFA15A",
           "#19d3f3",
           "#FF6692",
           "#B6E880",
           "#FF97FF",
           "#FECB52"
          ],
          "font": {
           "color": "#2a3f5f"
          },
          "geo": {
           "bgcolor": "white",
           "lakecolor": "white",
           "landcolor": "#E5ECF6",
           "showlakes": true,
           "showland": true,
           "subunitcolor": "white"
          },
          "hoverlabel": {
           "align": "left"
          },
          "hovermode": "closest",
          "mapbox": {
           "style": "light"
          },
          "paper_bgcolor": "white",
          "plot_bgcolor": "#E5ECF6",
          "polar": {
           "angularaxis": {
            "gridcolor": "white",
            "linecolor": "white",
            "ticks": ""
           },
           "bgcolor": "#E5ECF6",
           "radialaxis": {
            "gridcolor": "white",
            "linecolor": "white",
            "ticks": ""
           }
          },
          "scene": {
           "xaxis": {
            "backgroundcolor": "#E5ECF6",
            "gridcolor": "white",
            "gridwidth": 2,
            "linecolor": "white",
            "showbackground": true,
            "ticks": "",
            "zerolinecolor": "white"
           },
           "yaxis": {
            "backgroundcolor": "#E5ECF6",
            "gridcolor": "white",
            "gridwidth": 2,
            "linecolor": "white",
            "showbackground": true,
            "ticks": "",
            "zerolinecolor": "white"
           },
           "zaxis": {
            "backgroundcolor": "#E5ECF6",
            "gridcolor": "white",
            "gridwidth": 2,
            "linecolor": "white",
            "showbackground": true,
            "ticks": "",
            "zerolinecolor": "white"
           }
          },
          "shapedefaults": {
           "line": {
            "color": "#2a3f5f"
           }
          },
          "ternary": {
           "aaxis": {
            "gridcolor": "white",
            "linecolor": "white",
            "ticks": ""
           },
           "baxis": {
            "gridcolor": "white",
            "linecolor": "white",
            "ticks": ""
           },
           "bgcolor": "#E5ECF6",
           "caxis": {
            "gridcolor": "white",
            "linecolor": "white",
            "ticks": ""
           }
          },
          "title": {
           "x": 0.05
          },
          "xaxis": {
           "automargin": true,
           "gridcolor": "white",
           "linecolor": "white",
           "ticks": "",
           "title": {
            "standoff": 15
           },
           "zerolinecolor": "white",
           "zerolinewidth": 2
          },
          "yaxis": {
           "automargin": true,
           "gridcolor": "white",
           "linecolor": "white",
           "ticks": "",
           "title": {
            "standoff": 15
           },
           "zerolinecolor": "white",
           "zerolinewidth": 2
          }
         }
        },
        "width": 800
       }
      },
      "text/html": [
       "<div>                            <div id=\"9b360baf-bec5-4442-8d7d-0aa1ae9f4c37\" class=\"plotly-graph-div\" style=\"height:800px; width:800px;\"></div>            <script type=\"text/javascript\">                require([\"plotly\"], function(Plotly) {                    window.PLOTLYENV=window.PLOTLYENV || {};                                    if (document.getElementById(\"9b360baf-bec5-4442-8d7d-0aa1ae9f4c37\")) {                    Plotly.newPlot(                        \"9b360baf-bec5-4442-8d7d-0aa1ae9f4c37\",                        [{\"hovertemplate\":\"Income: %{x} <br>Age: %{y} <br>Total_expense: %{z}\",\"marker\":{\"line\":{\"width\":1},\"size\":6},\"mode\":\"markers\",\"name\":\"0\",\"type\":\"scatter3d\",\"x\":[58138.0,46344.0,58293.0,62513.0,55635.0,63033.0,59354.0,41850.0,58607.0,40689.0,53359.0,40548.0,46610.0,49389.0,42429.0,48948.0,41728.0,55954.0,61823.0,60631.0,56046.0,50388.0,54178.0,42394.0,47916.0,51813.0,50150.0,47823.0,49096.0,52413.0,57288.0,43974.0,50785.0,56129.0,54348.0,62998.0,61331.0,41551.0,62981.0,41883.0,59809.0,49605.0,59354.0,46344.0,61010.0,49967.0,60199.0,55375.0,43482.0,62551.0,52332.0,50447.0,53537.0,52074.0,51650.0,61286.0,45759.0,51148.0,46854.0,63693.0,40637.0,48721.0,44794.0,64497.0,46097.0,44377.0,46014.0,41443.0,52195.0,44551.0,45204.0,63887.0,42011.0,51369.0,51537.0,62745.0,61074.0,63342.0,45989.0,40737.0,44159.0,43776.0,61905.0,60714.0,63841.0,51369.0,44319.0,50898.0,55951.0,42386.0,57912.0,58821.0,46377.0,64100.0,42670.0,54198.0,40321.0,47025.0,64325.0,40464.0,62187.0,54432.0,62204.0,41411.0,55212.0,59292.0,44300.0,60000.0,50737.0,46681.0,62187.0,51479.0,54803.0,52614.0,48178.0,63810.0,46098.0,43795.0,63381.0,62499.0,51012.0,43824.0,42373.0,55521.0,48006.0,50437.0,53858.0,46923.0,49505.0,48686.0,61314.0,42387.0,50943.0,51529.0,56223.0,42618.0,55707.0,57959.0,56796.0,42207.0,50300.0,60597.0,50520.0,53790.0,49269.0,61456.0,56937.0,62503.0,41644.0,55842.0,62010.0,41124.0,43057.0,60093.0,46310.0,58308.0,55614.0,59432.0,55563.0,48330.0,64355.0,50943.0,53653.0,61250.0,60152.0,48920.0,44124.0,42691.0,50353.0,61839.0,49154.0,47682.0,57954.0,47352.0,44931.0,57247.0,43638.0,42710.0,54058.0,47850.0,60504.0,43462.0,54880.0,62466.0,48799.0,52157.0,47691.0,44989.0,64413.0,61996.0,51287.0,47472.0,54603.0,45207.0,40689.0,47821.0,61794.0,53863.0,59973.0,42169.0,62807.0,61467.0,49618.0,42429.0,45006.0,48240.0,45837.0,54162.0,54456.0,62466.0,46102.0,56181.0,63120.0,63381.0,62859.0,45906.0,46463.0,55282.0,50616.0,49431.0,61278.0,46734.0,56253.0,58330.0,45068.0,54690.0,59304.0,59247.0,52614.0,41039.0,50611.0,61209.0,42315.0,47570.0,61923.0,45938.0,41335.0,43185.0,55250.0,58398.0,50272.0,58710.0,45160.0,59111.0,44794.0,56962.0,53593.0,45072.0,62882.0,64108.0,48767.0,63564.0,51518.0,58330.0,63855.0,62220.0,58512.0,40662.0,48726.0,46891.0,62058.0,42720.0,41452.0,40760.0,51124.0,42564.0,43783.0,40780.0,62847.0,51267.0,46524.0,45183.0,60161.0,61872.0,46984.0,48192.0,49681.0,56850.0,55267.0,59666.0,52750.0,57091.0,55412.0,48789.0,56575.0,49494.0,45889.0,56628.0,61618.0,55284.0,49980.0,49166.0,46374.0,60474.0,55357.0,44602.0,49514.0,57906.0,43456.0,53172.0,62450.0,42395.0,61346.0,42835.0,51111.0,46231.0,42243.0,51195.0,51390.0,48948.0,55260.0,64090.0,54137.0,57100.0,58917.0,45684.0,47889.0,45921.0,52278.0,62820.0,42607.0,46015.0,46107.0,55239.0,60554.0,56067.0,51563.0,57937.0,52190.0,44051.0,42767.0,46106.0,59754.0,53700.0,59041.0,54237.0,52597.0,41021.0,50183.0,54753.0,44010.0,40706.0,59052.0,56962.0,53103.0,46779.0,63693.0,42021.0,64449.0,52845.0,46086.0,56337.0,49187.0,59412.0,54165.0,64504.0,56320.0,46423.0,47703.0,61180.0,44529.0,42557.0,53312.0,62845.0,42000.0,64176.0,59925.0,46610.0,50014.0,41014.0,40479.0,54233.0,43776.0,57236.0,61825.0,56775.0,54210.0,53187.0,50870.0,54466.0,47025.0,52034.0,48526.0,46734.0,46931.0,63998.0,42693.0,49669.0,49678.0,56129.0,63285.0,42162.0,54450.0,57744.0,57513.0,54197.0,46049.0,56715.0,57304.0,44375.0,54450.0,59594.0,40344.0,62710.0,48985.0,47353.0,54386.0,48070.0,43140.0,54959.0,44393.0,62000.0,45894.0,58401.0,62307.0,43641.0,63841.0,46891.0,59184.0,54809.0,58113.0,51412.0,50965.0,40451.0,42213.0,56721.0,42160.0,61559.0,61284.0,54730.0,44421.0,41986.0,55249.0,44213.0,59062.0,40521.0,55158.0,62972.0,47139.0,53378.0,45579.0,55956.0,64191.0,57183.0,40800.0,46149.0,49118.0,57091.0,46831.0,52531.0,43050.0,42997.0,48918.0,60033.0,57811.0,44267.0,60894.0,50200.0,59868.0,45143.0,59060.0,47009.0,46094.0,40321.0,46692.0,45503.0,48752.0,51948.0,50127.0,43263.0,62845.0,50150.0,62061.0,62159.0,58554.0,53034.0,52203.0,59601.0,47025.0,41335.0,57338.0,50523.0,50611.0,56242.0,48904.0,56243.0,57420.0,46390.0,54342.0,44964.0,53761.0,41658.0,63915.0,63841.0,51039.0,60544.0,44511.0,47352.0,57045.0,43142.0,57537.0,51315.0,63810.0,54132.0,43269.0,60544.0,42523.0,51876.0,52852.0,46053.0,40304.0,43300.0,57957.0,46015.0,49476.0,50725.0,41145.0,59892.0,41020.0,57072.0,60474.0,62807.0,64014.0,49854.0,60585.0,42873.0,57867.0,53374.0,53253.0,42014.0,54108.0,49667.0,63206.0,57136.0,46772.0,53977.0,46098.0,51766.0,55759.0,58597.0,57036.0,53083.0,46098.0,59235.0,51411.0,51983.0,42386.0,57530.0,63943.0,47175.0,49681.0,44322.0,47958.0,63972.0,55517.0,42014.0,45203.0,60482.0,45903.0,40442.0,61482.0,45143.0,52569.0,48432.0,53843.0,44512.0,54072.0,51250.0,60432.0,64509.0,55434.0,57100.0,52973.0,51717.0,50664.0,54414.0,54549.0,47111.0,41003.0,42731.0,52854.0,46681.0,59821.0,50002.0,44078.0,64140.0,56386.0,58494.0,58684.0,57136.0,56551.0,62670.0,50334.0,50729.0,43602.0,41473.0,63246.0,49544.0,49413.0,42231.0,56534.0,58350.0,49090.0,61787.0,62335.0,42033.0,41437.0,61064.0,55012.0,58656.0,52117.0,54222.0,41154.0,60230.0,44392.0,55424.0,42586.0,46910.0,54984.0,42403.0,55761.0,45576.0,58086.0,63342.0,44989.0,51569.0,41120.0,62905.0,59481.0,47808.0,51012.0,42664.0,42586.0,42473.0,46904.0,49094.0,60839.0,48918.0,62535.0,63404.0,59385.0,44689.0,53977.0,63159.0,46757.0,63207.0,58582.0,50387.0,62568.0,44635.0,63967.0,52513.0,54111.0,44911.0,54693.0,48186.0,54809.0,41580.0,47743.0,62972.0,57333.0,57705.0,64260.0,58217.0,54006.0,61825.0,60208.0,44503.0,60200.0,49638.0,50616.0,62772.0,52413.0,44155.0,42081.0,61671.0,49160.0,59292.0,45759.0,45688.0,62820.0,60491.0,52278.0,57107.0,55212.0,62694.0,61917.0,54998.0,54356.0,63211.0,51141.0,56939.0,61798.0,46998.0,56551.0,44359.0,40887.0,48877.0,64474.0,55686.0,40794.0,54690.0,58646.0,53201.0,57113.0,51373.0,58116.0,56559.0,46423.0,63684.0,41638.0,43815.0,48195.0,49912.0,55914.0,60905.0,60689.0,61416.0,49767.0,45057.0,43020.0,53154.0,55801.0,48794.0,59462.0,42554.0,42192.0,54591.0,42000.0,51651.0,56796.0,53367.0,49912.0,48699.0,54252.0,53204.0,58646.0,48150.0,58275.0,44953.0,43018.0,45736.0,43586.0,53230.0,50116.0,61286.0,58692.0,40590.0,62637.0,41275.0,63516.0,42769.0,49572.0,40590.0,41713.0,58482.0,59686.0,60896.0,62994.0,47320.0,41967.0,60934.0,48432.0,52914.0,44325.0,42523.0,53233.0,40851.0,43322.0,55593.0,50501.0,57731.0,48432.0,61014.0,45146.0,41769.0,58025.0,57642.0,58554.0,63777.0,57967.0,44802.0,61223.0,64014.0,56981.0,52869.0],\"y\":[64,67,40,54,50,62,69,41,72,70,45,51,69,70,48,78,53,53,69,46,56,64,54,49,61,49,38,61,57,52,58,41,59,68,68,69,63,57,54,33,45,55,68,49,69,63,43,44,55,68,62,51,62,54,45,55,57,48,48,43,56,58,55,67,65,53,47,44,43,67,33,59,43,45,69,56,63,60,57,64,51,69,46,65,53,45,46,65,69,35,56,65,43,57,29,55,49,56,60,68,64,71,61,35,52,71,56,45,66,73,52,54,52,46,46,55,46,53,61,42,75,50,47,66,56,58,45,34,50,68,53,32,65,72,73,49,68,66,52,37,69,57,63,70,50,46,40,65,49,44,49,44,46,47,45,57,77,59,43,60,36,65,68,62,42,57,75,30,44,57,61,46,44,70,54,69,52,37,45,41,50,69,43,51,58,71,42,47,51,44,53,55,65,47,70,54,60,66,49,52,61,73,55,48,77,52,47,43,60,51,59,59,71,61,62,57,50,51,71,66,68,55,58,46,47,50,57,59,46,39,61,51,63,72,60,60,53,70,56,68,39,51,63,67,55,56,68,73,52,68,71,67,63,46,43,49,57,42,66,56,65,56,68,56,66,53,43,45,76,43,60,59,56,51,65,63,45,50,64,49,66,60,45,29,54,49,41,44,30,65,58,47,47,42,36,52,46,48,55,43,62,40,43,50,40,68,62,59,56,78,49,65,51,48,52,50,47,35,58,67,67,66,32,50,46,59,34,39,45,48,50,45,56,69,48,64,59,52,41,62,41,53,62,56,67,61,43,40,32,48,65,40,45,70,52,68,54,49,68,62,55,47,70,72,34,56,66,63,53,43,39,44,38,56,42,42,42,51,69,48,43,48,42,67,44,69,43,47,60,68,76,40,65,67,78,61,45,47,70,56,65,56,47,49,53,61,40,71,64,60,56,69,47,61,69,52,53,56,60,44,62,63,65,64,64,49,46,56,66,46,50,43,65,69,54,53,51,66,69,58,73,77,58,55,57,46,50,49,52,50,48,44,58,67,55,51,55,45,49,56,32,56,48,49,63,46,52,46,59,44,72,38,45,75,53,47,71,44,45,53,46,61,61,52,61,46,50,66,65,41,49,46,65,53,52,60,51,70,71,52,42,73,55,52,49,60,57,63,64,49,54,50,62,66,58,68,71,51,34,60,42,61,75,49,50,71,43,52,46,44,48,66,47,49,46,63,46,41,59,45,46,63,46,54,68,57,35,70,65,59,45,36,69,57,71,44,39,45,55,69,56,56,54,48,56,61,58,31,48,31,37,34,65,56,62,58,69,50,58,52,62,73,66,67,52,57,40,47,40,54,71,67,49,63,55,36,54,45,69,52,53,50,70,34,69,50,64,45,48,65,56,48,43,65,47,45,66,57,62,50,57,76,52,60,47,72,53,57,46,46,75,54,66,45,54,48,42,58,66,57,70,70,63,47,58,29,39,65,59,50,53,43,56,62,59,47,44,43,64,66,67,55,60,70,36,42,48,49,73,69,53,52,37,64,39,53,72,71,57,53,67,50,58,53,52,56,47,65,72,39,81,45,57,65,71,43,69,55,49,55,46,50,59,46,43,30,65,46,49,51,57,39,65,72,46,71,70,39,30,42,51,62,46,68,71,43,73,72,34,61,52,47,72,71,65,45,59,72,66,40,47,67,41,65,64,55,56,52,67,61,48,59,63,52,57,66,56,57,41,64,40,46,48,50,49,57,64,50,47,48,67,52,48,41,58,66,42,51,53,42,59,51,54,75,40,67],\"z\":[1441,20,380,660,514,960,291,79,953,339,210,117,237,61,63,811,37,475,701,636,641,335,187,27,531,60,338,61,179,747,548,479,86,540,86,316,586,256,1438,180,787,99,433,318,945,291,18,120,57,373,257,118,87,71,179,482,64,294,183,1009,35,259,61,1580,229,254,488,374,16,219,95,1142,149,383,1011,1075,922,1070,286,15,255,253,216,703,770,383,34,610,1321,85,881,700,87,536,222,216,75,19,1222,566,1112,38,761,118,1148,479,39,1265,89,368,595,421,524,943,214,1258,84,382,796,205,176,151,136,442,37,477,739,285,723,19,664,489,40,445,152,177,327,811,917,202,242,811,120,532,824,1107,890,781,29,490,438,387,259,639,290,770,656,632,41,32,1254,40,1092,645,794,331,339,283,376,1758,313,403,484,304,89,172,163,301,500,112,488,219,632,685,301,223,17,253,249,1206,152,67,221,213,339,31,553,439,348,28,699,540,113,63,256,792,332,27,389,685,15,301,1367,796,1270,339,213,212,57,348,144,146,581,815,17,171,987,477,943,361,489,809,179,88,117,524,168,601,837,526,221,889,18,686,61,382,437,252,1217,1057,53,1116,441,815,801,1202,1019,65,183,107,392,516,16,87,38,597,486,340,1475,256,111,294,886,530,32,1439,437,56,357,877,722,540,54,530,516,297,37,573,1095,694,172,258,429,1001,638,258,263,383,379,341,891,142,831,488,47,246,50,482,295,811,897,611,182,310,247,21,58,184,1024,862,271,40,83,649,781,599,1214,502,59,150,88,40,190,570,88,304,536,36,206,538,542,74,403,382,890,16,1009,541,700,831,291,537,115,352,219,1206,542,84,506,462,659,250,253,1144,559,1561,689,332,344,17,15,839,19,116,367,867,313,250,61,16,601,246,106,278,61,1023,38,289,293,540,931,114,633,392,1010,211,482,839,903,253,633,490,216,566,60,213,424,476,224,1208,48,1000,36,38,144,114,770,107,855,139,596,176,650,39,340,208,105,482,759,342,181,48,119,141,62,17,384,395,58,655,181,952,772,540,59,335,1012,492,40,597,65,9,61,139,703,256,778,331,1030,292,222,348,37,75,297,151,301,240,299,329,1144,338,732,535,498,386,803,767,389,168,212,83,489,875,331,386,298,175,139,39,247,39,774,770,308,249,699,304,424,15,437,151,1258,39,18,249,64,256,832,177,54,148,603,40,558,528,12,86,174,1004,1001,699,436,350,673,252,572,1020,302,371,644,1344,894,441,840,801,84,204,770,684,1452,258,84,1037,17,756,85,84,988,219,437,89,382,1245,591,371,115,469,53,134,190,292,88,379,485,30,39,638,387,1620,737,283,944,116,431,167,224,939,469,218,115,368,699,540,37,1520,505,377,721,1040,120,741,544,440,46,64,743,381,256,32,769,841,588,1186,676,18,31,855,647,1184,259,245,59,946,170,717,252,62,349,34,149,106,777,1070,253,433,49,456,337,152,176,24,252,115,213,425,972,61,301,841,145,23,801,1674,970,1263,644,477,857,65,685,729,335,183,868,178,139,89,243,395,1428,442,1544,85,460,367,597,40,653,34,144,830,382,32,349,704,211,479,64,297,862,933,1024,279,1148,567,88,417,775,1002,151,483,442,344,120,41,108,120,644,909,361,171,113,388,219,250,381,422,84,1291,350,57,253,783,927,337,609,1526,501,47,155,150,428,39,884,41,87,486,559,335,917,386,783,39,216,39,113,217,508,889,63,391,116,482,64,482,377,210,168,50,281,87,52,210,139,717,227,1502,288,380,37,726,379,338,537,64,40,31,121,436,348,652,379,1075,38,494,400,652,498,583,377,1019,976,436,1205,150]},{\"hovertemplate\":\"Income: %{x} <br>Age: %{y} <br>Total_expense: %{z}\",\"marker\":{\"line\":{\"width\":1},\"size\":6},\"mode\":\"markers\",\"name\":\"1\",\"type\":\"scatter3d\",\"x\":[71613.0,82800.0,76995.0,65324.0,84618.0,68657.0,67353.0,80011.0,79941.0,72550.0,65486.0,79143.0,82582.0,66373.0,82384.0,70287.0,75777.0,66653.0,67680.0,70666.0,88194.0,69096.0,74854.0,66991.0,65031.0,75251.0,75825.0,81361.0,79593.0,78497.0,85693.0,65846.0,87195.0,89058.0,77298.0,68126.0,86037.0,90765.0,101970.0,71488.0,79607.0,77376.0,73448.0,92859.0,65104.0,86111.0,68352.0,65747.0,69372.0,80317.0,70356.0,74165.0,157243.0,66951.0,80427.0,83837.0,78497.0,66835.0,74068.0,66973.0,69661.0,80067.0,86718.0,69142.0,75922.0,102160.0,77972.0,70951.0,83790.0,69508.0,72460.0,77622.0,79930.0,81975.0,79761.0,73455.0,64961.0,73687.0,80134.0,75027.0,67546.0,65176.0,102692.0,75702.0,69674.0,80124.0,72940.0,69267.0,66313.0,77882.0,69867.0,65640.0,75278.0,79946.0,82497.0,68627.0,80950.0,77457.0,70893.0,66503.0,64795.0,66334.0,75693.0,83003.0,68655.0,82623.0,84835.0,71113.0,71952.0,69759.0,72099.0,68462.0,65073.0,78618.0,79530.0,72025.0,66426.0,83664.0,90300.0,74293.0,70777.0,68682.0,75276.0,65808.0,66465.0,75072.0,75865.0,80134.0,91065.0,82584.0,93027.0,92910.0,75433.0,84865.0,67309.0,75236.0,67272.0,81246.0,70829.0,65991.0,89572.0,66664.0,70165.0,80124.0,66582.0,75261.0,83151.0,78825.0,65104.0,78952.0,76005.0,78642.0,67911.0,65275.0,65665.0,81217.0,89120.0,81169.0,71367.0,80184.0,73454.0,70503.0,77863.0,72679.0,65316.0,76982.0,84169.0,85620.0,81698.0,79908.0,87771.0,81741.0,71499.0,66565.0,79800.0,92163.0,69882.0,72906.0,81168.0,162397.0,72298.0,72635.0,84196.0,70971.0,69084.0,65488.0,83917.0,84574.0,73691.0,76140.0,77632.0,105471.0,78710.0,66886.0,98777.0,67445.0,153924.0,73059.0,66731.0,77353.0,81300.0,70337.0,65295.0,68118.0,68743.0,65777.0,66476.0,86857.0,160803.0,77845.0,69476.0,78468.0,78901.0,71427.0,71022.0,90247.0,71952.0,66375.0,76618.0,87305.0,74806.0,72190.0,80395.0,75012.0,89891.0,66373.0,89694.0,72025.0,67432.0,70545.0,82224.0,83844.0,71163.0,83443.0,80952.0,75507.0,79146.0,78285.0,75127.0,74985.0,67430.0,72063.0,78939.0,74250.0,72258.0,71466.0,82017.0,70421.0,73926.0,82716.0,72504.0,73170.0,91820.0,65968.0,65685.0,76412.0,87771.0,78353.0,93404.0,80995.0,71391.0,81702.0,82504.0,81205.0,65324.0,82347.0,85710.0,70123.0,80812.0,86424.0,86857.0,82072.0,68092.0,76630.0,78331.0,81320.0,66825.0,85072.0,86429.0,78420.0,75114.0,95529.0,73113.0,84169.0,74637.0,72354.0,83033.0,77583.0,74116.0,74293.0,68397.0,79632.0,64950.0,75127.0,71796.0,67536.0,64831.0,82025.0,94384.0,68274.0,67893.0,70647.0,92955.0,84219.0,80573.0,83715.0,82576.0,80763.0,65352.0,82170.0,75759.0,79689.0,85683.0,64587.0,75437.0,78028.0,95169.0,65569.0,83844.0,77568.0,70924.0,68316.0,74538.0,91700.0,68695.0,79593.0,76081.0,77037.0,70924.0,69098.0,70596.0,72228.0,67605.0,65196.0,65526.0,83528.0,67023.0,70713.0,88347.0,87171.0,66294.0,79456.0,75345.0,84460.0,71691.0,85844.0,71367.0,79803.0,80910.0,83829.0,76045.0,65463.0,66480.0,76773.0,81698.0,98777.0,71819.0,70566.0,86358.0,67381.0,85606.0,72903.0,85696.0,68142.0,83145.0,79410.0,80685.0,77142.0,81657.0,74214.0,66726.0,90638.0,78579.0,67369.0,70091.0,78075.0,66636.0,84618.0,65748.0,77044.0,74918.0,68682.0,77297.0,75032.0,64722.0,84906.0,76624.0,66000.0,65106.0,69969.0,67433.0,77766.0,74716.0,68118.0,74190.0,76653.0,90687.0,73450.0,83829.0,85485.0,66303.0,71847.0,78687.0,83151.0,78569.0,157733.0,94384.0,71626.0,81051.0,65169.0,65695.0,64857.0,74805.0,81843.0,77382.0,72828.0,71604.0,71434.0,90842.0,88097.0,71853.0,85696.0,76542.0,70515.0,69139.0,69109.0,69627.0,80695.0,75154.0,67267.0,92344.0,75507.0,65685.0,67087.0,69389.0,80134.0,80589.0,65704.0,92533.0,70844.0,78427.0,82657.0,78041.0,70038.0,69401.0,77343.0,73892.0,68695.0,93790.0,64866.0,83844.0,67419.0,94871.0,65148.0,64857.0,75484.0,70379.0,79419.0,76998.0,87679.0,65492.0,71706.0,68487.0,78931.0,84219.0,73538.0,79529.0,87188.0,69930.0,82032.0,74004.0,69283.0,67786.0,71969.0,74881.0,65819.0,66033.0,76800.0,76081.0,67445.0,70179.0,79865.0,75315.0,75283.0,82800.0,90638.0,81574.0,78093.0,82460.0,81361.0,75794.0,74268.0,76445.0,90226.0,70638.0,71855.0,65526.0,68655.0,69139.0,66664.0,73059.0,69755.0,75774.0,82014.0,157146.0,72066.0,64892.0,69084.0,77766.0,86610.0,80141.0,72635.0,69016.0,70440.0,78789.0,81217.0,86580.0,73705.0,64813.0,83512.0,77520.0,80398.0,92491.0,90273.0,82571.0,74881.0,71107.0,82427.0,75342.0,70044.0,79146.0,77437.0,70321.0,81795.0,66835.0,69901.0,80360.0,77981.0,72117.0,67131.0,71853.0,70596.0,85431.0,65370.0,64590.0,71232.0,77298.0,82122.0,75774.0,78416.0,75702.0,90369.0,79734.0,72071.0,72282.0,78394.0,80739.0,80336.0,84953.0,68148.0,65735.0,86836.0,83257.0,72159.0,82733.0,74290.0,70116.0,69063.0,70886.0,69109.0,82326.0,69932.0,72905.0,69702.0,70300.0,70643.0,86979.0,76532.0,67546.0,88420.0,69719.0,90933.0,113734.0,73395.0,92556.0,67384.0,80573.0,77870.0,70932.0,91249.0,77598.0,80982.0,70617.0,64849.0,67472.0,75903.0,73356.0,72570.0,70792.0,83891.0,80872.0,72335.0,76842.0,96843.0,70053.0,71670.0,74485.0,77226.0,72643.0,85738.0,94642.0,72968.0,91712.0,94472.0,96547.0,79205.0,67506.0,68805.0,65814.0,71964.0,96876.0,68281.0,77027.0,71322.0,68117.0,67225.0,75330.0,83273.0,65308.0,76467.0,81044.0,76320.0,71128.0,70179.0,70038.0,67445.0,67046.0,77610.0,71866.0,69520.0,64713.0,68487.0,87000.0,79823.0,71322.0,79244.0,80144.0,81929.0,76068.0,67911.0,78128.0,72967.0,82332.0,66476.0,69805.0,72217.0,84906.0,82333.0,65220.0,72309.0,156924.0,65487.0,65333.0,78499.0,69209.0,74859.0,72071.0,91172.0,90000.0,69263.0,65706.0,71965.0,65210.0,79174.0,81380.0,67716.0,76234.0,84117.0,65487.0,89616.0,82347.0,73803.0,73807.0,88325.0,80617.0,82032.0,75777.0,69245.0],\"y\":[56,75,72,67,56,75,51,41,45,67,64,57,44,43,66,55,39,46,70,73,42,63,51,67,62,49,45,34,48,70,42,76,62,61,42,30,30,51,38,56,37,65,52,29,45,59,47,52,72,66,76,46,48,33,46,73,70,75,45,32,41,67,67,69,53,44,67,36,73,41,52,51,49,59,63,53,63,31,49,68,33,52,47,54,53,58,51,68,58,40,35,47,69,55,41,39,60,74,45,36,50,65,53,56,33,69,51,64,35,55,47,52,78,64,61,59,60,53,42,28,53,30,56,50,66,59,78,27,40,47,80,35,32,60,54,57,55,57,41,45,55,39,72,58,52,66,61,57,45,63,66,50,72,77,45,32,62,46,62,77,34,68,63,52,59,54,39,57,72,39,62,41,50,59,66,46,56,66,56,45,72,66,46,61,51,63,48,69,50,73,74,51,44,63,61,47,46,74,51,41,58,42,41,58,54,54,45,49,39,32,52,61,48,43,43,33,35,73,46,61,56,56,66,45,30,43,48,72,48,69,57,69,26,49,52,42,54,33,69,44,34,42,70,63,50,47,64,67,48,77,49,46,35,51,49,41,62,62,67,63,65,41,61,51,67,64,32,38,68,65,49,51,43,38,63,63,54,44,60,55,29,27,61,39,67,28,35,43,39,28,45,47,70,69,50,51,69,38,68,42,46,54,48,33,50,59,62,71,47,43,52,45,67,67,43,65,34,68,69,42,56,57,50,50,52,48,59,61,56,72,36,69,34,63,57,29,43,55,60,40,56,65,51,63,63,48,62,63,35,46,61,47,56,67,38,61,50,53,55,70,45,36,59,57,47,60,27,73,52,31,64,30,51,52,52,49,64,56,66,49,52,30,64,62,50,49,59,74,46,56,69,54,49,58,46,52,38,39,46,63,50,43,38,49,75,50,68,42,56,39,61,65,66,61,53,59,76,59,73,43,39,59,65,28,56,39,59,58,63,63,73,42,49,68,44,49,77,49,36,54,73,75,50,39,48,56,68,52,51,71,69,51,52,63,65,45,45,51,66,33,62,62,33,50,33,56,35,38,50,73,34,46,62,50,60,43,64,56,59,47,45,67,67,64,75,30,74,74,71,34,34,66,50,65,66,44,57,33,56,39,74,76,40,60,44,40,45,51,54,70,35,66,51,43,41,32,38,70,43,35,62,55,38,30,59,60,70,55,63,67,54,58,74,69,75,52,72,49,44,65,39,36,69,37,53,62,42,59,40,45,47,65,52,67,70,35,63,51,68,64,56,46,26,43,37,50,49,55,50,39,44,57,63,70,46,37,50,46,33,32,47,67,76,34,61,51,50,54,49,65,78,62,51,64,74,70,37,37,70,47,70,45,71,31,56,59,74,58,72,43,70,58,74,63,41,46,41,62,55,63,44,63,69,56,74,66,44,51,48,51,74,62,48,45,39,47,70,69,65,38,51,33,29,62,45,28,46,45,46,72,47,51,60,52,69,59,49,35,56,45,72,64,48,64,49,72,67,31,37,56,51,70,66,46,54,61,49,65,64,38,64,64,43,40,26,73,39,65],\"z\":[713,1202,1590,507,1606,1106,870,1115,780,1243,426,1494,1336,473,1647,933,1345,588,594,924,1212,462,1460,1181,740,1854,2053,637,1088,755,926,999,1033,785,855,1683,688,1609,895,359,1707,637,554,1996,983,1219,805,434,1326,1083,1657,1269,1605,917,1738,1118,755,875,1490,1067,810,1376,1065,492,1180,1006,987,1057,1551,1060,1007,700,1685,1423,559,1905,847,1433,1610,1301,1916,1391,792,1076,821,1170,716,1416,741,781,741,380,782,1309,1695,733,1003,1101,1450,348,574,1138,1315,1527,1382,614,783,794,1243,999,1166,1494,892,1929,1277,1566,1196,1066,1547,955,702,1523,977,255,1442,926,1230,1326,1223,1276,2098,1659,1097,1656,892,916,691,1186,389,915,1801,1161,613,1170,1250,1692,655,840,983,1882,1632,1764,948,711,880,1033,1740,2001,681,1864,1462,1628,1254,1060,213,972,1900,1447,838,1476,1867,1400,758,983,1643,1903,1186,1022,1149,104,887,839,1016,1683,1526,891,1310,1158,1063,1322,2063,1496,992,422,1855,1083,4,942,782,510,1193,442,548,751,1825,1060,563,1972,1710,1280,968,948,674,527,1199,1589,1243,757,1204,934,928,1532,1256,818,625,473,1402,1627,1029,295,831,1352,810,1357,1686,1280,505,1320,589,1783,1110,636,1302,1158,1271,1048,683,718,1474,997,1223,664,1306,487,705,1720,1867,1389,1601,1370,779,1415,977,1824,507,1657,999,1727,1501,1113,1972,1797,1197,772,1408,768,778,1171,1394,1397,1169,1939,964,1900,1634,1034,1579,1029,1831,955,1323,1080,903,589,853,1723,890,1019,2085,234,930,842,1670,1016,1457,883,1874,1142,375,1816,2213,1157,1669,82,1435,490,1861,751,1352,1858,1135,1167,1321,1834,1001,1088,800,1060,1135,2262,942,1180,830,955,497,1459,881,1211,1860,1210,758,1219,1916,388,1117,1825,681,819,676,1674,1230,514,285,1107,899,1855,1392,708,1580,887,1842,1955,1301,1310,1582,1344,924,742,987,1579,391,2285,1647,1405,1150,873,1074,1606,433,955,1969,1523,626,1191,643,1525,718,666,954,1463,914,1443,594,751,486,1964,1694,1698,1674,1311,1214,919,1834,2094,1466,51,2085,1088,1458,1143,592,1497,621,1436,882,1459,1024,1136,1144,643,1020,1301,1440,1054,206,1431,778,1863,918,219,1761,1280,705,716,736,1610,1362,563,942,225,1766,2052,1142,1060,643,1049,1406,1001,2190,541,1352,1373,934,950,1497,931,785,1585,1768,2343,913,1331,1188,756,1016,1414,1244,1794,1396,1052,1434,870,1034,1076,883,1155,553,489,800,1083,857,633,787,934,1202,2285,1763,1052,927,637,1602,677,1295,2093,1259,1001,497,1382,206,1161,942,778,753,1317,1728,1707,813,1526,1443,1354,2011,839,1265,1382,1588,1033,706,1481,596,2036,1380,1536,1987,1806,1512,883,958,1242,419,1476,505,1052,1159,1176,875,641,2145,478,963,879,1020,942,1059,343,1262,874,855,1257,753,958,1847,1548,835,1050,1039,1238,1541,844,880,900,369,473,1191,1308,1247,1193,1449,894,819,1431,1993,887,1147,963,1504,1652,1584,652,1916,1821,744,1543,12,379,1212,1330,1457,1632,539,1541,1636,1147,1207,1144,328,763,1386,724,1147,716,1216,2071,1044,1510,744,1606,1636,1041,1282,1332,1925,1866,2140,1575,646,823,228,250,698,1750,1726,1566,1164,1091,877,718,987,1188,1097,1473,1084,844,1584,857,1060,1083,735,1631,643,1282,494,1188,895,1402,293,910,1067,1868,1288,948,1204,372,1908,947,1008,1363,1525,1716,1245,1893,6,1006,753,1201,1606,1390,1050,1008,1046,542,1070,927,696,1822,1722,951,866,1495,1006,1518,1657,1328,717,1543,1348,1052,1345,752]},{\"hovertemplate\":\"Income: %{x} <br>Age: %{y} <br>Total_expense: %{z}\",\"marker\":{\"line\":{\"width\":1},\"size\":6},\"mode\":\"markers\",\"name\":\"2\",\"type\":\"scatter3d\",\"x\":[26646.0,33454.0,30351.0,5648.0,7500.0,17323.0,37760.0,33812.0,37040.0,2447.0,18589.0,38360.0,10979.0,38620.0,23718.0,20559.0,21994.0,7500.0,7500.0,35790.0,27938.0,25721.0,32474.0,28332.0,40246.0,26326.0,29760.0,26304.0,23559.0,38620.0,29440.0,36138.0,23626.0,30096.0,34554.0,24594.0,38557.0,36550.0,30753.0,21918.0,32557.0,19510.0,30992.0,9548.0,33762.0,35860.0,36921.0,23957.0,38547.0,35688.0,34176.0,30523.0,23228.0,26091.0,33456.0,28718.0,38853.0,38285.0,16248.0,30477.0,28249.0,25271.0,32303.0,24882.0,38872.0,31353.0,18890.0,29604.0,30732.0,34320.0,37070.0,38590.0,15033.0,22212.0,23661.0,7500.0,22804.0,31686.0,31160.0,29938.0,26490.0,30899.0,18701.0,15287.0,37717.0,38179.0,38097.0,22070.0,31788.0,29315.0,33378.0,24480.0,37760.0,30631.0,35416.0,32414.0,38361.0,16626.0,29672.0,35388.0,35246.0,39747.0,23976.0,27038.0,12571.0,22574.0,28839.0,30833.0,34421.0,14849.0,27255.0,29999.0,24072.0,33996.0,35178.0,22010.0,30675.0,27190.0,30372.0,33181.0,38643.0,28442.0,37717.0,31615.0,35684.0,29548.0,38578.0,22585.0,30279.0,30822.0,33581.0,19986.0,27421.0,35688.0,36143.0,10245.0,38823.0,15345.0,23442.0,14515.0,31395.0,30507.0,27213.0,30351.0,23616.0,19789.0,37401.0,30096.0,18492.0,10404.0,30015.0,32011.0,7500.0,28691.0,18100.0,30279.0,20130.0,23295.0,24027.0,36230.0,38988.0,33183.0,31880.0,37406.0,38415.0,20518.0,38961.0,37760.0,32233.0,14045.0,28457.0,27203.0,24279.0,34935.0,39665.0,36443.0,26095.0,30630.0,25545.0,32880.0,28567.0,22944.0,25315.0,24683.0,19514.0,27159.0,39548.0,21474.0,22419.0,15315.0,33039.0,29298.0,38200.0,38443.0,38593.0,36959.0,13260.0,27450.0,39453.0,26850.0,24221.0,39684.0,33178.0,17459.0,23910.0,26224.0,31089.0,30081.0,21888.0,26150.0,30801.0,26877.0,18978.0,22574.0,35791.0,30522.0,31632.0,36975.0,13624.0,34487.0,28769.0,32218.0,29103.0,26490.0,19986.0,25965.0,14661.0,18690.0,21063.0,29187.0,26751.0,36145.0,38946.0,13084.0,34824.0,26518.0,35682.0,35178.0,25252.0,33249.0,25851.0,18988.0,7500.0,35946.0,17487.0,34941.0,38702.0,17003.0,33697.0,38829.0,35523.0,31626.0,33622.0,6835.0,36283.0,20587.0,30467.0,31590.0,20425.0,17144.0,16813.0,19329.0,34838.0,26872.0,21359.0,30772.0,22507.0,25804.0,22063.0,22419.0,37859.0,16529.0,25130.0,35441.0,34026.0,40049.0,34176.0,19419.0,15072.0,30843.0,38576.0,37758.0,23228.0,7500.0,38683.0,19485.0,30545.0,21675.0,39922.0,17117.0,24762.0,35797.0,36627.0,31814.0,26868.0,37087.0,21846.0,35641.0,39858.0,34469.0,24401.0,25443.0,32892.0,14906.0,39771.0,27922.0,16927.0,40233.0,33471.0,34596.0,15716.0,35704.0,4861.0,33462.0,35340.0,24884.0,34824.0,26091.0,22434.0,36930.0,36130.0,19514.0,36736.0,30168.0,34053.0,38196.0,32300.0,20180.0,34961.0,28440.0,33564.0,17345.0,28647.0,15038.0,32173.0,31056.0,28071.0,37334.0,37126.0,38998.0,8028.0,34728.0,33168.0,33585.0,35196.0,28764.0,25959.0,27100.0,35860.0,16860.0,22304.0,32892.0,39722.0,26907.0,36715.0,24163.0,39190.0,38578.0,27590.0,38508.0,30023.0,15315.0,16269.0,33569.0,36262.0,22634.0,31605.0,39552.0,16581.0,25930.0,36778.0,10979.0,37155.0,21282.0,33419.0,21255.0,26576.0,7500.0,23091.0,35322.0,14421.0,20130.0,23724.0,33444.0,28510.0,15056.0,26954.0,22327.0,31497.0,15287.0,18351.0,36317.0,33629.0,34377.0,8940.0,26228.0,40211.0,33438.0,22518.0,38452.0,38197.0,28427.0,37395.0,28691.0,25707.0,27683.0,1730.0,7500.0,20427.0,39356.0,35860.0,31454.0,19656.0,38808.0,23748.0,37368.0,37633.0,39767.0,26997.0,33986.0,15759.0,22804.0,34043.0,7500.0,23148.0,27238.0,37235.0,37774.0,18393.0,24711.0,6560.0,27244.0,35876.0,40049.0,39660.0,18929.0,24367.0,33249.0,26887.0,18227.0,38136.0,33316.0,17256.0,37971.0,35791.0,21355.0,20895.0,26907.0,22682.0,38887.0,29791.0,39996.0,26759.0,37716.0,36864.0,36947.0,36957.0,34412.0,22634.0,36026.0,24639.0,34578.0,18690.0,28164.0,34596.0,38741.0,31907.0,27100.0,31163.0,34853.0,31086.0,20491.0,39922.0,33402.0,36408.0,21645.0,32727.0,26290.0,38410.0,16531.0,28072.0,23162.0,34380.0,34704.0,39898.0,19414.0,19107.0,35765.0,32952.0,31163.0,20981.0,33039.0,37787.0,27242.0,37697.0,37401.0,3502.0,28087.0,19740.0,23331.0,23331.0,9255.0,31928.0,30390.0,30983.0,37284.0,37054.0,31859.0,27215.0,39922.0,24645.0,38998.0,27161.0,38201.0,34935.0,34633.0,35860.0,34968.0,31497.0,13724.0,17144.0,36108.0,36663.0,27116.0,12393.0,33955.0,31353.0,28359.0,18793.0,19444.0,36301.0,22775.0,30560.0,35924.0,24594.0,39228.0,22448.0,34213.0,25358.0,35544.0,36634.0,34916.0,33996.0,36732.0,37929.0,20193.0,27573.0,15862.0,33228.0,38232.0,22554.0,23536.0,18169.0,24336.0,18222.0,38452.0,18358.0,9722.0,38175.0,18746.0,35196.0,22108.0,17688.0,38513.0,16653.0,23529.0,18690.0,37244.0,37292.0,28389.0,31859.0,30372.0,16014.0,39763.0,38725.0,13533.0,21955.0,36802.0,28249.0,25509.0,29760.0,28973.0,39435.0,20194.0,34600.0,36075.0,34026.0,37697.0,34074.0,28520.0,36273.0,37070.0,7144.0,18701.0,37758.0,21840.0,32583.0,33316.0,25293.0,22669.0,29236.0,32313.0,27071.0,4023.0,30093.0,25008.0,22280.0,21024.0,11448.0,32889.0,34738.0,30538.0,26642.0,23830.0,33051.0,30396.0,30298.0,31158.0,24882.0,22148.0,29819.0,33235.0,35701.0,31535.0,18929.0,36038.0,20180.0,34230.0,31878.0,22701.0,21059.0,29543.0,34984.0,34242.0,25410.0,28320.0,23763.0,34529.0,36065.0,39898.0,29478.0,39062.0,34600.0,4428.0,32632.0,38236.0,36781.0,31385.0,24570.0,25509.0,21994.0,23477.0,39791.0,13672.0,32644.0,24206.0,28420.0,22979.0,33279.0,30368.0,39146.0,34445.0,37284.0,36790.0,27943.0,22263.0,30261.0,28587.0,32765.0,29672.0,23272.0,7500.0,17649.0,40059.0,38680.0,29009.0,37150.0,32871.0,36927.0,23478.0,38361.0,31761.0,34350.0,25293.0,27889.0,22123.0,27803.0,30828.0,34109.0,22390.0,14796.0,14188.0,20425.0,34587.0,27733.0,25818.0,37509.0,25176.0,33590.0,30992.0,16005.0,20587.0,29435.0,19346.0,35788.0,36997.0,23539.0,29732.0,17148.0,30560.0,32146.0,34176.0,15253.0,31560.0,38946.0,26067.0,26487.0,25224.0,27469.0,8820.0,37085.0,16185.0,18929.0,35893.0,32144.0,14918.0,38054.0,5305.0,36807.0,28427.0,22775.0,40101.0,7500.0,33562.0,24434.0,11012.0,26816.0,34421.0],\"y\":[37,36,47,71,45,34,75,36,39,42,52,32,32,58,45,36,64,46,25,44,33,50,54,69,44,45,36,52,48,58,61,51,51,38,62,42,43,43,54,52,54,36,45,45,62,48,56,46,40,48,33,63,37,64,56,39,51,62,33,37,60,38,51,43,33,44,37,33,41,35,55,50,70,46,39,48,50,57,46,36,63,47,57,42,43,55,51,51,38,61,58,40,75,47,72,37,52,50,56,33,63,33,37,55,45,54,65,70,47,45,37,35,38,32,50,38,49,48,50,45,43,43,43,45,37,51,49,51,32,52,52,36,67,48,40,50,72,37,34,41,65,61,49,47,39,46,48,38,39,32,51,50,35,32,75,32,47,62,45,50,49,46,51,41,43,33,48,49,47,52,69,71,31,29,40,60,31,56,34,35,39,40,44,31,53,48,58,32,58,51,43,70,51,53,43,40,51,70,38,50,62,37,44,46,52,43,40,60,35,65,46,52,48,54,56,61,50,43,45,44,44,61,36,63,36,41,65,62,34,53,47,36,66,69,26,72,51,50,35,46,43,37,45,72,32,65,43,46,51,62,40,43,49,64,45,51,49,49,35,61,71,53,70,40,49,45,67,43,49,58,59,37,41,54,71,47,33,40,41,55,48,55,52,34,32,35,42,45,38,43,49,46,46,48,30,47,35,49,52,73,42,32,50,35,44,42,45,46,48,47,33,69,56,42,65,49,26,64,34,67,67,53,58,43,53,50,48,45,48,47,55,43,43,34,63,44,41,63,50,67,30,35,56,55,37,55,51,38,48,60,65,50,68,45,50,51,47,49,39,35,49,51,37,38,38,55,42,59,36,54,53,32,32,43,59,47,35,42,58,53,25,47,42,69,40,63,50,36,59,42,31,56,58,58,35,48,40,63,35,66,35,38,45,32,37,43,50,29,48,45,48,61,51,49,53,46,64,70,70,51,65,50,43,43,36,59,37,44,47,39,39,42,38,69,39,31,39,46,62,34,43,50,29,48,56,36,48,45,48,49,49,47,49,68,64,54,68,31,55,49,48,49,62,51,47,63,49,38,48,48,42,35,38,69,72,42,56,49,47,43,35,51,44,55,67,40,41,31,44,48,44,43,49,51,45,48,48,63,61,33,33,32,32,34,58,46,54,45,60,38,33,67,35,61,29,65,48,41,59,33,61,37,46,60,43,46,44,38,50,39,45,43,45,52,42,61,39,58,74,43,67,53,32,62,36,30,46,42,41,50,66,38,36,40,31,66,32,48,37,29,37,44,42,39,42,56,62,66,38,74,41,50,42,50,66,42,35,41,60,47,36,44,48,42,50,38,71,45,69,61,44,55,55,57,55,38,60,50,52,46,34,39,53,58,31,33,46,45,46,53,37,50,54,34,62,52,36,36,43,38,50,35,62,41,31,40,45,56,44,44,39,53,46,62,48,71,44,45,53,67,45,38,50,52,58,53,42,37,37,47,64,35,50,61,48,51,54,51,55,44,35,40,46,38,54,70,49,43,42,56,68,36,45,37,37,40,50,70,66,56,52,37,42,52,44,61,48,41,50,52,37,49,35,68,40,50,45,45,47,45,41,51,55,47,50,53,64,50,45,45,38,46,29,47,66,47,43,49,74,69,46,31,31,53,67,58,71,45,67,38,43,36,42,58,49,37,35,47],\"z\":[45,145,41,35,44,40,277,70,230,1728,50,100,24,207,38,46,18,17,50,68,23,13,11,41,11,6,143,12,56,207,49,146,43,31,50,20,114,354,42,25,66,19,38,14,90,27,33,41,17,178,55,8,112,52,28,33,43,9,36,54,19,39,37,44,50,23,18,33,181,17,379,16,15,40,22,30,24,16,50,13,165,32,28,15,19,68,114,44,46,37,82,60,277,45,336,31,115,54,13,21,50,208,38,69,24,35,31,21,19,54,34,144,19,65,39,25,39,14,34,12,38,43,19,31,21,17,67,40,32,27,16,14,229,178,13,24,83,26,16,25,49,213,58,41,40,44,44,31,8,25,49,116,21,30,10,32,16,3,43,54,303,68,12,12,40,15,45,44,213,18,162,40,93,107,184,115,30,42,113,34,38,45,29,28,40,20,32,57,99,39,58,10,16,37,129,62,40,80,53,52,28,60,31,29,53,39,67,38,146,22,32,210,15,35,32,289,48,27,29,94,185,62,39,165,14,56,22,37,41,32,7,153,210,12,19,52,37,39,10,56,38,14,32,11,8,70,61,23,14,83,50,51,65,123,24,15,14,29,24,39,35,53,109,24,37,15,345,37,33,99,33,21,14,37,51,218,55,60,25,26,41,39,39,9,234,10,50,37,119,103,31,46,15,62,9,398,48,141,62,45,328,16,43,35,28,26,48,130,72,16,59,53,5,43,39,16,19,52,30,256,395,40,13,240,91,41,28,99,77,63,64,46,56,42,20,31,243,45,61,49,164,30,118,87,271,11,25,27,27,21,12,43,39,17,328,14,113,67,11,370,34,39,43,39,245,44,118,319,10,11,69,24,56,18,68,56,18,13,46,86,5,16,43,16,68,42,16,19,150,15,22,118,148,87,53,15,61,82,32,70,36,43,27,30,12,294,6,53,9,17,27,39,44,197,53,18,37,412,241,38,14,24,39,28,24,54,35,295,46,48,108,31,112,26,250,63,8,56,20,14,50,115,32,21,32,32,41,17,57,39,20,14,52,145,265,116,120,118,44,40,39,8,37,58,16,42,359,27,26,29,32,18,119,57,17,41,446,50,456,28,42,39,150,34,115,20,25,55,53,26,30,58,85,66,72,44,4,91,31,48,249,18,65,59,117,16,19,15,65,119,16,49,41,256,107,14,27,217,150,16,39,281,27,36,37,253,23,13,40,42,61,14,19,24,20,14,35,88,24,62,302,189,65,39,253,62,214,17,62,83,37,9,14,17,47,70,49,45,147,35,271,23,8,306,58,32,37,30,371,16,29,34,23,145,39,31,30,19,19,83,143,255,89,22,300,88,51,72,187,21,65,379,123,28,39,26,8,115,26,103,81,148,30,7,49,24,10,64,6,45,18,344,32,19,522,21,27,67,44,34,36,63,38,32,63,38,99,19,42,15,33,41,30,14,21,37,34,115,69,115,18,32,300,34,504,78,47,17,135,83,18,110,140,19,383,20,13,72,16,50,141,680,16,35,33,19,13,55,40,13,32,52,39,259,62,37,317,36,67,73,115,56,36,26,18,64,118,44,17,20,31,36,24,20,38,17,110,8,6,38,26,15,114,14,39,67,55,33,42,19,56,24,15,87,210,42,32,36,15,29,58,53,63,181,51,24,44,24,11,43,14,329,24,45,33,60,15,19]}],                        {\"autosize\":true,\"font\":{\"color\":\"black\",\"family\":\"Gilroy\",\"size\":12},\"height\":800,\"scene\":{\"xaxis\":{\"title\":{\"font\":{\"color\":\"black\"},\"text\":\"Income\"}},\"yaxis\":{\"title\":{\"font\":{\"color\":\"black\"},\"text\":\"Age\"}},\"zaxis\":{\"title\":{\"font\":{\"color\":\"black\"},\"text\":\"Expense\"}}},\"showlegend\":true,\"template\":{\"data\":{\"bar\":[{\"error_x\":{\"color\":\"#2a3f5f\"},\"error_y\":{\"color\":\"#2a3f5f\"},\"marker\":{\"line\":{\"color\":\"#E5ECF6\",\"width\":0.5},\"pattern\":{\"fillmode\":\"overlay\",\"size\":10,\"solidity\":0.2}},\"type\":\"bar\"}],\"barpolar\":[{\"marker\":{\"line\":{\"color\":\"#E5ECF6\",\"width\":0.5},\"pattern\":{\"fillmode\":\"overlay\",\"size\":10,\"solidity\":0.2}},\"type\":\"barpolar\"}],\"carpet\":[{\"aaxis\":{\"endlinecolor\":\"#2a3f5f\",\"gridcolor\":\"white\",\"linecolor\":\"white\",\"minorgridcolor\":\"white\",\"startlinecolor\":\"#2a3f5f\"},\"baxis\":{\"endlinecolor\":\"#2a3f5f\",\"gridcolor\":\"white\",\"linecolor\":\"white\",\"minorgridcolor\":\"white\",\"startlinecolor\":\"#2a3f5f\"},\"type\":\"carpet\"}],\"choropleth\":[{\"colorbar\":{\"outlinewidth\":0,\"ticks\":\"\"},\"type\":\"choropleth\"}],\"contour\":[{\"colorbar\":{\"outlinewidth\":0,\"ticks\":\"\"},\"colorscale\":[[0.0,\"#0d0887\"],[0.1111111111111111,\"#46039f\"],[0.2222222222222222,\"#7201a8\"],[0.3333333333333333,\"#9c179e\"],[0.4444444444444444,\"#bd3786\"],[0.5555555555555556,\"#d8576b\"],[0.6666666666666666,\"#ed7953\"],[0.7777777777777778,\"#fb9f3a\"],[0.8888888888888888,\"#fdca26\"],[1.0,\"#f0f921\"]],\"type\":\"contour\"}],\"contourcarpet\":[{\"colorbar\":{\"outlinewidth\":0,\"ticks\":\"\"},\"type\":\"contourcarpet\"}],\"heatmap\":[{\"colorbar\":{\"outlinewidth\":0,\"ticks\":\"\"},\"colorscale\":[[0.0,\"#0d0887\"],[0.1111111111111111,\"#46039f\"],[0.2222222222222222,\"#7201a8\"],[0.3333333333333333,\"#9c179e\"],[0.4444444444444444,\"#bd3786\"],[0.5555555555555556,\"#d8576b\"],[0.6666666666666666,\"#ed7953\"],[0.7777777777777778,\"#fb9f3a\"],[0.8888888888888888,\"#fdca26\"],[1.0,\"#f0f921\"]],\"type\":\"heatmap\"}],\"heatmapgl\":[{\"colorbar\":{\"outlinewidth\":0,\"ticks\":\"\"},\"colorscale\":[[0.0,\"#0d0887\"],[0.1111111111111111,\"#46039f\"],[0.2222222222222222,\"#7201a8\"],[0.3333333333333333,\"#9c179e\"],[0.4444444444444444,\"#bd3786\"],[0.5555555555555556,\"#d8576b\"],[0.6666666666666666,\"#ed7953\"],[0.7777777777777778,\"#fb9f3a\"],[0.8888888888888888,\"#fdca26\"],[1.0,\"#f0f921\"]],\"type\":\"heatmapgl\"}],\"histogram\":[{\"marker\":{\"pattern\":{\"fillmode\":\"overlay\",\"size\":10,\"solidity\":0.2}},\"type\":\"histogram\"}],\"histogram2d\":[{\"colorbar\":{\"outlinewidth\":0,\"ticks\":\"\"},\"colorscale\":[[0.0,\"#0d0887\"],[0.1111111111111111,\"#46039f\"],[0.2222222222222222,\"#7201a8\"],[0.3333333333333333,\"#9c179e\"],[0.4444444444444444,\"#bd3786\"],[0.5555555555555556,\"#d8576b\"],[0.6666666666666666,\"#ed7953\"],[0.7777777777777778,\"#fb9f3a\"],[0.8888888888888888,\"#fdca26\"],[1.0,\"#f0f921\"]],\"type\":\"histogram2d\"}],\"histogram2dcontour\":[{\"colorbar\":{\"outlinewidth\":0,\"ticks\":\"\"},\"colorscale\":[[0.0,\"#0d0887\"],[0.1111111111111111,\"#46039f\"],[0.2222222222222222,\"#7201a8\"],[0.3333333333333333,\"#9c179e\"],[0.4444444444444444,\"#bd3786\"],[0.5555555555555556,\"#d8576b\"],[0.6666666666666666,\"#ed7953\"],[0.7777777777777778,\"#fb9f3a\"],[0.8888888888888888,\"#fdca26\"],[1.0,\"#f0f921\"]],\"type\":\"histogram2dcontour\"}],\"mesh3d\":[{\"colorbar\":{\"outlinewidth\":0,\"ticks\":\"\"},\"type\":\"mesh3d\"}],\"parcoords\":[{\"line\":{\"colorbar\":{\"outlinewidth\":0,\"ticks\":\"\"}},\"type\":\"parcoords\"}],\"pie\":[{\"automargin\":true,\"type\":\"pie\"}],\"scatter\":[{\"marker\":{\"colorbar\":{\"outlinewidth\":0,\"ticks\":\"\"}},\"type\":\"scatter\"}],\"scatter3d\":[{\"line\":{\"colorbar\":{\"outlinewidth\":0,\"ticks\":\"\"}},\"marker\":{\"colorbar\":{\"outlinewidth\":0,\"ticks\":\"\"}},\"type\":\"scatter3d\"}],\"scattercarpet\":[{\"marker\":{\"colorbar\":{\"outlinewidth\":0,\"ticks\":\"\"}},\"type\":\"scattercarpet\"}],\"scattergeo\":[{\"marker\":{\"colorbar\":{\"outlinewidth\":0,\"ticks\":\"\"}},\"type\":\"scattergeo\"}],\"scattergl\":[{\"marker\":{\"colorbar\":{\"outlinewidth\":0,\"ticks\":\"\"}},\"type\":\"scattergl\"}],\"scattermapbox\":[{\"marker\":{\"colorbar\":{\"outlinewidth\":0,\"ticks\":\"\"}},\"type\":\"scattermapbox\"}],\"scatterpolar\":[{\"marker\":{\"colorbar\":{\"outlinewidth\":0,\"ticks\":\"\"}},\"type\":\"scatterpolar\"}],\"scatterpolargl\":[{\"marker\":{\"colorbar\":{\"outlinewidth\":0,\"ticks\":\"\"}},\"type\":\"scatterpolargl\"}],\"scatterternary\":[{\"marker\":{\"colorbar\":{\"outlinewidth\":0,\"ticks\":\"\"}},\"type\":\"scatterternary\"}],\"surface\":[{\"colorbar\":{\"outlinewidth\":0,\"ticks\":\"\"},\"colorscale\":[[0.0,\"#0d0887\"],[0.1111111111111111,\"#46039f\"],[0.2222222222222222,\"#7201a8\"],[0.3333333333333333,\"#9c179e\"],[0.4444444444444444,\"#bd3786\"],[0.5555555555555556,\"#d8576b\"],[0.6666666666666666,\"#ed7953\"],[0.7777777777777778,\"#fb9f3a\"],[0.8888888888888888,\"#fdca26\"],[1.0,\"#f0f921\"]],\"type\":\"surface\"}],\"table\":[{\"cells\":{\"fill\":{\"color\":\"#EBF0F8\"},\"line\":{\"color\":\"white\"}},\"header\":{\"fill\":{\"color\":\"#C8D4E3\"},\"line\":{\"color\":\"white\"}},\"type\":\"table\"}]},\"layout\":{\"annotationdefaults\":{\"arrowcolor\":\"#2a3f5f\",\"arrowhead\":0,\"arrowwidth\":1},\"autotypenumbers\":\"strict\",\"coloraxis\":{\"colorbar\":{\"outlinewidth\":0,\"ticks\":\"\"}},\"colorscale\":{\"diverging\":[[0,\"#8e0152\"],[0.1,\"#c51b7d\"],[0.2,\"#de77ae\"],[0.3,\"#f1b6da\"],[0.4,\"#fde0ef\"],[0.5,\"#f7f7f7\"],[0.6,\"#e6f5d0\"],[0.7,\"#b8e186\"],[0.8,\"#7fbc41\"],[0.9,\"#4d9221\"],[1,\"#276419\"]],\"sequential\":[[0.0,\"#0d0887\"],[0.1111111111111111,\"#46039f\"],[0.2222222222222222,\"#7201a8\"],[0.3333333333333333,\"#9c179e\"],[0.4444444444444444,\"#bd3786\"],[0.5555555555555556,\"#d8576b\"],[0.6666666666666666,\"#ed7953\"],[0.7777777777777778,\"#fb9f3a\"],[0.8888888888888888,\"#fdca26\"],[1.0,\"#f0f921\"]],\"sequentialminus\":[[0.0,\"#0d0887\"],[0.1111111111111111,\"#46039f\"],[0.2222222222222222,\"#7201a8\"],[0.3333333333333333,\"#9c179e\"],[0.4444444444444444,\"#bd3786\"],[0.5555555555555556,\"#d8576b\"],[0.6666666666666666,\"#ed7953\"],[0.7777777777777778,\"#fb9f3a\"],[0.8888888888888888,\"#fdca26\"],[1.0,\"#f0f921\"]]},\"colorway\":[\"#636efa\",\"#EF553B\",\"#00cc96\",\"#ab63fa\",\"#FFA15A\",\"#19d3f3\",\"#FF6692\",\"#B6E880\",\"#FF97FF\",\"#FECB52\"],\"font\":{\"color\":\"#2a3f5f\"},\"geo\":{\"bgcolor\":\"white\",\"lakecolor\":\"white\",\"landcolor\":\"#E5ECF6\",\"showlakes\":true,\"showland\":true,\"subunitcolor\":\"white\"},\"hoverlabel\":{\"align\":\"left\"},\"hovermode\":\"closest\",\"mapbox\":{\"style\":\"light\"},\"paper_bgcolor\":\"white\",\"plot_bgcolor\":\"#E5ECF6\",\"polar\":{\"angularaxis\":{\"gridcolor\":\"white\",\"linecolor\":\"white\",\"ticks\":\"\"},\"bgcolor\":\"#E5ECF6\",\"radialaxis\":{\"gridcolor\":\"white\",\"linecolor\":\"white\",\"ticks\":\"\"}},\"scene\":{\"xaxis\":{\"backgroundcolor\":\"#E5ECF6\",\"gridcolor\":\"white\",\"gridwidth\":2,\"linecolor\":\"white\",\"showbackground\":true,\"ticks\":\"\",\"zerolinecolor\":\"white\"},\"yaxis\":{\"backgroundcolor\":\"#E5ECF6\",\"gridcolor\":\"white\",\"gridwidth\":2,\"linecolor\":\"white\",\"showbackground\":true,\"ticks\":\"\",\"zerolinecolor\":\"white\"},\"zaxis\":{\"backgroundcolor\":\"#E5ECF6\",\"gridcolor\":\"white\",\"gridwidth\":2,\"linecolor\":\"white\",\"showbackground\":true,\"ticks\":\"\",\"zerolinecolor\":\"white\"}},\"shapedefaults\":{\"line\":{\"color\":\"#2a3f5f\"}},\"ternary\":{\"aaxis\":{\"gridcolor\":\"white\",\"linecolor\":\"white\",\"ticks\":\"\"},\"baxis\":{\"gridcolor\":\"white\",\"linecolor\":\"white\",\"ticks\":\"\"},\"bgcolor\":\"#E5ECF6\",\"caxis\":{\"gridcolor\":\"white\",\"linecolor\":\"white\",\"ticks\":\"\"}},\"title\":{\"x\":0.05},\"xaxis\":{\"automargin\":true,\"gridcolor\":\"white\",\"linecolor\":\"white\",\"ticks\":\"\",\"title\":{\"standoff\":15},\"zerolinecolor\":\"white\",\"zerolinewidth\":2},\"yaxis\":{\"automargin\":true,\"gridcolor\":\"white\",\"linecolor\":\"white\",\"ticks\":\"\",\"title\":{\"standoff\":15},\"zerolinecolor\":\"white\",\"zerolinewidth\":2}}},\"width\":800},                        {\"responsive\": true}                    ).then(function(){\n",
       "                            \n",
       "var gd = document.getElementById('9b360baf-bec5-4442-8d7d-0aa1ae9f4c37');\n",
       "var x = new MutationObserver(function (mutations, observer) {{\n",
       "        var display = window.getComputedStyle(gd).display;\n",
       "        if (!display || display === 'none') {{\n",
       "            console.log([gd, 'removed!']);\n",
       "            Plotly.purge(gd);\n",
       "            observer.disconnect();\n",
       "        }}\n",
       "}});\n",
       "\n",
       "// Listen for the removal of the full notebook cells\n",
       "var notebookContainer = gd.closest('#notebook-container');\n",
       "if (notebookContainer) {{\n",
       "    x.observe(notebookContainer, {childList: true});\n",
       "}}\n",
       "\n",
       "// Listen for the clearing of the current output cell\n",
       "var outputEl = gd.closest('.output');\n",
       "if (outputEl) {{\n",
       "    x.observe(outputEl, {childList: true});\n",
       "}}\n",
       "\n",
       "                        })                };                });            </script>        </div>"
      ]
     },
     "metadata": {},
     "output_type": "display_data"
    }
   ],
   "source": [
    "# plotting the cluster\n",
    "PLOT = go.Figure()\n",
    "for C in list(df1.Cluster.unique()):\n",
    "    \n",
    "\n",
    "    PLOT.add_trace(go.Scatter3d(x = df1[df1.Cluster == C]['Income'],\n",
    "                                y = df1[df1.Cluster == C]['Age'],\n",
    "                                z = df1[df1.Cluster == C]['Total_expense'],                        \n",
    "                                mode = 'markers',marker_size = 6, marker_line_width = 1,\n",
    "                                name = str(C)))\n",
    "PLOT.update_traces(hovertemplate='Income: %{x} <br>Age: %{y} <br>Total_expense: %{z}')\n",
    "\n",
    "    \n",
    "PLOT.update_layout(width = 800, height = 800, autosize = True, showlegend = True,\n",
    "                   scene = dict(xaxis=dict(title = 'Income', titlefont_color = 'black'),\n",
    "                                yaxis=dict(title = 'Age', titlefont_color = 'black'),\n",
    "                                zaxis=dict(title = 'Expense', titlefont_color = 'black')),\n",
    "                   font = dict(family = \"Gilroy\", color  = 'black', size = 12))"
   ]
  }
 ],
 "metadata": {
  "kernelspec": {
   "display_name": "Python 3",
   "language": "python",
   "name": "python3"
  },
  "language_info": {
   "codemirror_mode": {
    "name": "ipython",
    "version": 3
   },
   "file_extension": ".py",
   "mimetype": "text/x-python",
   "name": "python",
   "nbconvert_exporter": "python",
   "pygments_lexer": "ipython3",
   "version": "3.9.6"
  }
 },
 "nbformat": 4,
 "nbformat_minor": 4
}
